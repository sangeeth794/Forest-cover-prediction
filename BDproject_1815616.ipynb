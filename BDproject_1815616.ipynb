{
  "nbformat": 4,
  "nbformat_minor": 0,
  "metadata": {
    "colab": {
      "name": "BDproject_1815616.ipynb",
      "provenance": [],
      "collapsed_sections": []
    },
    "kernelspec": {
      "display_name": "Python 3",
      "language": "python",
      "name": "python3"
    },
    "language_info": {
      "codemirror_mode": {
        "name": "ipython",
        "version": 3
      },
      "file_extension": ".py",
      "mimetype": "text/x-python",
      "name": "python",
      "nbconvert_exporter": "python",
      "pygments_lexer": "ipython3",
      "version": "3.7.3"
    }
  },
  "cells": [
    {
      "cell_type": "markdown",
      "metadata": {
        "colab_type": "text",
        "id": "qWh4M-hz04Bf"
      },
      "source": [
        "# Installing pyspark and dependancies\n"
      ]
    },
    {
      "cell_type": "code",
      "metadata": {
        "colab_type": "code",
        "id": "MrqLYVv80-_O",
        "colab": {
          "base_uri": "https://localhost:8080/",
          "height": 136
        },
        "outputId": "06ee6429-a9fe-4704-cf4b-39e1d2c0d2f9"
      },
      "source": [
        "!pip install pyspark\n",
        "!pip install -U -q PyDrive\n",
        "!apt install openjdk-8-jdk-headless -qq\n"
      ],
      "execution_count": 2,
      "outputs": [
        {
          "output_type": "stream",
          "text": [
            "Requirement already satisfied: pyspark in /usr/local/lib/python3.6/dist-packages (3.0.0)\n",
            "Requirement already satisfied: py4j==0.10.9 in /usr/local/lib/python3.6/dist-packages (from pyspark) (0.10.9)\n",
            "openjdk-8-jdk-headless is already the newest version (8u252-b09-1~18.04).\n",
            "The following package was automatically installed and is no longer required:\n",
            "  libnvidia-common-440\n",
            "Use 'apt autoremove' to remove it.\n",
            "0 upgraded, 0 newly installed, 0 to remove and 33 not upgraded.\n"
          ],
          "name": "stdout"
        }
      ]
    },
    {
      "cell_type": "code",
      "metadata": {
        "colab_type": "code",
        "id": "7Np4JFKpMSzo",
        "colab": {}
      },
      "source": [
        "import os\n",
        "os.environ[\"JAVA_HOME\"] = \"/usr/lib/jvm/java-8-openjdk-amd64\"\n"
      ],
      "execution_count": 3,
      "outputs": []
    },
    {
      "cell_type": "markdown",
      "metadata": {
        "colab_type": "text",
        "id": "kLUrFWTo1TYF"
      },
      "source": [
        "# Importing packages and libraries"
      ]
    },
    {
      "cell_type": "code",
      "metadata": {
        "colab_type": "code",
        "id": "saC_-Jdr1YtT",
        "colab": {
          "base_uri": "https://localhost:8080/",
          "height": 71
        },
        "outputId": "d47e85c6-35b8-470d-ca18-50c8114e7a28"
      },
      "source": [
        "#Pyspark libraries:\n",
        "import pyspark\n",
        "from pyspark import SparkContext, SparkConf\n",
        "from pyspark.sql import SparkSession\n",
        "from pyspark.sql.functions import *\n",
        "from pyspark.ml.evaluation import MulticlassClassificationEvaluator\n",
        "from pyspark.ml.tuning import CrossValidator, ParamGridBuilder\n",
        "from pyspark.ml.feature import VectorAssembler\n",
        "from pyspark.ml.stat import Correlation\n",
        "from pyspark.ml.classification import LogisticRegression\n",
        "from pyspark.ml.classification import DecisionTreeClassifier\n",
        "from pyspark.ml.classification import RandomForestClassifier\n",
        "from pyspark.sql.functions import isnan, when, count, col\n",
        "\n",
        "\n",
        "\n",
        "#For Data representation and visualisation:\n",
        "import pandas as pd\n",
        "import numpy as np\n",
        "pd.set_option('display.max_columns', 60)\n",
        "import seaborn as sns\n",
        "import matplotlib.pyplot as plt\n",
        "%matplotlib inline\n",
        "from sklearn.metrics import confusion_matrix\n",
        "from sklearn.metrics import roc_curve, auc, roc_auc_score\n",
        "from sklearn.preprocessing import LabelBinarizer"
      ],
      "execution_count": 1,
      "outputs": [
        {
          "output_type": "stream",
          "text": [
            "/usr/local/lib/python3.6/dist-packages/statsmodels/tools/_testing.py:19: FutureWarning: pandas.util.testing is deprecated. Use the functions in the public API at pandas.testing instead.\n",
            "  import pandas.util.testing as tm\n"
          ],
          "name": "stderr"
        }
      ]
    },
    {
      "cell_type": "markdown",
      "metadata": {
        "colab_type": "text",
        "id": "eB1vCjr22vHt"
      },
      "source": [
        "# Creating spark sesssion"
      ]
    },
    {
      "cell_type": "code",
      "metadata": {
        "colab_type": "code",
        "id": "bcP0MgkGMvcF",
        "colab": {}
      },
      "source": [
        "conf = SparkConf().set(\"spark.ui.port\", \"4050\").set('spark.executor.memory', '4G').set('spark.driver.memory', '45G').set('spark.driver.maxResultSize', '10G')\n",
        "\n",
        "sc = pyspark.SparkContext(conf=conf)\n",
        "spark = SparkSession.builder.appName('Forest_Covertype').getOrCreate()"
      ],
      "execution_count": 2,
      "outputs": []
    },
    {
      "cell_type": "markdown",
      "metadata": {
        "colab_type": "text",
        "id": "Gv4gld-pPOTu"
      },
      "source": [
        "# Create ngrok tunnel to check the Spark UI"
      ]
    },
    {
      "cell_type": "code",
      "metadata": {
        "colab_type": "code",
        "id": "EIZwBshIOv24",
        "colab": {
          "base_uri": "https://localhost:8080/",
          "height": 255
        },
        "outputId": "9c766bd0-da84-464e-a0eb-c1eeba12cb26"
      },
      "source": [
        "!wget https://bin.equinox.io/c/4VmDzA7iaHb/ngrok-stable-linux-amd64.zip\n",
        "!unzip ngrok-stable-linux-amd64.zip\n",
        "get_ipython().system_raw('./ngrok http 4050 &')\n",
        "!curl -s http://localhost:4040/api/tunnels | python3 -c \\\n",
        "    \"import sys, json; print(json.load(sys.stdin)['tunnels'][0]['public_url'])\""
      ],
      "execution_count": 5,
      "outputs": [
        {
          "output_type": "stream",
          "text": [
            "--2020-07-10 19:04:38--  https://bin.equinox.io/c/4VmDzA7iaHb/ngrok-stable-linux-amd64.zip\n",
            "Resolving bin.equinox.io (bin.equinox.io)... 34.225.3.211, 34.192.84.136, 3.212.117.40, ...\n",
            "Connecting to bin.equinox.io (bin.equinox.io)|34.225.3.211|:443... connected.\n",
            "HTTP request sent, awaiting response... 200 OK\n",
            "Length: 13773305 (13M) [application/octet-stream]\n",
            "Saving to: ‘ngrok-stable-linux-amd64.zip’\n",
            "\n",
            "\r          ngrok-sta   0%[                    ]       0  --.-KB/s               \r         ngrok-stab  54%[=========>          ]   7.10M  35.4MB/s               \rngrok-stable-linux- 100%[===================>]  13.13M  44.2MB/s    in 0.3s    \n",
            "\n",
            "2020-07-10 19:04:39 (44.2 MB/s) - ‘ngrok-stable-linux-amd64.zip’ saved [13773305/13773305]\n",
            "\n",
            "Archive:  ngrok-stable-linux-amd64.zip\n",
            "  inflating: ngrok                   \n",
            "https://25467b5db80e.ngrok.io\n"
          ],
          "name": "stdout"
        }
      ]
    },
    {
      "cell_type": "markdown",
      "metadata": {
        "colab_type": "text",
        "id": "Ai3hNrmIPiXo"
      },
      "source": [
        "# Checking if everything is ok "
      ]
    },
    {
      "cell_type": "code",
      "metadata": {
        "colab_type": "code",
        "id": "tc0CHmHZ28hT",
        "colab": {
          "base_uri": "https://localhost:8080/",
          "height": 216
        },
        "outputId": "355f16b6-5c93-4c7d-da53-4e3125f69987"
      },
      "source": [
        "\n",
        "spark"
      ],
      "execution_count": 6,
      "outputs": [
        {
          "output_type": "execute_result",
          "data": {
            "text/html": [
              "\n",
              "            <div>\n",
              "                <p><b>SparkSession - in-memory</b></p>\n",
              "                \n",
              "        <div>\n",
              "            <p><b>SparkContext</b></p>\n",
              "\n",
              "            <p><a href=\"http://159eaddb9168:4050\">Spark UI</a></p>\n",
              "\n",
              "            <dl>\n",
              "              <dt>Version</dt>\n",
              "                <dd><code>v3.0.0</code></dd>\n",
              "              <dt>Master</dt>\n",
              "                <dd><code>local[*]</code></dd>\n",
              "              <dt>AppName</dt>\n",
              "                <dd><code>pyspark-shell</code></dd>\n",
              "            </dl>\n",
              "        </div>\n",
              "        \n",
              "            </div>\n",
              "        "
            ],
            "text/plain": [
              "<pyspark.sql.session.SparkSession at 0x7f122ed04d68>"
            ]
          },
          "metadata": {
            "tags": []
          },
          "execution_count": 6
        }
      ]
    },
    {
      "cell_type": "code",
      "metadata": {
        "colab_type": "code",
        "id": "L_9FMQkYPcp4",
        "colab": {
          "base_uri": "https://localhost:8080/",
          "height": 272
        },
        "outputId": "e8c932d5-0c78-4eec-89e3-4403fbf4e598"
      },
      "source": [
        "sc._conf.getAll()"
      ],
      "execution_count": null,
      "outputs": [
        {
          "output_type": "execute_result",
          "data": {
            "text/plain": [
              "[('spark.driver.memory', '45G'),\n",
              " ('spark.executor.id', 'driver'),\n",
              " ('spark.app.id', 'local-1594342296449'),\n",
              " ('spark.driver.maxResultSize', '10G'),\n",
              " ('spark.app.name', 'pyspark-shell'),\n",
              " ('spark.driver.port', '44311'),\n",
              " ('spark.ui.port', '4050'),\n",
              " ('spark.rdd.compress', 'True'),\n",
              " ('spark.serializer.objectStreamReset', '100'),\n",
              " ('spark.master', 'local[*]'),\n",
              " ('spark.submit.pyFiles', ''),\n",
              " ('spark.submit.deployMode', 'client'),\n",
              " ('spark.driver.host', '2934e981ded8'),\n",
              " ('spark.executor.memory', '4G'),\n",
              " ('spark.ui.showConsoleProgress', 'true')]"
            ]
          },
          "metadata": {
            "tags": []
          },
          "execution_count": 14
        }
      ]
    },
    {
      "cell_type": "markdown",
      "metadata": {
        "colab_type": "text",
        "id": "t4HiA8GGPnzD"
      },
      "source": [
        "# Linking colab to google drive "
      ]
    },
    {
      "cell_type": "code",
      "metadata": {
        "colab_type": "code",
        "id": "lVQJTwmL3Dh9",
        "colab": {
          "base_uri": "https://localhost:8080/",
          "height": 122
        },
        "outputId": "6af69676-31e9-473d-c90e-0a34fa32b173"
      },
      "source": [
        "from google.colab import drive\n",
        "drive.mount('/content/gdrive')"
      ],
      "execution_count": 7,
      "outputs": [
        {
          "output_type": "stream",
          "text": [
            "Go to this URL in a browser: https://accounts.google.com/o/oauth2/auth?client_id=947318989803-6bn6qk8qdgf4n4g3pfee6491hc0brc4i.apps.googleusercontent.com&redirect_uri=urn%3aietf%3awg%3aoauth%3a2.0%3aoob&response_type=code&scope=email%20https%3a%2f%2fwww.googleapis.com%2fauth%2fdocs.test%20https%3a%2f%2fwww.googleapis.com%2fauth%2fdrive%20https%3a%2f%2fwww.googleapis.com%2fauth%2fdrive.photos.readonly%20https%3a%2f%2fwww.googleapis.com%2fauth%2fpeopleapi.readonly\n",
            "\n",
            "Enter your authorization code:\n",
            "··········\n",
            "Mounted at /content/gdrive\n"
          ],
          "name": "stdout"
        }
      ]
    },
    {
      "cell_type": "markdown",
      "metadata": {
        "colab_type": "text",
        "id": "H24zvhoX4A07"
      },
      "source": [
        "# Reading Dataset"
      ]
    },
    {
      "cell_type": "code",
      "metadata": {
        "colab_type": "code",
        "id": "1PQMRypg36cm",
        "colab": {}
      },
      "source": [
        "dataset = '/content/gdrive/My Drive/Datasets/covtype.csv'\n",
        "data = spark.read.csv(dataset,header = True, inferSchema = True)\n"
      ],
      "execution_count": 3,
      "outputs": []
    },
    {
      "cell_type": "markdown",
      "metadata": {
        "colab_type": "text",
        "id": "ZxiI3RuZ4gce"
      },
      "source": [
        "# Data exploration"
      ]
    },
    {
      "cell_type": "code",
      "metadata": {
        "colab_type": "code",
        "id": "1AeZqI_q4ni_",
        "colab": {
          "base_uri": "https://localhost:8080/",
          "height": 224
        },
        "outputId": "4541b71d-4b1c-4277-81f3-f5ea455cc4fa"
      },
      "source": [
        "# Displaying the dataset:\n",
        "data.show(5)"
      ],
      "execution_count": 9,
      "outputs": [
        {
          "output_type": "stream",
          "text": [
            "+---------+------+-----+--------------------------------+------------------------------+-------------------------------+-------------+--------------+-------------+----------------------------------+----------------+----------------+----------------+----------------+----------+----------+----------+----------+----------+----------+----------+----------+----------+-----------+-----------+-----------+-----------+-----------+-----------+-----------+-----------+-----------+-----------+-----------+-----------+-----------+-----------+-----------+-----------+-----------+-----------+-----------+-----------+-----------+-----------+-----------+-----------+-----------+-----------+-----------+-----------+-----------+-----------+-----------+----------+\n",
            "|Elevation|Aspect|Slope|Horizontal_Distance_To_Hydrology|Vertical_Distance_To_Hydrology|Horizontal_Distance_To_Roadways|Hillshade_9am|Hillshade_Noon|Hillshade_3pm|Horizontal_Distance_To_Fire_Points|Wilderness_Area1|Wilderness_Area2|Wilderness_Area3|Wilderness_Area4|Soil_Type1|Soil_Type2|Soil_Type3|Soil_Type4|Soil_Type5|Soil_Type6|Soil_Type7|Soil_Type8|Soil_Type9|Soil_Type10|Soil_Type11|Soil_Type12|Soil_Type13|Soil_Type14|Soil_Type15|Soil_Type16|Soil_Type17|Soil_Type18|Soil_Type19|Soil_Type20|Soil_Type21|Soil_Type22|Soil_Type23|Soil_Type24|Soil_Type25|Soil_Type26|Soil_Type27|Soil_Type28|Soil_Type29|Soil_Type30|Soil_Type31|Soil_Type32|Soil_Type33|Soil_Type34|Soil_Type35|Soil_Type36|Soil_Type37|Soil_Type38|Soil_Type39|Soil_Type40|Cover_Type|\n",
            "+---------+------+-----+--------------------------------+------------------------------+-------------------------------+-------------+--------------+-------------+----------------------------------+----------------+----------------+----------------+----------------+----------+----------+----------+----------+----------+----------+----------+----------+----------+-----------+-----------+-----------+-----------+-----------+-----------+-----------+-----------+-----------+-----------+-----------+-----------+-----------+-----------+-----------+-----------+-----------+-----------+-----------+-----------+-----------+-----------+-----------+-----------+-----------+-----------+-----------+-----------+-----------+-----------+-----------+----------+\n",
            "|     2596|    51|    3|                             258|                             0|                            510|          221|           232|          148|                              6279|               1|               0|               0|               0|         0|         0|         0|         0|         0|         0|         0|         0|         0|          0|          0|          0|          0|          0|          0|          0|          0|          0|          0|          0|          0|          0|          0|          0|          0|          0|          0|          0|          1|          0|          0|          0|          0|          0|          0|          0|          0|          0|          0|          0|         5|\n",
            "|     2590|    56|    2|                             212|                            -6|                            390|          220|           235|          151|                              6225|               1|               0|               0|               0|         0|         0|         0|         0|         0|         0|         0|         0|         0|          0|          0|          0|          0|          0|          0|          0|          0|          0|          0|          0|          0|          0|          0|          0|          0|          0|          0|          0|          1|          0|          0|          0|          0|          0|          0|          0|          0|          0|          0|          0|         5|\n",
            "|     2804|   139|    9|                             268|                            65|                           3180|          234|           238|          135|                              6121|               1|               0|               0|               0|         0|         0|         0|         0|         0|         0|         0|         0|         0|          0|          0|          1|          0|          0|          0|          0|          0|          0|          0|          0|          0|          0|          0|          0|          0|          0|          0|          0|          0|          0|          0|          0|          0|          0|          0|          0|          0|          0|          0|          0|         2|\n",
            "|     2785|   155|   18|                             242|                           118|                           3090|          238|           238|          122|                              6211|               1|               0|               0|               0|         0|         0|         0|         0|         0|         0|         0|         0|         0|          0|          0|          0|          0|          0|          0|          0|          0|          0|          0|          0|          0|          0|          0|          0|          0|          0|          0|          0|          0|          1|          0|          0|          0|          0|          0|          0|          0|          0|          0|          0|         2|\n",
            "|     2595|    45|    2|                             153|                            -1|                            391|          220|           234|          150|                              6172|               1|               0|               0|               0|         0|         0|         0|         0|         0|         0|         0|         0|         0|          0|          0|          0|          0|          0|          0|          0|          0|          0|          0|          0|          0|          0|          0|          0|          0|          0|          0|          0|          1|          0|          0|          0|          0|          0|          0|          0|          0|          0|          0|          0|         5|\n",
            "+---------+------+-----+--------------------------------+------------------------------+-------------------------------+-------------+--------------+-------------+----------------------------------+----------------+----------------+----------------+----------------+----------+----------+----------+----------+----------+----------+----------+----------+----------+-----------+-----------+-----------+-----------+-----------+-----------+-----------+-----------+-----------+-----------+-----------+-----------+-----------+-----------+-----------+-----------+-----------+-----------+-----------+-----------+-----------+-----------+-----------+-----------+-----------+-----------+-----------+-----------+-----------+-----------+-----------+----------+\n",
            "only showing top 5 rows\n",
            "\n"
          ],
          "name": "stdout"
        }
      ]
    },
    {
      "cell_type": "code",
      "metadata": {
        "colab_type": "code",
        "id": "2k2xDGgc4uvv",
        "colab": {
          "base_uri": "https://localhost:8080/",
          "height": 986
        },
        "outputId": "3424c94e-22a2-4a8d-be3a-62827415b778"
      },
      "source": [
        "# Listing the columns of dataset:\n",
        "data.printSchema()"
      ],
      "execution_count": 10,
      "outputs": [
        {
          "output_type": "stream",
          "text": [
            "root\n",
            " |-- Elevation: integer (nullable = true)\n",
            " |-- Aspect: integer (nullable = true)\n",
            " |-- Slope: integer (nullable = true)\n",
            " |-- Horizontal_Distance_To_Hydrology: integer (nullable = true)\n",
            " |-- Vertical_Distance_To_Hydrology: integer (nullable = true)\n",
            " |-- Horizontal_Distance_To_Roadways: integer (nullable = true)\n",
            " |-- Hillshade_9am: integer (nullable = true)\n",
            " |-- Hillshade_Noon: integer (nullable = true)\n",
            " |-- Hillshade_3pm: integer (nullable = true)\n",
            " |-- Horizontal_Distance_To_Fire_Points: integer (nullable = true)\n",
            " |-- Wilderness_Area1: integer (nullable = true)\n",
            " |-- Wilderness_Area2: integer (nullable = true)\n",
            " |-- Wilderness_Area3: integer (nullable = true)\n",
            " |-- Wilderness_Area4: integer (nullable = true)\n",
            " |-- Soil_Type1: integer (nullable = true)\n",
            " |-- Soil_Type2: integer (nullable = true)\n",
            " |-- Soil_Type3: integer (nullable = true)\n",
            " |-- Soil_Type4: integer (nullable = true)\n",
            " |-- Soil_Type5: integer (nullable = true)\n",
            " |-- Soil_Type6: integer (nullable = true)\n",
            " |-- Soil_Type7: integer (nullable = true)\n",
            " |-- Soil_Type8: integer (nullable = true)\n",
            " |-- Soil_Type9: integer (nullable = true)\n",
            " |-- Soil_Type10: integer (nullable = true)\n",
            " |-- Soil_Type11: integer (nullable = true)\n",
            " |-- Soil_Type12: integer (nullable = true)\n",
            " |-- Soil_Type13: integer (nullable = true)\n",
            " |-- Soil_Type14: integer (nullable = true)\n",
            " |-- Soil_Type15: integer (nullable = true)\n",
            " |-- Soil_Type16: integer (nullable = true)\n",
            " |-- Soil_Type17: integer (nullable = true)\n",
            " |-- Soil_Type18: integer (nullable = true)\n",
            " |-- Soil_Type19: integer (nullable = true)\n",
            " |-- Soil_Type20: integer (nullable = true)\n",
            " |-- Soil_Type21: integer (nullable = true)\n",
            " |-- Soil_Type22: integer (nullable = true)\n",
            " |-- Soil_Type23: integer (nullable = true)\n",
            " |-- Soil_Type24: integer (nullable = true)\n",
            " |-- Soil_Type25: integer (nullable = true)\n",
            " |-- Soil_Type26: integer (nullable = true)\n",
            " |-- Soil_Type27: integer (nullable = true)\n",
            " |-- Soil_Type28: integer (nullable = true)\n",
            " |-- Soil_Type29: integer (nullable = true)\n",
            " |-- Soil_Type30: integer (nullable = true)\n",
            " |-- Soil_Type31: integer (nullable = true)\n",
            " |-- Soil_Type32: integer (nullable = true)\n",
            " |-- Soil_Type33: integer (nullable = true)\n",
            " |-- Soil_Type34: integer (nullable = true)\n",
            " |-- Soil_Type35: integer (nullable = true)\n",
            " |-- Soil_Type36: integer (nullable = true)\n",
            " |-- Soil_Type37: integer (nullable = true)\n",
            " |-- Soil_Type38: integer (nullable = true)\n",
            " |-- Soil_Type39: integer (nullable = true)\n",
            " |-- Soil_Type40: integer (nullable = true)\n",
            " |-- Cover_Type: integer (nullable = true)\n",
            "\n"
          ],
          "name": "stdout"
        }
      ]
    },
    {
      "cell_type": "code",
      "metadata": {
        "colab_type": "code",
        "id": "wj6r52N87WfE",
        "colab": {}
      },
      "source": [
        "# we are converting pyspark dataframe to pandas, for data exploration and analysis.\n",
        "data_pd = data.toPandas() "
      ],
      "execution_count": 11,
      "outputs": []
    },
    {
      "cell_type": "code",
      "metadata": {
        "colab_type": "code",
        "id": "0KDkOcEr41Nf",
        "colab": {
          "base_uri": "https://localhost:8080/",
          "height": 317
        },
        "outputId": "36306904-c13f-45ad-bda5-6d7756275a6a"
      },
      "source": [
        "# Displaying the statistics of the dataset:\n",
        "data_pd.describe()"
      ],
      "execution_count": 12,
      "outputs": [
        {
          "output_type": "execute_result",
          "data": {
            "text/html": [
              "<div>\n",
              "<style scoped>\n",
              "    .dataframe tbody tr th:only-of-type {\n",
              "        vertical-align: middle;\n",
              "    }\n",
              "\n",
              "    .dataframe tbody tr th {\n",
              "        vertical-align: top;\n",
              "    }\n",
              "\n",
              "    .dataframe thead th {\n",
              "        text-align: right;\n",
              "    }\n",
              "</style>\n",
              "<table border=\"1\" class=\"dataframe\">\n",
              "  <thead>\n",
              "    <tr style=\"text-align: right;\">\n",
              "      <th></th>\n",
              "      <th>Elevation</th>\n",
              "      <th>Aspect</th>\n",
              "      <th>Slope</th>\n",
              "      <th>Horizontal_Distance_To_Hydrology</th>\n",
              "      <th>Vertical_Distance_To_Hydrology</th>\n",
              "      <th>Horizontal_Distance_To_Roadways</th>\n",
              "      <th>Hillshade_9am</th>\n",
              "      <th>Hillshade_Noon</th>\n",
              "      <th>Hillshade_3pm</th>\n",
              "      <th>Horizontal_Distance_To_Fire_Points</th>\n",
              "      <th>Wilderness_Area1</th>\n",
              "      <th>Wilderness_Area2</th>\n",
              "      <th>Wilderness_Area3</th>\n",
              "      <th>Wilderness_Area4</th>\n",
              "      <th>Soil_Type1</th>\n",
              "      <th>Soil_Type2</th>\n",
              "      <th>Soil_Type3</th>\n",
              "      <th>Soil_Type4</th>\n",
              "      <th>Soil_Type5</th>\n",
              "      <th>Soil_Type6</th>\n",
              "      <th>Soil_Type7</th>\n",
              "      <th>Soil_Type8</th>\n",
              "      <th>Soil_Type9</th>\n",
              "      <th>Soil_Type10</th>\n",
              "      <th>Soil_Type11</th>\n",
              "      <th>Soil_Type12</th>\n",
              "      <th>Soil_Type13</th>\n",
              "      <th>Soil_Type14</th>\n",
              "      <th>Soil_Type15</th>\n",
              "      <th>Soil_Type16</th>\n",
              "      <th>Soil_Type17</th>\n",
              "      <th>Soil_Type18</th>\n",
              "      <th>Soil_Type19</th>\n",
              "      <th>Soil_Type20</th>\n",
              "      <th>Soil_Type21</th>\n",
              "      <th>Soil_Type22</th>\n",
              "      <th>Soil_Type23</th>\n",
              "      <th>Soil_Type24</th>\n",
              "      <th>Soil_Type25</th>\n",
              "      <th>Soil_Type26</th>\n",
              "      <th>Soil_Type27</th>\n",
              "      <th>Soil_Type28</th>\n",
              "      <th>Soil_Type29</th>\n",
              "      <th>Soil_Type30</th>\n",
              "      <th>Soil_Type31</th>\n",
              "      <th>Soil_Type32</th>\n",
              "      <th>Soil_Type33</th>\n",
              "      <th>Soil_Type34</th>\n",
              "      <th>Soil_Type35</th>\n",
              "      <th>Soil_Type36</th>\n",
              "      <th>Soil_Type37</th>\n",
              "      <th>Soil_Type38</th>\n",
              "      <th>Soil_Type39</th>\n",
              "      <th>Soil_Type40</th>\n",
              "      <th>Cover_Type</th>\n",
              "    </tr>\n",
              "  </thead>\n",
              "  <tbody>\n",
              "    <tr>\n",
              "      <th>count</th>\n",
              "      <td>581012.000000</td>\n",
              "      <td>581012.000000</td>\n",
              "      <td>581012.000000</td>\n",
              "      <td>581012.000000</td>\n",
              "      <td>581012.000000</td>\n",
              "      <td>581012.000000</td>\n",
              "      <td>581012.000000</td>\n",
              "      <td>581012.000000</td>\n",
              "      <td>581012.000000</td>\n",
              "      <td>581012.000000</td>\n",
              "      <td>581012.000000</td>\n",
              "      <td>581012.000000</td>\n",
              "      <td>581012.000000</td>\n",
              "      <td>581012.000000</td>\n",
              "      <td>581012.000000</td>\n",
              "      <td>581012.000000</td>\n",
              "      <td>581012.000000</td>\n",
              "      <td>581012.000000</td>\n",
              "      <td>581012.000000</td>\n",
              "      <td>581012.000000</td>\n",
              "      <td>581012.000000</td>\n",
              "      <td>581012.000000</td>\n",
              "      <td>581012.000000</td>\n",
              "      <td>581012.000000</td>\n",
              "      <td>581012.000000</td>\n",
              "      <td>581012.000000</td>\n",
              "      <td>581012.000000</td>\n",
              "      <td>581012.000000</td>\n",
              "      <td>581012.000000</td>\n",
              "      <td>581012.000000</td>\n",
              "      <td>581012.000000</td>\n",
              "      <td>581012.000000</td>\n",
              "      <td>581012.000000</td>\n",
              "      <td>581012.000000</td>\n",
              "      <td>581012.000000</td>\n",
              "      <td>581012.000000</td>\n",
              "      <td>581012.000000</td>\n",
              "      <td>581012.000000</td>\n",
              "      <td>581012.000000</td>\n",
              "      <td>581012.000000</td>\n",
              "      <td>581012.000000</td>\n",
              "      <td>581012.000000</td>\n",
              "      <td>581012.000000</td>\n",
              "      <td>581012.000000</td>\n",
              "      <td>581012.000000</td>\n",
              "      <td>581012.000000</td>\n",
              "      <td>581012.000000</td>\n",
              "      <td>581012.000000</td>\n",
              "      <td>581012.000000</td>\n",
              "      <td>581012.000000</td>\n",
              "      <td>581012.000000</td>\n",
              "      <td>581012.000000</td>\n",
              "      <td>581012.000000</td>\n",
              "      <td>581012.000000</td>\n",
              "      <td>581012.000000</td>\n",
              "    </tr>\n",
              "    <tr>\n",
              "      <th>mean</th>\n",
              "      <td>2959.365301</td>\n",
              "      <td>155.656807</td>\n",
              "      <td>14.103704</td>\n",
              "      <td>269.428217</td>\n",
              "      <td>46.418855</td>\n",
              "      <td>2350.146611</td>\n",
              "      <td>212.146049</td>\n",
              "      <td>223.318716</td>\n",
              "      <td>142.528263</td>\n",
              "      <td>1980.291226</td>\n",
              "      <td>0.448865</td>\n",
              "      <td>0.051434</td>\n",
              "      <td>0.436074</td>\n",
              "      <td>0.063627</td>\n",
              "      <td>0.005217</td>\n",
              "      <td>0.012952</td>\n",
              "      <td>0.008301</td>\n",
              "      <td>0.021335</td>\n",
              "      <td>0.002749</td>\n",
              "      <td>0.011316</td>\n",
              "      <td>0.000181</td>\n",
              "      <td>0.000308</td>\n",
              "      <td>0.001974</td>\n",
              "      <td>0.056168</td>\n",
              "      <td>0.021359</td>\n",
              "      <td>0.051584</td>\n",
              "      <td>0.030001</td>\n",
              "      <td>0.001031</td>\n",
              "      <td>0.000005</td>\n",
              "      <td>0.004897</td>\n",
              "      <td>0.005890</td>\n",
              "      <td>0.003268</td>\n",
              "      <td>0.006921</td>\n",
              "      <td>0.015936</td>\n",
              "      <td>0.001442</td>\n",
              "      <td>0.057439</td>\n",
              "      <td>0.099399</td>\n",
              "      <td>0.036622</td>\n",
              "      <td>0.000816</td>\n",
              "      <td>0.004456</td>\n",
              "      <td>0.001869</td>\n",
              "      <td>0.001628</td>\n",
              "      <td>0.198356</td>\n",
              "      <td>0.051927</td>\n",
              "      <td>0.044175</td>\n",
              "      <td>0.090392</td>\n",
              "      <td>0.077716</td>\n",
              "      <td>0.002773</td>\n",
              "      <td>0.003255</td>\n",
              "      <td>0.000205</td>\n",
              "      <td>0.000513</td>\n",
              "      <td>0.026803</td>\n",
              "      <td>0.023762</td>\n",
              "      <td>0.015060</td>\n",
              "      <td>2.051471</td>\n",
              "    </tr>\n",
              "    <tr>\n",
              "      <th>std</th>\n",
              "      <td>279.984734</td>\n",
              "      <td>111.913721</td>\n",
              "      <td>7.488242</td>\n",
              "      <td>212.549356</td>\n",
              "      <td>58.295232</td>\n",
              "      <td>1559.254870</td>\n",
              "      <td>26.769889</td>\n",
              "      <td>19.768697</td>\n",
              "      <td>38.274529</td>\n",
              "      <td>1324.195210</td>\n",
              "      <td>0.497379</td>\n",
              "      <td>0.220882</td>\n",
              "      <td>0.495897</td>\n",
              "      <td>0.244087</td>\n",
              "      <td>0.072039</td>\n",
              "      <td>0.113066</td>\n",
              "      <td>0.090731</td>\n",
              "      <td>0.144499</td>\n",
              "      <td>0.052356</td>\n",
              "      <td>0.105775</td>\n",
              "      <td>0.013442</td>\n",
              "      <td>0.017550</td>\n",
              "      <td>0.044387</td>\n",
              "      <td>0.230245</td>\n",
              "      <td>0.144579</td>\n",
              "      <td>0.221186</td>\n",
              "      <td>0.170590</td>\n",
              "      <td>0.032092</td>\n",
              "      <td>0.002272</td>\n",
              "      <td>0.069804</td>\n",
              "      <td>0.076518</td>\n",
              "      <td>0.057077</td>\n",
              "      <td>0.082902</td>\n",
              "      <td>0.125228</td>\n",
              "      <td>0.037950</td>\n",
              "      <td>0.232681</td>\n",
              "      <td>0.299197</td>\n",
              "      <td>0.187833</td>\n",
              "      <td>0.028551</td>\n",
              "      <td>0.066605</td>\n",
              "      <td>0.043193</td>\n",
              "      <td>0.040318</td>\n",
              "      <td>0.398762</td>\n",
              "      <td>0.221879</td>\n",
              "      <td>0.205483</td>\n",
              "      <td>0.286743</td>\n",
              "      <td>0.267725</td>\n",
              "      <td>0.052584</td>\n",
              "      <td>0.056957</td>\n",
              "      <td>0.014310</td>\n",
              "      <td>0.022641</td>\n",
              "      <td>0.161508</td>\n",
              "      <td>0.152307</td>\n",
              "      <td>0.121791</td>\n",
              "      <td>1.396504</td>\n",
              "    </tr>\n",
              "    <tr>\n",
              "      <th>min</th>\n",
              "      <td>1859.000000</td>\n",
              "      <td>0.000000</td>\n",
              "      <td>0.000000</td>\n",
              "      <td>0.000000</td>\n",
              "      <td>-173.000000</td>\n",
              "      <td>0.000000</td>\n",
              "      <td>0.000000</td>\n",
              "      <td>0.000000</td>\n",
              "      <td>0.000000</td>\n",
              "      <td>0.000000</td>\n",
              "      <td>0.000000</td>\n",
              "      <td>0.000000</td>\n",
              "      <td>0.000000</td>\n",
              "      <td>0.000000</td>\n",
              "      <td>0.000000</td>\n",
              "      <td>0.000000</td>\n",
              "      <td>0.000000</td>\n",
              "      <td>0.000000</td>\n",
              "      <td>0.000000</td>\n",
              "      <td>0.000000</td>\n",
              "      <td>0.000000</td>\n",
              "      <td>0.000000</td>\n",
              "      <td>0.000000</td>\n",
              "      <td>0.000000</td>\n",
              "      <td>0.000000</td>\n",
              "      <td>0.000000</td>\n",
              "      <td>0.000000</td>\n",
              "      <td>0.000000</td>\n",
              "      <td>0.000000</td>\n",
              "      <td>0.000000</td>\n",
              "      <td>0.000000</td>\n",
              "      <td>0.000000</td>\n",
              "      <td>0.000000</td>\n",
              "      <td>0.000000</td>\n",
              "      <td>0.000000</td>\n",
              "      <td>0.000000</td>\n",
              "      <td>0.000000</td>\n",
              "      <td>0.000000</td>\n",
              "      <td>0.000000</td>\n",
              "      <td>0.000000</td>\n",
              "      <td>0.000000</td>\n",
              "      <td>0.000000</td>\n",
              "      <td>0.000000</td>\n",
              "      <td>0.000000</td>\n",
              "      <td>0.000000</td>\n",
              "      <td>0.000000</td>\n",
              "      <td>0.000000</td>\n",
              "      <td>0.000000</td>\n",
              "      <td>0.000000</td>\n",
              "      <td>0.000000</td>\n",
              "      <td>0.000000</td>\n",
              "      <td>0.000000</td>\n",
              "      <td>0.000000</td>\n",
              "      <td>0.000000</td>\n",
              "      <td>1.000000</td>\n",
              "    </tr>\n",
              "    <tr>\n",
              "      <th>25%</th>\n",
              "      <td>2809.000000</td>\n",
              "      <td>58.000000</td>\n",
              "      <td>9.000000</td>\n",
              "      <td>108.000000</td>\n",
              "      <td>7.000000</td>\n",
              "      <td>1106.000000</td>\n",
              "      <td>198.000000</td>\n",
              "      <td>213.000000</td>\n",
              "      <td>119.000000</td>\n",
              "      <td>1024.000000</td>\n",
              "      <td>0.000000</td>\n",
              "      <td>0.000000</td>\n",
              "      <td>0.000000</td>\n",
              "      <td>0.000000</td>\n",
              "      <td>0.000000</td>\n",
              "      <td>0.000000</td>\n",
              "      <td>0.000000</td>\n",
              "      <td>0.000000</td>\n",
              "      <td>0.000000</td>\n",
              "      <td>0.000000</td>\n",
              "      <td>0.000000</td>\n",
              "      <td>0.000000</td>\n",
              "      <td>0.000000</td>\n",
              "      <td>0.000000</td>\n",
              "      <td>0.000000</td>\n",
              "      <td>0.000000</td>\n",
              "      <td>0.000000</td>\n",
              "      <td>0.000000</td>\n",
              "      <td>0.000000</td>\n",
              "      <td>0.000000</td>\n",
              "      <td>0.000000</td>\n",
              "      <td>0.000000</td>\n",
              "      <td>0.000000</td>\n",
              "      <td>0.000000</td>\n",
              "      <td>0.000000</td>\n",
              "      <td>0.000000</td>\n",
              "      <td>0.000000</td>\n",
              "      <td>0.000000</td>\n",
              "      <td>0.000000</td>\n",
              "      <td>0.000000</td>\n",
              "      <td>0.000000</td>\n",
              "      <td>0.000000</td>\n",
              "      <td>0.000000</td>\n",
              "      <td>0.000000</td>\n",
              "      <td>0.000000</td>\n",
              "      <td>0.000000</td>\n",
              "      <td>0.000000</td>\n",
              "      <td>0.000000</td>\n",
              "      <td>0.000000</td>\n",
              "      <td>0.000000</td>\n",
              "      <td>0.000000</td>\n",
              "      <td>0.000000</td>\n",
              "      <td>0.000000</td>\n",
              "      <td>0.000000</td>\n",
              "      <td>1.000000</td>\n",
              "    </tr>\n",
              "    <tr>\n",
              "      <th>50%</th>\n",
              "      <td>2996.000000</td>\n",
              "      <td>127.000000</td>\n",
              "      <td>13.000000</td>\n",
              "      <td>218.000000</td>\n",
              "      <td>30.000000</td>\n",
              "      <td>1997.000000</td>\n",
              "      <td>218.000000</td>\n",
              "      <td>226.000000</td>\n",
              "      <td>143.000000</td>\n",
              "      <td>1710.000000</td>\n",
              "      <td>0.000000</td>\n",
              "      <td>0.000000</td>\n",
              "      <td>0.000000</td>\n",
              "      <td>0.000000</td>\n",
              "      <td>0.000000</td>\n",
              "      <td>0.000000</td>\n",
              "      <td>0.000000</td>\n",
              "      <td>0.000000</td>\n",
              "      <td>0.000000</td>\n",
              "      <td>0.000000</td>\n",
              "      <td>0.000000</td>\n",
              "      <td>0.000000</td>\n",
              "      <td>0.000000</td>\n",
              "      <td>0.000000</td>\n",
              "      <td>0.000000</td>\n",
              "      <td>0.000000</td>\n",
              "      <td>0.000000</td>\n",
              "      <td>0.000000</td>\n",
              "      <td>0.000000</td>\n",
              "      <td>0.000000</td>\n",
              "      <td>0.000000</td>\n",
              "      <td>0.000000</td>\n",
              "      <td>0.000000</td>\n",
              "      <td>0.000000</td>\n",
              "      <td>0.000000</td>\n",
              "      <td>0.000000</td>\n",
              "      <td>0.000000</td>\n",
              "      <td>0.000000</td>\n",
              "      <td>0.000000</td>\n",
              "      <td>0.000000</td>\n",
              "      <td>0.000000</td>\n",
              "      <td>0.000000</td>\n",
              "      <td>0.000000</td>\n",
              "      <td>0.000000</td>\n",
              "      <td>0.000000</td>\n",
              "      <td>0.000000</td>\n",
              "      <td>0.000000</td>\n",
              "      <td>0.000000</td>\n",
              "      <td>0.000000</td>\n",
              "      <td>0.000000</td>\n",
              "      <td>0.000000</td>\n",
              "      <td>0.000000</td>\n",
              "      <td>0.000000</td>\n",
              "      <td>0.000000</td>\n",
              "      <td>2.000000</td>\n",
              "    </tr>\n",
              "    <tr>\n",
              "      <th>75%</th>\n",
              "      <td>3163.000000</td>\n",
              "      <td>260.000000</td>\n",
              "      <td>18.000000</td>\n",
              "      <td>384.000000</td>\n",
              "      <td>69.000000</td>\n",
              "      <td>3328.000000</td>\n",
              "      <td>231.000000</td>\n",
              "      <td>237.000000</td>\n",
              "      <td>168.000000</td>\n",
              "      <td>2550.000000</td>\n",
              "      <td>1.000000</td>\n",
              "      <td>0.000000</td>\n",
              "      <td>1.000000</td>\n",
              "      <td>0.000000</td>\n",
              "      <td>0.000000</td>\n",
              "      <td>0.000000</td>\n",
              "      <td>0.000000</td>\n",
              "      <td>0.000000</td>\n",
              "      <td>0.000000</td>\n",
              "      <td>0.000000</td>\n",
              "      <td>0.000000</td>\n",
              "      <td>0.000000</td>\n",
              "      <td>0.000000</td>\n",
              "      <td>0.000000</td>\n",
              "      <td>0.000000</td>\n",
              "      <td>0.000000</td>\n",
              "      <td>0.000000</td>\n",
              "      <td>0.000000</td>\n",
              "      <td>0.000000</td>\n",
              "      <td>0.000000</td>\n",
              "      <td>0.000000</td>\n",
              "      <td>0.000000</td>\n",
              "      <td>0.000000</td>\n",
              "      <td>0.000000</td>\n",
              "      <td>0.000000</td>\n",
              "      <td>0.000000</td>\n",
              "      <td>0.000000</td>\n",
              "      <td>0.000000</td>\n",
              "      <td>0.000000</td>\n",
              "      <td>0.000000</td>\n",
              "      <td>0.000000</td>\n",
              "      <td>0.000000</td>\n",
              "      <td>0.000000</td>\n",
              "      <td>0.000000</td>\n",
              "      <td>0.000000</td>\n",
              "      <td>0.000000</td>\n",
              "      <td>0.000000</td>\n",
              "      <td>0.000000</td>\n",
              "      <td>0.000000</td>\n",
              "      <td>0.000000</td>\n",
              "      <td>0.000000</td>\n",
              "      <td>0.000000</td>\n",
              "      <td>0.000000</td>\n",
              "      <td>0.000000</td>\n",
              "      <td>2.000000</td>\n",
              "    </tr>\n",
              "    <tr>\n",
              "      <th>max</th>\n",
              "      <td>3858.000000</td>\n",
              "      <td>360.000000</td>\n",
              "      <td>66.000000</td>\n",
              "      <td>1397.000000</td>\n",
              "      <td>601.000000</td>\n",
              "      <td>7117.000000</td>\n",
              "      <td>254.000000</td>\n",
              "      <td>254.000000</td>\n",
              "      <td>254.000000</td>\n",
              "      <td>7173.000000</td>\n",
              "      <td>1.000000</td>\n",
              "      <td>1.000000</td>\n",
              "      <td>1.000000</td>\n",
              "      <td>1.000000</td>\n",
              "      <td>1.000000</td>\n",
              "      <td>1.000000</td>\n",
              "      <td>1.000000</td>\n",
              "      <td>1.000000</td>\n",
              "      <td>1.000000</td>\n",
              "      <td>1.000000</td>\n",
              "      <td>1.000000</td>\n",
              "      <td>1.000000</td>\n",
              "      <td>1.000000</td>\n",
              "      <td>1.000000</td>\n",
              "      <td>1.000000</td>\n",
              "      <td>1.000000</td>\n",
              "      <td>1.000000</td>\n",
              "      <td>1.000000</td>\n",
              "      <td>1.000000</td>\n",
              "      <td>1.000000</td>\n",
              "      <td>1.000000</td>\n",
              "      <td>1.000000</td>\n",
              "      <td>1.000000</td>\n",
              "      <td>1.000000</td>\n",
              "      <td>1.000000</td>\n",
              "      <td>1.000000</td>\n",
              "      <td>1.000000</td>\n",
              "      <td>1.000000</td>\n",
              "      <td>1.000000</td>\n",
              "      <td>1.000000</td>\n",
              "      <td>1.000000</td>\n",
              "      <td>1.000000</td>\n",
              "      <td>1.000000</td>\n",
              "      <td>1.000000</td>\n",
              "      <td>1.000000</td>\n",
              "      <td>1.000000</td>\n",
              "      <td>1.000000</td>\n",
              "      <td>1.000000</td>\n",
              "      <td>1.000000</td>\n",
              "      <td>1.000000</td>\n",
              "      <td>1.000000</td>\n",
              "      <td>1.000000</td>\n",
              "      <td>1.000000</td>\n",
              "      <td>1.000000</td>\n",
              "      <td>7.000000</td>\n",
              "    </tr>\n",
              "  </tbody>\n",
              "</table>\n",
              "</div>"
            ],
            "text/plain": [
              "           Elevation         Aspect          Slope  \\\n",
              "count  581012.000000  581012.000000  581012.000000   \n",
              "mean     2959.365301     155.656807      14.103704   \n",
              "std       279.984734     111.913721       7.488242   \n",
              "min      1859.000000       0.000000       0.000000   \n",
              "25%      2809.000000      58.000000       9.000000   \n",
              "50%      2996.000000     127.000000      13.000000   \n",
              "75%      3163.000000     260.000000      18.000000   \n",
              "max      3858.000000     360.000000      66.000000   \n",
              "\n",
              "       Horizontal_Distance_To_Hydrology  Vertical_Distance_To_Hydrology  \\\n",
              "count                     581012.000000                   581012.000000   \n",
              "mean                         269.428217                       46.418855   \n",
              "std                          212.549356                       58.295232   \n",
              "min                            0.000000                     -173.000000   \n",
              "25%                          108.000000                        7.000000   \n",
              "50%                          218.000000                       30.000000   \n",
              "75%                          384.000000                       69.000000   \n",
              "max                         1397.000000                      601.000000   \n",
              "\n",
              "       Horizontal_Distance_To_Roadways  Hillshade_9am  Hillshade_Noon  \\\n",
              "count                    581012.000000  581012.000000   581012.000000   \n",
              "mean                       2350.146611     212.146049      223.318716   \n",
              "std                        1559.254870      26.769889       19.768697   \n",
              "min                           0.000000       0.000000        0.000000   \n",
              "25%                        1106.000000     198.000000      213.000000   \n",
              "50%                        1997.000000     218.000000      226.000000   \n",
              "75%                        3328.000000     231.000000      237.000000   \n",
              "max                        7117.000000     254.000000      254.000000   \n",
              "\n",
              "       Hillshade_3pm  Horizontal_Distance_To_Fire_Points  Wilderness_Area1  \\\n",
              "count  581012.000000                       581012.000000     581012.000000   \n",
              "mean      142.528263                         1980.291226          0.448865   \n",
              "std        38.274529                         1324.195210          0.497379   \n",
              "min         0.000000                            0.000000          0.000000   \n",
              "25%       119.000000                         1024.000000          0.000000   \n",
              "50%       143.000000                         1710.000000          0.000000   \n",
              "75%       168.000000                         2550.000000          1.000000   \n",
              "max       254.000000                         7173.000000          1.000000   \n",
              "\n",
              "       Wilderness_Area2  Wilderness_Area3  Wilderness_Area4     Soil_Type1  \\\n",
              "count     581012.000000     581012.000000     581012.000000  581012.000000   \n",
              "mean           0.051434          0.436074          0.063627       0.005217   \n",
              "std            0.220882          0.495897          0.244087       0.072039   \n",
              "min            0.000000          0.000000          0.000000       0.000000   \n",
              "25%            0.000000          0.000000          0.000000       0.000000   \n",
              "50%            0.000000          0.000000          0.000000       0.000000   \n",
              "75%            0.000000          1.000000          0.000000       0.000000   \n",
              "max            1.000000          1.000000          1.000000       1.000000   \n",
              "\n",
              "          Soil_Type2     Soil_Type3     Soil_Type4     Soil_Type5  \\\n",
              "count  581012.000000  581012.000000  581012.000000  581012.000000   \n",
              "mean        0.012952       0.008301       0.021335       0.002749   \n",
              "std         0.113066       0.090731       0.144499       0.052356   \n",
              "min         0.000000       0.000000       0.000000       0.000000   \n",
              "25%         0.000000       0.000000       0.000000       0.000000   \n",
              "50%         0.000000       0.000000       0.000000       0.000000   \n",
              "75%         0.000000       0.000000       0.000000       0.000000   \n",
              "max         1.000000       1.000000       1.000000       1.000000   \n",
              "\n",
              "          Soil_Type6     Soil_Type7     Soil_Type8     Soil_Type9  \\\n",
              "count  581012.000000  581012.000000  581012.000000  581012.000000   \n",
              "mean        0.011316       0.000181       0.000308       0.001974   \n",
              "std         0.105775       0.013442       0.017550       0.044387   \n",
              "min         0.000000       0.000000       0.000000       0.000000   \n",
              "25%         0.000000       0.000000       0.000000       0.000000   \n",
              "50%         0.000000       0.000000       0.000000       0.000000   \n",
              "75%         0.000000       0.000000       0.000000       0.000000   \n",
              "max         1.000000       1.000000       1.000000       1.000000   \n",
              "\n",
              "         Soil_Type10    Soil_Type11    Soil_Type12    Soil_Type13  \\\n",
              "count  581012.000000  581012.000000  581012.000000  581012.000000   \n",
              "mean        0.056168       0.021359       0.051584       0.030001   \n",
              "std         0.230245       0.144579       0.221186       0.170590   \n",
              "min         0.000000       0.000000       0.000000       0.000000   \n",
              "25%         0.000000       0.000000       0.000000       0.000000   \n",
              "50%         0.000000       0.000000       0.000000       0.000000   \n",
              "75%         0.000000       0.000000       0.000000       0.000000   \n",
              "max         1.000000       1.000000       1.000000       1.000000   \n",
              "\n",
              "         Soil_Type14    Soil_Type15    Soil_Type16    Soil_Type17  \\\n",
              "count  581012.000000  581012.000000  581012.000000  581012.000000   \n",
              "mean        0.001031       0.000005       0.004897       0.005890   \n",
              "std         0.032092       0.002272       0.069804       0.076518   \n",
              "min         0.000000       0.000000       0.000000       0.000000   \n",
              "25%         0.000000       0.000000       0.000000       0.000000   \n",
              "50%         0.000000       0.000000       0.000000       0.000000   \n",
              "75%         0.000000       0.000000       0.000000       0.000000   \n",
              "max         1.000000       1.000000       1.000000       1.000000   \n",
              "\n",
              "         Soil_Type18    Soil_Type19    Soil_Type20    Soil_Type21  \\\n",
              "count  581012.000000  581012.000000  581012.000000  581012.000000   \n",
              "mean        0.003268       0.006921       0.015936       0.001442   \n",
              "std         0.057077       0.082902       0.125228       0.037950   \n",
              "min         0.000000       0.000000       0.000000       0.000000   \n",
              "25%         0.000000       0.000000       0.000000       0.000000   \n",
              "50%         0.000000       0.000000       0.000000       0.000000   \n",
              "75%         0.000000       0.000000       0.000000       0.000000   \n",
              "max         1.000000       1.000000       1.000000       1.000000   \n",
              "\n",
              "         Soil_Type22    Soil_Type23    Soil_Type24    Soil_Type25  \\\n",
              "count  581012.000000  581012.000000  581012.000000  581012.000000   \n",
              "mean        0.057439       0.099399       0.036622       0.000816   \n",
              "std         0.232681       0.299197       0.187833       0.028551   \n",
              "min         0.000000       0.000000       0.000000       0.000000   \n",
              "25%         0.000000       0.000000       0.000000       0.000000   \n",
              "50%         0.000000       0.000000       0.000000       0.000000   \n",
              "75%         0.000000       0.000000       0.000000       0.000000   \n",
              "max         1.000000       1.000000       1.000000       1.000000   \n",
              "\n",
              "         Soil_Type26    Soil_Type27    Soil_Type28    Soil_Type29  \\\n",
              "count  581012.000000  581012.000000  581012.000000  581012.000000   \n",
              "mean        0.004456       0.001869       0.001628       0.198356   \n",
              "std         0.066605       0.043193       0.040318       0.398762   \n",
              "min         0.000000       0.000000       0.000000       0.000000   \n",
              "25%         0.000000       0.000000       0.000000       0.000000   \n",
              "50%         0.000000       0.000000       0.000000       0.000000   \n",
              "75%         0.000000       0.000000       0.000000       0.000000   \n",
              "max         1.000000       1.000000       1.000000       1.000000   \n",
              "\n",
              "         Soil_Type30    Soil_Type31    Soil_Type32    Soil_Type33  \\\n",
              "count  581012.000000  581012.000000  581012.000000  581012.000000   \n",
              "mean        0.051927       0.044175       0.090392       0.077716   \n",
              "std         0.221879       0.205483       0.286743       0.267725   \n",
              "min         0.000000       0.000000       0.000000       0.000000   \n",
              "25%         0.000000       0.000000       0.000000       0.000000   \n",
              "50%         0.000000       0.000000       0.000000       0.000000   \n",
              "75%         0.000000       0.000000       0.000000       0.000000   \n",
              "max         1.000000       1.000000       1.000000       1.000000   \n",
              "\n",
              "         Soil_Type34    Soil_Type35    Soil_Type36    Soil_Type37  \\\n",
              "count  581012.000000  581012.000000  581012.000000  581012.000000   \n",
              "mean        0.002773       0.003255       0.000205       0.000513   \n",
              "std         0.052584       0.056957       0.014310       0.022641   \n",
              "min         0.000000       0.000000       0.000000       0.000000   \n",
              "25%         0.000000       0.000000       0.000000       0.000000   \n",
              "50%         0.000000       0.000000       0.000000       0.000000   \n",
              "75%         0.000000       0.000000       0.000000       0.000000   \n",
              "max         1.000000       1.000000       1.000000       1.000000   \n",
              "\n",
              "         Soil_Type38    Soil_Type39    Soil_Type40     Cover_Type  \n",
              "count  581012.000000  581012.000000  581012.000000  581012.000000  \n",
              "mean        0.026803       0.023762       0.015060       2.051471  \n",
              "std         0.161508       0.152307       0.121791       1.396504  \n",
              "min         0.000000       0.000000       0.000000       1.000000  \n",
              "25%         0.000000       0.000000       0.000000       1.000000  \n",
              "50%         0.000000       0.000000       0.000000       2.000000  \n",
              "75%         0.000000       0.000000       0.000000       2.000000  \n",
              "max         1.000000       1.000000       1.000000       7.000000  "
            ]
          },
          "metadata": {
            "tags": []
          },
          "execution_count": 12
        }
      ]
    },
    {
      "cell_type": "code",
      "metadata": {
        "colab_type": "code",
        "id": "mL_hnXRE468f",
        "colab": {
          "base_uri": "https://localhost:8080/",
          "height": 34
        },
        "outputId": "1823a09c-40ac-4713-e36e-20223f29b02d"
      },
      "source": [
        "# Printing the shape of dataset:\n",
        "print((data.count(), len(data.columns)))"
      ],
      "execution_count": 13,
      "outputs": [
        {
          "output_type": "stream",
          "text": [
            "(581012, 55)\n"
          ],
          "name": "stdout"
        }
      ]
    },
    {
      "cell_type": "markdown",
      "metadata": {
        "colab_type": "text",
        "id": "lV8F0zGe6lNr"
      },
      "source": [
        "# Outlier detection and removal\n",
        "\n",
        "Focusing on outliers, defined by Gladwell as people who do not fit into our normal understanding of achievement. An outlier is a data point that is distant from other similar points. They may be due to variability in the measurement or may indicate experimental errors. If possible, outliers should be excluded from the data set.\n",
        "\n"
      ]
    },
    {
      "cell_type": "code",
      "metadata": {
        "colab_type": "code",
        "id": "o_0IH-LB8Qqf",
        "colab": {}
      },
      "source": [
        "# Fucntion to check outliers range:\n",
        "def outlier_detection(df):\n",
        "    \n",
        "    limits = {\n",
        "        x: dict(\n",
        "            zip([\"q1\", \"q3\"], df.approxQuantile(x, [0.25, 0.75], 0))\n",
        "        )\n",
        "        for x,y in zip(df.columns, df.dtypes) if y[1] == \"int\"\n",
        "    }\n",
        "\n",
        "    for x in limits:\n",
        "        iqr = limits[x]['q3'] - limits[x]['q1']\n",
        "        limits[x]['min'] = limits[x]['q1'] - (iqr * 1.5)\n",
        "        limits[x]['max'] = limits[x]['q3'] + (iqr * 1.5)\n",
        "\n",
        "    return limits"
      ],
      "execution_count": 14,
      "outputs": []
    },
    {
      "cell_type": "code",
      "metadata": {
        "colab_type": "code",
        "id": "qX5K3Yna8afv",
        "colab": {
          "base_uri": "https://localhost:8080/",
          "height": 1000
        },
        "outputId": "d4872ef5-8935-493f-8b84-7e5318a7d5c1"
      },
      "source": [
        "# Getting the range/limit of each dataset column:\n",
        "outlier_detection(data)"
      ],
      "execution_count": 15,
      "outputs": [
        {
          "output_type": "execute_result",
          "data": {
            "text/plain": [
              "{'Aspect': {'max': 563.0, 'min': -245.0, 'q1': 58.0, 'q3': 260.0},\n",
              " 'Cover_Type': {'max': 3.5, 'min': -0.5, 'q1': 1.0, 'q3': 2.0},\n",
              " 'Elevation': {'max': 3694.0, 'min': 2278.0, 'q1': 2809.0, 'q3': 3163.0},\n",
              " 'Hillshade_3pm': {'max': 241.5, 'min': 45.5, 'q1': 119.0, 'q3': 168.0},\n",
              " 'Hillshade_9am': {'max': 280.5, 'min': 148.5, 'q1': 198.0, 'q3': 231.0},\n",
              " 'Hillshade_Noon': {'max': 273.0, 'min': 177.0, 'q1': 213.0, 'q3': 237.0},\n",
              " 'Horizontal_Distance_To_Fire_Points': {'max': 4839.0,\n",
              "  'min': -1265.0,\n",
              "  'q1': 1024.0,\n",
              "  'q3': 2550.0},\n",
              " 'Horizontal_Distance_To_Hydrology': {'max': 798.0,\n",
              "  'min': -306.0,\n",
              "  'q1': 108.0,\n",
              "  'q3': 384.0},\n",
              " 'Horizontal_Distance_To_Roadways': {'max': 6661.0,\n",
              "  'min': -2227.0,\n",
              "  'q1': 1106.0,\n",
              "  'q3': 3328.0},\n",
              " 'Slope': {'max': 31.5, 'min': -4.5, 'q1': 9.0, 'q3': 18.0},\n",
              " 'Soil_Type1': {'max': 0.0, 'min': 0.0, 'q1': 0.0, 'q3': 0.0},\n",
              " 'Soil_Type10': {'max': 0.0, 'min': 0.0, 'q1': 0.0, 'q3': 0.0},\n",
              " 'Soil_Type11': {'max': 0.0, 'min': 0.0, 'q1': 0.0, 'q3': 0.0},\n",
              " 'Soil_Type12': {'max': 0.0, 'min': 0.0, 'q1': 0.0, 'q3': 0.0},\n",
              " 'Soil_Type13': {'max': 0.0, 'min': 0.0, 'q1': 0.0, 'q3': 0.0},\n",
              " 'Soil_Type14': {'max': 0.0, 'min': 0.0, 'q1': 0.0, 'q3': 0.0},\n",
              " 'Soil_Type15': {'max': 0.0, 'min': 0.0, 'q1': 0.0, 'q3': 0.0},\n",
              " 'Soil_Type16': {'max': 0.0, 'min': 0.0, 'q1': 0.0, 'q3': 0.0},\n",
              " 'Soil_Type17': {'max': 0.0, 'min': 0.0, 'q1': 0.0, 'q3': 0.0},\n",
              " 'Soil_Type18': {'max': 0.0, 'min': 0.0, 'q1': 0.0, 'q3': 0.0},\n",
              " 'Soil_Type19': {'max': 0.0, 'min': 0.0, 'q1': 0.0, 'q3': 0.0},\n",
              " 'Soil_Type2': {'max': 0.0, 'min': 0.0, 'q1': 0.0, 'q3': 0.0},\n",
              " 'Soil_Type20': {'max': 0.0, 'min': 0.0, 'q1': 0.0, 'q3': 0.0},\n",
              " 'Soil_Type21': {'max': 0.0, 'min': 0.0, 'q1': 0.0, 'q3': 0.0},\n",
              " 'Soil_Type22': {'max': 0.0, 'min': 0.0, 'q1': 0.0, 'q3': 0.0},\n",
              " 'Soil_Type23': {'max': 0.0, 'min': 0.0, 'q1': 0.0, 'q3': 0.0},\n",
              " 'Soil_Type24': {'max': 0.0, 'min': 0.0, 'q1': 0.0, 'q3': 0.0},\n",
              " 'Soil_Type25': {'max': 0.0, 'min': 0.0, 'q1': 0.0, 'q3': 0.0},\n",
              " 'Soil_Type26': {'max': 0.0, 'min': 0.0, 'q1': 0.0, 'q3': 0.0},\n",
              " 'Soil_Type27': {'max': 0.0, 'min': 0.0, 'q1': 0.0, 'q3': 0.0},\n",
              " 'Soil_Type28': {'max': 0.0, 'min': 0.0, 'q1': 0.0, 'q3': 0.0},\n",
              " 'Soil_Type29': {'max': 0.0, 'min': 0.0, 'q1': 0.0, 'q3': 0.0},\n",
              " 'Soil_Type3': {'max': 0.0, 'min': 0.0, 'q1': 0.0, 'q3': 0.0},\n",
              " 'Soil_Type30': {'max': 0.0, 'min': 0.0, 'q1': 0.0, 'q3': 0.0},\n",
              " 'Soil_Type31': {'max': 0.0, 'min': 0.0, 'q1': 0.0, 'q3': 0.0},\n",
              " 'Soil_Type32': {'max': 0.0, 'min': 0.0, 'q1': 0.0, 'q3': 0.0},\n",
              " 'Soil_Type33': {'max': 0.0, 'min': 0.0, 'q1': 0.0, 'q3': 0.0},\n",
              " 'Soil_Type34': {'max': 0.0, 'min': 0.0, 'q1': 0.0, 'q3': 0.0},\n",
              " 'Soil_Type35': {'max': 0.0, 'min': 0.0, 'q1': 0.0, 'q3': 0.0},\n",
              " 'Soil_Type36': {'max': 0.0, 'min': 0.0, 'q1': 0.0, 'q3': 0.0},\n",
              " 'Soil_Type37': {'max': 0.0, 'min': 0.0, 'q1': 0.0, 'q3': 0.0},\n",
              " 'Soil_Type38': {'max': 0.0, 'min': 0.0, 'q1': 0.0, 'q3': 0.0},\n",
              " 'Soil_Type39': {'max': 0.0, 'min': 0.0, 'q1': 0.0, 'q3': 0.0},\n",
              " 'Soil_Type4': {'max': 0.0, 'min': 0.0, 'q1': 0.0, 'q3': 0.0},\n",
              " 'Soil_Type40': {'max': 0.0, 'min': 0.0, 'q1': 0.0, 'q3': 0.0},\n",
              " 'Soil_Type5': {'max': 0.0, 'min': 0.0, 'q1': 0.0, 'q3': 0.0},\n",
              " 'Soil_Type6': {'max': 0.0, 'min': 0.0, 'q1': 0.0, 'q3': 0.0},\n",
              " 'Soil_Type7': {'max': 0.0, 'min': 0.0, 'q1': 0.0, 'q3': 0.0},\n",
              " 'Soil_Type8': {'max': 0.0, 'min': 0.0, 'q1': 0.0, 'q3': 0.0},\n",
              " 'Soil_Type9': {'max': 0.0, 'min': 0.0, 'q1': 0.0, 'q3': 0.0},\n",
              " 'Vertical_Distance_To_Hydrology': {'max': 162.0,\n",
              "  'min': -86.0,\n",
              "  'q1': 7.0,\n",
              "  'q3': 69.0},\n",
              " 'Wilderness_Area1': {'max': 2.5, 'min': -1.5, 'q1': 0.0, 'q3': 1.0},\n",
              " 'Wilderness_Area2': {'max': 0.0, 'min': 0.0, 'q1': 0.0, 'q3': 0.0},\n",
              " 'Wilderness_Area3': {'max': 2.5, 'min': -1.5, 'q1': 0.0, 'q3': 1.0},\n",
              " 'Wilderness_Area4': {'max': 0.0, 'min': 0.0, 'q1': 0.0, 'q3': 0.0}}"
            ]
          },
          "metadata": {
            "tags": []
          },
          "execution_count": 15
        }
      ]
    },
    {
      "cell_type": "markdown",
      "metadata": {
        "colab_type": "text",
        "id": "tqvIkLfqAGrS"
      },
      "source": [
        "Boxplot : \n",
        "A boxplot is a standardized way of displaying the distribution of data based on a five number summary (“minimum”, first quartile (Q1), median, third quartile (Q3), and “maximum”). It can also tell if the data is symmetrical, how tightly the data is grouped, and if and how the data is skewed.\n",
        "\n",
        "For data representation, pandas is used as pyspark doesn't support it. \n",
        "\n",
        "Boxplot is done for numerical featurers here."
      ]
    },
    {
      "cell_type": "code",
      "metadata": {
        "colab_type": "code",
        "id": "eG3gTYtA6pQ7",
        "colab": {
          "base_uri": "https://localhost:8080/",
          "height": 332
        },
        "outputId": "c5b51408-db67-48d9-ce2e-c09da030124a"
      },
      "source": [
        "# Boxplot of elevation\n",
        "sns.boxplot(data=data_pd[\"Elevation\"]).set_title('Boxplot of Elevation')\n",
        "q1 = pd.DataFrame(data_pd[\"Elevation\"]).quantile(0.25)[0]\n",
        "q3 = pd.DataFrame(data_pd[\"Elevation\"]).quantile(0.75)[0]\n",
        "iqr = q3 - q1 #Interquartile range\n",
        "\n",
        "fence_low = q1 - (1.5*iqr)\n",
        "fence_high = q3 + (1.5*iqr)\n",
        "\n",
        "print(\"iqr:\" ,iqr)\n",
        "print(\"fence_low:\" ,fence_low)\n",
        "print(\"fence_high\" ,fence_high)"
      ],
      "execution_count": 16,
      "outputs": [
        {
          "output_type": "stream",
          "text": [
            "iqr: 354.0\n",
            "fence_low: 2278.0\n",
            "fence_high 3694.0\n"
          ],
          "name": "stdout"
        },
        {
          "output_type": "display_data",
          "data": {
            "image/png": "[encoded data removed]",
            "text/plain": [
              "<Figure size 432x288 with 1 Axes>"
            ]
          },
          "metadata": {
            "tags": [],
            "needs_background": "light"
          }
        }
      ]
    },
    {
      "cell_type": "code",
      "metadata": {
        "colab_type": "code",
        "id": "NFLLIbJD8K4h",
        "colab": {
          "base_uri": "https://localhost:8080/",
          "height": 332
        },
        "outputId": "90b012c9-c0b3-4fb2-e6b6-9db31fab1c95"
      },
      "source": [
        "# Boxplot of Aspect\n",
        "sns.boxplot(data=data_pd[\"Aspect\"]).set_title('Boxplot of Aspect')\n",
        "\n",
        "q1 = pd.DataFrame(data_pd[\"Aspect\"]).quantile(0.25)[0]\n",
        "q3 = pd.DataFrame(data_pd[\"Aspect\"]).quantile(0.75)[0]\n",
        "iqr = q3 - q1 #Interquartile range\n",
        "\n",
        "fence_low = q1 - (1.5*iqr)\n",
        "fence_high = q3 + (1.5*iqr)\n",
        "\n",
        "print(\"iqr:\" ,iqr)\n",
        "print(\"fence_low:\" ,fence_low)\n",
        "print(\"fence_high\" ,fence_high)"
      ],
      "execution_count": 17,
      "outputs": [
        {
          "output_type": "stream",
          "text": [
            "iqr: 202.0\n",
            "fence_low: -245.0\n",
            "fence_high 563.0\n"
          ],
          "name": "stdout"
        },
        {
          "output_type": "display_data",
          "data": {
            "image/png": "[encoded data removed]",
            "text/plain": [
              "<Figure size 432x288 with 1 Axes>"
            ]
          },
          "metadata": {
            "tags": [],
            "needs_background": "light"
          }
        }
      ]
    },
    {
      "cell_type": "code",
      "metadata": {
        "colab_type": "code",
        "id": "VjMn-oiN_H2r",
        "colab": {
          "base_uri": "https://localhost:8080/",
          "height": 332
        },
        "outputId": "7a80d1f9-24b7-4e5a-e9bb-55a9a2f75b0f"
      },
      "source": [
        "# Boxplot of Slope\n",
        "sns.boxplot(data=data_pd[\"Slope\"]).set_title('Boxplot of Slope')\n",
        "\n",
        "\n",
        "q1 = pd.DataFrame(data_pd[\"Slope\"]).quantile(0.25)[0]\n",
        "q3 = pd.DataFrame(data_pd[\"Slope\"]).quantile(0.75)[0]\n",
        "iqr = q3 - q1 #Interquartile range\n",
        "\n",
        "fence_low = q1 - (1.5*iqr)\n",
        "fence_high = q3 + (1.5*iqr)\n",
        "\n",
        "print(\"iqr:\" ,iqr)\n",
        "print(\"fence_low:\" ,fence_low)\n",
        "print(\"fence_high\" ,fence_high)"
      ],
      "execution_count": 18,
      "outputs": [
        {
          "output_type": "stream",
          "text": [
            "iqr: 9.0\n",
            "fence_low: -4.5\n",
            "fence_high 31.5\n"
          ],
          "name": "stdout"
        },
        {
          "output_type": "display_data",
          "data": {
            "image/png": "[encoded data removed]",
            "text/plain": [
              "<Figure size 432x288 with 1 Axes>"
            ]
          },
          "metadata": {
            "tags": [],
            "needs_background": "light"
          }
        }
      ]
    },
    {
      "cell_type": "code",
      "metadata": {
        "colab_type": "code",
        "id": "FvlBsauC_zyL",
        "colab": {
          "base_uri": "https://localhost:8080/",
          "height": 332
        },
        "outputId": "3423b89c-6dff-4cdf-ca1e-b29d8338ec22"
      },
      "source": [
        "# Boxplot of Horizontal_Distance_To_Hydrology\n",
        "sns.boxplot(data=data_pd[\"Horizontal_Distance_To_Hydrology\"]).set_title('Horizontal_Distance_To_Hydrology')\n",
        "\n",
        "\n",
        "q1 = pd.DataFrame(data_pd[\"Horizontal_Distance_To_Hydrology\"]).quantile(0.25)[0]\n",
        "q3 = pd.DataFrame(data_pd[\"Horizontal_Distance_To_Hydrology\"]).quantile(0.75)[0]\n",
        "iqr = q3 - q1 #Interquartile range\n",
        "\n",
        "fence_low = q1 - (1.5*iqr)\n",
        "fence_high = q3 + (1.5*iqr)\n",
        "\n",
        "print(\"iqr:\" ,iqr)\n",
        "print(\"fence_low:\" ,fence_low)\n",
        "print(\"fence_high\" ,fence_high)"
      ],
      "execution_count": 19,
      "outputs": [
        {
          "output_type": "stream",
          "text": [
            "iqr: 276.0\n",
            "fence_low: -306.0\n",
            "fence_high 798.0\n"
          ],
          "name": "stdout"
        },
        {
          "output_type": "display_data",
          "data": {
            "image/png": "[encoded data removed]",
            "text/plain": [
              "<Figure size 432x288 with 1 Axes>"
            ]
          },
          "metadata": {
            "tags": [],
            "needs_background": "light"
          }
        }
      ]
    },
    {
      "cell_type": "code",
      "metadata": {
        "colab_type": "code",
        "id": "-7XHGQaCAhc_",
        "colab": {
          "base_uri": "https://localhost:8080/",
          "height": 332
        },
        "outputId": "cca6b533-04b2-48ae-ea20-afd47ef3e5ec"
      },
      "source": [
        "# Boxplot of Vertical_Distance_To_Hydrology\n",
        "sns.boxplot(data=data_pd[\"Vertical_Distance_To_Hydrology\"]).set_title('Vertical_Distance_To_Hydrology')\n",
        "\n",
        "q1 = pd.DataFrame(data_pd[\"Vertical_Distance_To_Hydrology\"]).quantile(0.25)[0]\n",
        "q3 = pd.DataFrame(data_pd[\"Vertical_Distance_To_Hydrology\"]).quantile(0.75)[0]\n",
        "iqr = q3 - q1 #Interquartile range\n",
        "\n",
        "fence_low = q1 - (1.5*iqr)\n",
        "fence_high = q3 + (1.5*iqr)\n",
        "\n",
        "print(\"iqr:\" ,iqr)\n",
        "print(\"fence_low:\" ,fence_low)\n",
        "print(\"fence_high\" ,fence_high)"
      ],
      "execution_count": 20,
      "outputs": [
        {
          "output_type": "stream",
          "text": [
            "iqr: 62.0\n",
            "fence_low: -86.0\n",
            "fence_high 162.0\n"
          ],
          "name": "stdout"
        },
        {
          "output_type": "display_data",
          "data": {
            "image/png": "[encoded data removed]",
            "text/plain": [
              "<Figure size 432x288 with 1 Axes>"
            ]
          },
          "metadata": {
            "tags": [],
            "needs_background": "light"
          }
        }
      ]
    },
    {
      "cell_type": "code",
      "metadata": {
        "colab_type": "code",
        "id": "wVeu4ssvAoyZ",
        "colab": {
          "base_uri": "https://localhost:8080/",
          "height": 332
        },
        "outputId": "4ed4c7db-064d-45d9-cf31-0ed99607e6bb"
      },
      "source": [
        "# Boxplot of Horizontal_Distance_To_Roadways\n",
        "sns.boxplot(data=data_pd[\"Horizontal_Distance_To_Roadways\"]).set_title('Horizontal_Distance_To_Roadways')\n",
        "\n",
        "q1 = pd.DataFrame(data_pd[\"Horizontal_Distance_To_Roadways\"]).quantile(0.25)[0]\n",
        "q3 = pd.DataFrame(data_pd[\"Horizontal_Distance_To_Roadways\"]).quantile(0.75)[0]\n",
        "iqr = q3 - q1 #Interquartile range\n",
        "\n",
        "fence_low = q1 - (1.5*iqr)\n",
        "fence_high = q3 + (1.5*iqr)\n",
        "\n",
        "print(\"iqr:\" ,iqr)\n",
        "print(\"fence_low:\" ,fence_low)\n",
        "print(\"fence_high\" ,fence_high)"
      ],
      "execution_count": 21,
      "outputs": [
        {
          "output_type": "stream",
          "text": [
            "iqr: 2222.0\n",
            "fence_low: -2227.0\n",
            "fence_high 6661.0\n"
          ],
          "name": "stdout"
        },
        {
          "output_type": "display_data",
          "data": {
            "image/png": "[encoded data removed]",
            "text/plain": [
              "<Figure size 432x288 with 1 Axes>"
            ]
          },
          "metadata": {
            "tags": [],
            "needs_background": "light"
          }
        }
      ]
    },
    {
      "cell_type": "code",
      "metadata": {
        "colab_type": "code",
        "id": "K_uaNFRJAvzZ",
        "colab": {
          "base_uri": "https://localhost:8080/",
          "height": 332
        },
        "outputId": "a2524579-7acc-4bc3-f87c-88220001bbab"
      },
      "source": [
        "# Boxplot of Hillshade_9am\n",
        "sns.boxplot(data=data_pd[\"Hillshade_9am\"]).set_title('Hillshade_9am')\n",
        "\n",
        "q1 = pd.DataFrame(data_pd[\"Hillshade_9am\"]).quantile(0.25)[0]\n",
        "q3 = pd.DataFrame(data_pd[\"Hillshade_9am\"]).quantile(0.75)[0]\n",
        "iqr = q3 - q1 #Interquartile range\n",
        "\n",
        "fence_low = q1 - (1.5*iqr)\n",
        "fence_high = q3 + (1.5*iqr)\n",
        "\n",
        "print(\"iqr:\" ,iqr)\n",
        "print(\"fence_low:\" ,fence_low)\n",
        "print(\"fence_high\" ,fence_high)"
      ],
      "execution_count": 22,
      "outputs": [
        {
          "output_type": "stream",
          "text": [
            "iqr: 33.0\n",
            "fence_low: 148.5\n",
            "fence_high 280.5\n"
          ],
          "name": "stdout"
        },
        {
          "output_type": "display_data",
          "data": {
            "image/png": "[encoded data removed]",
            "text/plain": [
              "<Figure size 432x288 with 1 Axes>"
            ]
          },
          "metadata": {
            "tags": [],
            "needs_background": "light"
          }
        }
      ]
    },
    {
      "cell_type": "code",
      "metadata": {
        "colab_type": "code",
        "id": "11thWjY3A3Bq",
        "colab": {
          "base_uri": "https://localhost:8080/",
          "height": 332
        },
        "outputId": "5078ce98-c1cc-4b23-c89c-24651b623d08"
      },
      "source": [
        "# Boxplot of Hillshade_Noon\n",
        "sns.boxplot(data=data_pd[\"Hillshade_Noon\"]).set_title('Hillshade_Noon')\n",
        "\n",
        "q1 = pd.DataFrame(data_pd[\"Hillshade_Noon\"]).quantile(0.25)[0]\n",
        "q3 = pd.DataFrame(data_pd[\"Hillshade_Noon\"]).quantile(0.75)[0]\n",
        "iqr = q3 - q1 #Interquartile range\n",
        "\n",
        "fence_low = q1 - (1.5*iqr)\n",
        "fence_high = q3 + (1.5*iqr)\n",
        "\n",
        "print(\"iqr:\" ,iqr)\n",
        "print(\"fence_low:\" ,fence_low)\n",
        "print(\"fence_high\" ,fence_high)"
      ],
      "execution_count": 23,
      "outputs": [
        {
          "output_type": "stream",
          "text": [
            "iqr: 24.0\n",
            "fence_low: 177.0\n",
            "fence_high 273.0\n"
          ],
          "name": "stdout"
        },
        {
          "output_type": "display_data",
          "data": {
            "image/png": "[encoded data removed]",
            "text/plain": [
              "<Figure size 432x288 with 1 Axes>"
            ]
          },
          "metadata": {
            "tags": [],
            "needs_background": "light"
          }
        }
      ]
    },
    {
      "cell_type": "code",
      "metadata": {
        "colab_type": "code",
        "id": "O3pPfebvBFcG",
        "colab": {
          "base_uri": "https://localhost:8080/",
          "height": 332
        },
        "outputId": "6281fca4-7425-41f8-c23c-9bedbb2c40e3"
      },
      "source": [
        "# Boxplot of Hillshade_3pm\n",
        "sns.boxplot(data=data_pd[\"Hillshade_3pm\"]).set_title('Hillshade_3pm')\n",
        "\n",
        "q1 = pd.DataFrame(data_pd[\"Hillshade_3pm\"]).quantile(0.25)[0]\n",
        "q3 = pd.DataFrame(data_pd[\"Hillshade_3pm\"]).quantile(0.75)[0]\n",
        "iqr = q3 - q1 #Interquartile range\n",
        "\n",
        "fence_low = q1 - (1.5*iqr)\n",
        "fence_high = q3 + (1.5*iqr)\n",
        "\n",
        "print(\"iqr:\" ,iqr)\n",
        "print(\"fence_low:\" ,fence_low)\n",
        "print(\"fence_high\" ,fence_high)"
      ],
      "execution_count": 24,
      "outputs": [
        {
          "output_type": "stream",
          "text": [
            "iqr: 49.0\n",
            "fence_low: 45.5\n",
            "fence_high 241.5\n"
          ],
          "name": "stdout"
        },
        {
          "output_type": "display_data",
          "data": {
            "image/png": "[encoded data removed]",
            "text/plain": [
              "<Figure size 432x288 with 1 Axes>"
            ]
          },
          "metadata": {
            "tags": [],
            "needs_background": "light"
          }
        }
      ]
    },
    {
      "cell_type": "code",
      "metadata": {
        "colab_type": "code",
        "id": "atj9oRyuBNK6",
        "colab": {
          "base_uri": "https://localhost:8080/",
          "height": 332
        },
        "outputId": "ddc430b1-2855-4e9b-fe59-d647aa463648"
      },
      "source": [
        "# Boxplot of Horizontal_Distance_To_Fire_Points\n",
        "sns.boxplot(data=data_pd[\"Horizontal_Distance_To_Fire_Points\"]).set_title('Horizontal_Distance_To_Fire_Points')\n",
        "\n",
        "q1 = pd.DataFrame(data_pd[\"Horizontal_Distance_To_Fire_Points\"]).quantile(0.25)[0]\n",
        "q3 = pd.DataFrame(data_pd[\"Horizontal_Distance_To_Fire_Points\"]).quantile(0.75)[0]\n",
        "iqr = q3 - q1 #Interquartile range\n",
        "\n",
        "fence_low = q1 - (1.5*iqr)\n",
        "fence_high = q3 + (1.5*iqr)\n",
        "\n",
        "print(\"iqr:\" ,iqr)\n",
        "print(\"fence_low:\" ,fence_low)\n",
        "print(\"fence_high\")"
      ],
      "execution_count": 25,
      "outputs": [
        {
          "output_type": "stream",
          "text": [
            "iqr: 1526.0\n",
            "fence_low: -1265.0\n",
            "fence_high\n"
          ],
          "name": "stdout"
        },
        {
          "output_type": "display_data",
          "data": {
            "image/png": "[encoded data removed]",
            "text/plain": [
              "<Figure size 432x288 with 1 Axes>"
            ]
          },
          "metadata": {
            "tags": [],
            "needs_background": "light"
          }
        }
      ]
    },
    {
      "cell_type": "markdown",
      "metadata": {
        "colab_type": "text",
        "id": "7xUZAbGLBzZ0"
      },
      "source": [
        "Detected feature with more outliers:\n",
        "\n",
        "1. Horizontal_Distance_To_Fire_Points\n",
        "2. Horizontal_Distance_To_Roadways \\\n",
        "\n",
        "Quantile  : It is where a sample is divided into equal-sized, adjacent, subgroups (that's why it's sometimes called a “fractile“). It can also refer to dividing a probability distribution into areas of equal probability. Quartiles are also quantiles; they divide the distribution into four equal parts.\n",
        "\n",
        "ApproxQuantile : Calculates the approximate quantiles of a numerical column of a DataFrame.\n",
        "\n"
      ]
    },
    {
      "cell_type": "markdown",
      "metadata": {
        "colab_type": "text",
        "id": "ZY5hIyMdCtCo"
      },
      "source": [
        "Outlier removal in Horizontal distance to firepoints :"
      ]
    },
    {
      "cell_type": "code",
      "metadata": {
        "colab_type": "code",
        "id": "s6QUfKSgCDK4",
        "colab": {
          "base_uri": "https://localhost:8080/",
          "height": 34
        },
        "outputId": "3f70058f-66c6-4a1a-a320-1834dc03113c"
      },
      "source": [
        "# Calculating quantileprobs :\n",
        "quantitleProbs = [0.25, 0.75]\n",
        "relError = 0.0\n",
        "final = data.approxQuantile('Horizontal_Distance_To_Fire_Points',quantitleProbs,relError)\n",
        "print(\"final limit:\",final )"
      ],
      "execution_count": 4,
      "outputs": [
        {
          "output_type": "stream",
          "text": [
            "final limit: [1024.0, 2550.0]\n"
          ],
          "name": "stdout"
        }
      ]
    },
    {
      "cell_type": "code",
      "metadata": {
        "colab_type": "code",
        "id": "yCl8RQGuCZPg",
        "colab": {
          "base_uri": "https://localhost:8080/",
          "height": 51
        },
        "outputId": "625f580e-4e0a-441e-89f3-14f2e32b172c"
      },
      "source": [
        "# Calculating IQR , fence_high and fence_low :\n",
        "iqr = 2550.0 - 1024.0 #Interquartile range\n",
        "\n",
        "fence_low = 1024.0 - (1.5*iqr)\n",
        "fence_high = 2550.0 + (1.5*iqr)\n",
        "print (\"fence_low:\" , fence_low)\n",
        "print(\"fence_high:\" , fence_high)"
      ],
      "execution_count": 5,
      "outputs": [
        {
          "output_type": "stream",
          "text": [
            "fence_low: -1265.0\n",
            "fence_high: 4839.0\n"
          ],
          "name": "stdout"
        }
      ]
    },
    {
      "cell_type": "code",
      "metadata": {
        "colab_type": "code",
        "id": "gkTrvYlHCp5W",
        "colab": {}
      },
      "source": [
        "# outlier removal with respect to Horizontal_Distance_To_Fire_Points :\n",
        "outlier1 = data.filter((col(\"Horizontal_Distance_To_Fire_Points\") > fence_low) & (col(\"Horizontal_Distance_To_Fire_Points\") < fence_high))"
      ],
      "execution_count": 6,
      "outputs": []
    },
    {
      "cell_type": "markdown",
      "metadata": {
        "colab_type": "text",
        "id": "rGv9nKLCDfST"
      },
      "source": [
        "Outlier removal in Horizontal_Distance_To_Roadways :"
      ]
    },
    {
      "cell_type": "code",
      "metadata": {
        "colab_type": "code",
        "id": "NxFFbvaTDozG",
        "colab": {
          "base_uri": "https://localhost:8080/",
          "height": 34
        },
        "outputId": "e08a6d6c-a15a-4221-fc7c-dfabbf67e69d"
      },
      "source": [
        "# Calculating quantileprobs :\n",
        "quantitleProbs = [0.25, 0.75]\n",
        "relError = 0.0\n",
        "final1 = data.approxQuantile('Horizontal_Distance_To_Roadways',quantitleProbs,relError)\n",
        "print(\"final_1 :\",final1)"
      ],
      "execution_count": 7,
      "outputs": [
        {
          "output_type": "stream",
          "text": [
            "final_1 : [1106.0, 3328.0]\n"
          ],
          "name": "stdout"
        }
      ]
    },
    {
      "cell_type": "code",
      "metadata": {
        "colab_type": "code",
        "id": "rtLDIqyPECSE",
        "colab": {
          "base_uri": "https://localhost:8080/",
          "height": 51
        },
        "outputId": "9180d4fb-1424-4112-b0a0-26304b8b7e8b"
      },
      "source": [
        "# Calculating IQR, fence_high and fence_low :\n",
        "iqr1 = 3328.0 - 1106.0 #Interquartile\n",
        "\n",
        "fence_low1 = 1106.0 - (1.5*iqr)\n",
        "fence_high1 = 3328.0 + (1.5*iqr)\n",
        "print (\"fence_low:\" , fence_low1)\n",
        "print(\"fence_high:\" , fence_high1)"
      ],
      "execution_count": 8,
      "outputs": [
        {
          "output_type": "stream",
          "text": [
            "fence_low: -1183.0\n",
            "fence_high: 5617.0\n"
          ],
          "name": "stdout"
        }
      ]
    },
    {
      "cell_type": "code",
      "metadata": {
        "colab_type": "code",
        "id": "wDISqs0pERzX",
        "colab": {}
      },
      "source": [
        "# outlier removal with respect to Horizontal_Distance_To_Roadways :\n",
        "data_withoutoutliers = outlier1.filter((col(\"Horizontal_Distance_To_Roadways\") > fence_low1) & (col(\"Horizontal_Distance_To_Roadways\") < fence_high1))"
      ],
      "execution_count": 9,
      "outputs": []
    },
    {
      "cell_type": "markdown",
      "metadata": {
        "colab_type": "text",
        "id": "6cYDLUypFraj"
      },
      "source": [
        "# Target Variable analysis "
      ]
    },
    {
      "cell_type": "code",
      "metadata": {
        "colab_type": "code",
        "id": "SkBijOqnFzaK",
        "colab": {}
      },
      "source": [
        "# Renaming the target variable as \"label\" as it would be easier in creating dataframe \n",
        "# Here target variable is \"Cover_Type\"\n",
        "data_withoutoutliers = data_withoutoutliers.withColumnRenamed('Cover_Type', 'label')"
      ],
      "execution_count": 10,
      "outputs": []
    },
    {
      "cell_type": "code",
      "metadata": {
        "colab_type": "code",
        "id": "2lMls45mHPje",
        "colab": {}
      },
      "source": [
        "# converting the oulier removed pyspark dataframe into pandas dataframe for data visualisation:\n",
        "data_withoutoutliers_pd = data_withoutoutliers.toPandas() "
      ],
      "execution_count": 33,
      "outputs": []
    },
    {
      "cell_type": "code",
      "metadata": {
        "colab_type": "code",
        "id": "X2cVxjABGFIX",
        "colab": {
          "base_uri": "https://localhost:8080/",
          "height": 221
        },
        "outputId": "3664e4c9-6b85-43c2-b7b1-3b5b2b618cbe"
      },
      "source": [
        "# Getting the count of all label :\n",
        "data_withoutoutliers.groupBy(\"label\").count().sort(\"count\",ascending=True).show()\t"
      ],
      "execution_count": 34,
      "outputs": [
        {
          "output_type": "stream",
          "text": [
            "+-----+------+\n",
            "|label| count|\n",
            "+-----+------+\n",
            "|    4|  2747|\n",
            "|    5|  9189|\n",
            "|    6| 17367|\n",
            "|    7| 20510|\n",
            "|    3| 35754|\n",
            "|    1|196422|\n",
            "|    2|247552|\n",
            "+-----+------+\n",
            "\n"
          ],
          "name": "stdout"
        }
      ]
    },
    {
      "cell_type": "code",
      "metadata": {
        "colab_type": "code",
        "id": "05XTnUtnFPxn",
        "colab": {
          "base_uri": "https://localhost:8080/",
          "height": 368
        },
        "outputId": "a8af948e-b0aa-4387-e412-c634abd83db6"
      },
      "source": [
        "# Target variable visualisation:\n",
        "print(len(data_withoutoutliers_pd))\n",
        "plt.figure(figsize=(8,5))\n",
        "sns.countplot(x='label', data=data_withoutoutliers_pd, order=data_withoutoutliers_pd['label'].value_counts().index)"
      ],
      "execution_count": 35,
      "outputs": [
        {
          "output_type": "stream",
          "text": [
            "529541\n"
          ],
          "name": "stdout"
        },
        {
          "output_type": "execute_result",
          "data": {
            "text/plain": [
              "<matplotlib.axes._subplots.AxesSubplot at 0x7f122d71d278>"
            ]
          },
          "metadata": {
            "tags": []
          },
          "execution_count": 35
        },
        {
          "output_type": "display_data",
          "data": {
            "image/png": "[encoded data removed]",
            "text/plain": [
              "<Figure size 576x360 with 1 Axes>"
            ]
          },
          "metadata": {
            "tags": [],
            "needs_background": "light"
          }
        }
      ]
    },
    {
      "cell_type": "markdown",
      "metadata": {
        "colab_type": "text",
        "id": "bJUyHvqkJ7QB"
      },
      "source": [
        "# Data visualisation "
      ]
    },
    {
      "cell_type": "markdown",
      "metadata": {
        "colab_type": "text",
        "id": "8hzlPZEMIAqd"
      },
      "source": [
        "Dealing numerical data: We have 11 numerical features such as Elevation, Aspect, Slope, Horizontal_Distance_To_Hydrology, Vertical_Distance_To_Hydrology,Horizontal_Distance_To_Roadways,\n",
        "Hillshade_9am, Hillshade_Noon, Hillshade_3pm,Horizontal_Distance_To_Fire_Points, label with respect to data set."
      ]
    },
    {
      "cell_type": "code",
      "metadata": {
        "colab_type": "code",
        "id": "RWSvQ5eyHBWx",
        "colab": {
          "base_uri": "https://localhost:8080/",
          "height": 553
        },
        "outputId": "3fa98369-c03f-4b1e-9e65-9cb25df5cd5c"
      },
      "source": [
        "# Data visualisation of numerical variables :\n",
        "numerical_data = data_withoutoutliers_pd[['Elevation', 'Aspect', 'Slope', 'Horizontal_Distance_To_Hydrology',\n",
        "       'Vertical_Distance_To_Hydrology', 'Horizontal_Distance_To_Roadways',\n",
        "       'Hillshade_9am', 'Hillshade_Noon', 'Hillshade_3pm',\n",
        "       'Horizontal_Distance_To_Fire_Points', 'label']]\n",
        "numerical_data.hist(figsize=(16,9), edgecolor=\"black\", bins=20)\n",
        "plt.show()"
      ],
      "execution_count": 36,
      "outputs": [
        {
          "output_type": "display_data",
          "data": {
            "image/png": "[encoded data removed]",
            "text/plain": [
              "<Figure size 1152x648 with 12 Axes>"
            ]
          },
          "metadata": {
            "tags": [],
            "needs_background": "light"
          }
        }
      ]
    },
    {
      "cell_type": "markdown",
      "metadata": {
        "colab_type": "text",
        "id": "c_AgI0cNIJ7g"
      },
      "source": [
        "Dealing with categorical data: We have 44 categorical features which includes wilderness area (1 to 4 ) and soil type (1-40)"
      ]
    },
    {
      "cell_type": "code",
      "metadata": {
        "colab_type": "code",
        "id": "-IdQE253HzJT",
        "colab": {
          "base_uri": "https://localhost:8080/",
          "height": 429
        },
        "outputId": "4d096351-d87b-420f-dd33-78fb398e81c3"
      },
      "source": [
        "# Data visualisation of categorical data - wilderness area :\n",
        "wilderness_columns = data_withoutoutliers_pd[['Wilderness_Area1', 'Wilderness_Area2', 'Wilderness_Area3', 'Wilderness_Area4']]\n",
        "Types_of_Wilderness = []\n",
        "for index, row in data_withoutoutliers_pd.iterrows():\n",
        "    x = 'NA_Wildernesstypes_values'\n",
        "    for col in wilderness_columns:\n",
        "        if row[col] == 1:\n",
        "            x = col\n",
        "            break\n",
        "    Types_of_Wilderness.append(x)\n",
        "data_withoutoutliers_pd['Wilderness_Areas'] = Types_of_Wilderness\n",
        "\n",
        "# print(pd.value_counts(df['Wilderness_Areas']))\n",
        "figure1 = data_withoutoutliers_pd['Wilderness_Areas'].value_counts().plot(kind='bar',\n",
        "                                    figsize=(8,5),\n",
        "                                    title=\"Wilderness Distribution\")\n",
        "figure1.set_xlabel(\"Areas of Wilderness\")\n",
        "figure1.set_ylabel(\"Frequency\")\n",
        "plt.show()"
      ],
      "execution_count": 37,
      "outputs": [
        {
          "output_type": "display_data",
          "data": {
            "image/png": "[encoded data removed]",
            "text/plain": [
              "<Figure size 576x360 with 1 Axes>"
            ]
          },
          "metadata": {
            "tags": [],
            "needs_background": "light"
          }
        }
      ]
    },
    {
      "cell_type": "code",
      "metadata": {
        "colab_type": "code",
        "id": "sIojburWI4Le",
        "colab": {
          "base_uri": "https://localhost:8080/",
          "height": 437
        },
        "outputId": "f45f2a22-3af0-4535-96b4-65846f03c0fb"
      },
      "source": [
        "# Plotting soil_type categorical data of trainset \n",
        "soil_columns = data_withoutoutliers_pd[['Soil_Type1', 'Soil_Type2', 'Soil_Type3',\n",
        "       'Soil_Type4', 'Soil_Type5', 'Soil_Type6', 'Soil_Type8',\n",
        "       'Soil_Type9', 'Soil_Type10', 'Soil_Type11', 'Soil_Type12',\n",
        "       'Soil_Type13', 'Soil_Type14', 'Soil_Type16',\n",
        "       'Soil_Type17', 'Soil_Type18', 'Soil_Type19', 'Soil_Type20',\n",
        "       'Soil_Type21', 'Soil_Type22', 'Soil_Type23', 'Soil_Type24',\n",
        "       'Soil_Type25', 'Soil_Type26', 'Soil_Type27', 'Soil_Type28',\n",
        "       'Soil_Type29', 'Soil_Type30', 'Soil_Type31', 'Soil_Type32',\n",
        "       'Soil_Type33', 'Soil_Type34', 'Soil_Type35', 'Soil_Type36',\n",
        "       'Soil_Type37', 'Soil_Type38', 'Soil_Type39', 'Soil_Type40']]\n",
        "Types_of_soil = []\n",
        "for index, row in data_withoutoutliers_pd.iterrows():\n",
        "    x = 'NA_Soiltype_values'\n",
        "    for col in soil_columns:\n",
        "        if row[col] == 1:\n",
        "            x = col\n",
        "            break\n",
        "    Types_of_soil.append(x)\n",
        "data_withoutoutliers_pd['Soil_kinds'] = Types_of_soil\n",
        "\n",
        "# print(pd.value_counts(df['Soil_Types']))\n",
        "figure2 = data_withoutoutliers_pd['Soil_kinds'].value_counts().plot(kind='bar',\n",
        "                                    figsize=(8,5),\n",
        "                                    title=\"Number for each Soil Type\")\n",
        "figure2.set_xlabel(\"Soil Types\")\n",
        "figure2.set_ylabel(\"Frequency\")\n",
        "plt.show()"
      ],
      "execution_count": 38,
      "outputs": [
        {
          "output_type": "display_data",
          "data": {
            "image/png": "[encoded data removed]",
            "text/plain": [
              "<Figure size 576x360 with 1 Axes>"
            ]
          },
          "metadata": {
            "tags": [],
            "needs_background": "light"
          }
        }
      ]
    },
    {
      "cell_type": "markdown",
      "metadata": {
        "colab_type": "text",
        "id": "AjD1hk65FAUx"
      },
      "source": [
        "# Statistical analysis :"
      ]
    },
    {
      "cell_type": "code",
      "metadata": {
        "colab_type": "code",
        "id": "gvub2bh1E5Io",
        "colab": {
          "base_uri": "https://localhost:8080/",
          "height": 139
        },
        "outputId": "39206c89-43fc-47d2-b941-b0289817111a"
      },
      "source": [
        "# Checking null value in data set :\n",
        "### Get count of null values in pyspark :\n",
        "\n",
        "from pyspark.sql.functions import isnan, when, count, col\n",
        "total_null_count = data_withoutoutliers.select([count(when(col(c).isNull(), c)).alias(c) for c in data_withoutoutliers.columns])\n",
        "total_null_count.show()"
      ],
      "execution_count": 41,
      "outputs": [
        {
          "output_type": "stream",
          "text": [
            "+---------+------+-----+--------------------------------+------------------------------+-------------------------------+-------------+--------------+-------------+----------------------------------+----------------+----------------+----------------+----------------+----------+----------+----------+----------+----------+----------+----------+----------+----------+-----------+-----------+-----------+-----------+-----------+-----------+-----------+-----------+-----------+-----------+-----------+-----------+-----------+-----------+-----------+-----------+-----------+-----------+-----------+-----------+-----------+-----------+-----------+-----------+-----------+-----------+-----------+-----------+-----------+-----------+-----------+-----+\n",
            "|Elevation|Aspect|Slope|Horizontal_Distance_To_Hydrology|Vertical_Distance_To_Hydrology|Horizontal_Distance_To_Roadways|Hillshade_9am|Hillshade_Noon|Hillshade_3pm|Horizontal_Distance_To_Fire_Points|Wilderness_Area1|Wilderness_Area2|Wilderness_Area3|Wilderness_Area4|Soil_Type1|Soil_Type2|Soil_Type3|Soil_Type4|Soil_Type5|Soil_Type6|Soil_Type7|Soil_Type8|Soil_Type9|Soil_Type10|Soil_Type11|Soil_Type12|Soil_Type13|Soil_Type14|Soil_Type15|Soil_Type16|Soil_Type17|Soil_Type18|Soil_Type19|Soil_Type20|Soil_Type21|Soil_Type22|Soil_Type23|Soil_Type24|Soil_Type25|Soil_Type26|Soil_Type27|Soil_Type28|Soil_Type29|Soil_Type30|Soil_Type31|Soil_Type32|Soil_Type33|Soil_Type34|Soil_Type35|Soil_Type36|Soil_Type37|Soil_Type38|Soil_Type39|Soil_Type40|label|\n",
            "+---------+------+-----+--------------------------------+------------------------------+-------------------------------+-------------+--------------+-------------+----------------------------------+----------------+----------------+----------------+----------------+----------+----------+----------+----------+----------+----------+----------+----------+----------+-----------+-----------+-----------+-----------+-----------+-----------+-----------+-----------+-----------+-----------+-----------+-----------+-----------+-----------+-----------+-----------+-----------+-----------+-----------+-----------+-----------+-----------+-----------+-----------+-----------+-----------+-----------+-----------+-----------+-----------+-----------+-----+\n",
            "|        0|     0|    0|                               0|                             0|                              0|            0|             0|            0|                                 0|               0|               0|               0|               0|         0|         0|         0|         0|         0|         0|         0|         0|         0|          0|          0|          0|          0|          0|          0|          0|          0|          0|          0|          0|          0|          0|          0|          0|          0|          0|          0|          0|          0|          0|          0|          0|          0|          0|          0|          0|          0|          0|          0|          0|    0|\n",
            "+---------+------+-----+--------------------------------+------------------------------+-------------------------------+-------------+--------------+-------------+----------------------------------+----------------+----------------+----------------+----------------+----------+----------+----------+----------+----------+----------+----------+----------+----------+-----------+-----------+-----------+-----------+-----------+-----------+-----------+-----------+-----------+-----------+-----------+-----------+-----------+-----------+-----------+-----------+-----------+-----------+-----------+-----------+-----------+-----------+-----------+-----------+-----------+-----------+-----------+-----------+-----------+-----------+-----------+-----+\n",
            "\n"
          ],
          "name": "stdout"
        }
      ]
    },
    {
      "cell_type": "code",
      "metadata": {
        "colab_type": "code",
        "id": "motnC0QvKW9v",
        "colab": {
          "base_uri": "https://localhost:8080/",
          "height": 119
        },
        "outputId": "c09bb205-1964-47e3-c245-fbfc82ea7a9a"
      },
      "source": [
        "# Getting the mean and standard deviation of target variable :\n",
        "data_withoutoutliers.select(mean(\"label\"),stddev(\"label\")).show()"
      ],
      "execution_count": 42,
      "outputs": [
        {
          "output_type": "stream",
          "text": [
            "+------------------+------------------+\n",
            "|        avg(label)|stddev_samp(label)|\n",
            "+------------------+------------------+\n",
            "|2.0838669715848255|1.4496121905962502|\n",
            "+------------------+------------------+\n",
            "\n"
          ],
          "name": "stdout"
        }
      ]
    },
    {
      "cell_type": "code",
      "metadata": {
        "colab_type": "code",
        "id": "p-fr1YJ6EpT_",
        "colab": {
          "base_uri": "https://localhost:8080/",
          "height": 34
        },
        "outputId": "dea75cc0-87a3-43ea-9e02-9726900243b8"
      },
      "source": [
        "# Final shape of the data after outlier removal :\n",
        "print((data_withoutoutliers.count(), len(data_withoutoutliers.columns)))"
      ],
      "execution_count": 43,
      "outputs": [
        {
          "output_type": "stream",
          "text": [
            "(529541, 55)\n"
          ],
          "name": "stdout"
        }
      ]
    },
    {
      "cell_type": "markdown",
      "metadata": {
        "colab_type": "text",
        "id": "29UYpmb4N5jU"
      },
      "source": [
        "# Correlation\n",
        "\n",
        "Correlation is a statistical technique that can show whether and how strongly pairs of variables are related. Vector assembler is used in pyspark.Its job is to combine the raw features and features generated from various transforms into a single feature vector for model splitting and prediction. It accepts boolean, numerical and vector type inputs.\n",
        "Here all 55 features are considered to perfrom correlation ."
      ]
    },
    {
      "cell_type": "code",
      "metadata": {
        "colab_type": "code",
        "id": "gjMoirG5N00y",
        "colab": {}
      },
      "source": [
        "# Considering features for correlation:\n",
        "corr_columns = ('Elevation', 'Aspect', 'Slope', 'Horizontal_Distance_To_Hydrology', 'Vertical_Distance_To_Hydrology',\n",
        "                            'Horizontal_Distance_To_Roadways', 'Hillshade_9am','Hillshade_Noon', 'Hillshade_3pm','Horizontal_Distance_To_Fire_Points',\n",
        "                             'Wilderness_Area1','Wilderness_Area2', 'Wilderness_Area3', 'Wilderness_Area4',\n",
        "                              'Soil_Type1', 'Soil_Type2', 'Soil_Type3', 'Soil_Type4', 'Soil_Type5',\n",
        "                              'Soil_Type6', 'Soil_Type7','Soil_Type8','Soil_Type9', 'Soil_Type10', 'Soil_Type11', 'Soil_Type12',\n",
        "                              'Soil_Type13', 'Soil_Type14','Soil_Type15', 'Soil_Type16', 'Soil_Type17',\n",
        "                              'Soil_Type18', 'Soil_Type19', 'Soil_Type20', 'Soil_Type21',\n",
        "                              'Soil_Type22', 'Soil_Type23', 'Soil_Type24', 'Soil_Type25',\n",
        "                              'Soil_Type26', 'Soil_Type27', 'Soil_Type28', 'Soil_Type29',\n",
        "                              'Soil_Type30', 'Soil_Type31', 'Soil_Type32', 'Soil_Type33',\n",
        "                              'Soil_Type34', 'Soil_Type35', 'Soil_Type36', 'Soil_Type37',\n",
        "                              'Soil_Type38', 'Soil_Type39', 'Soil_Type40','label')\n",
        "corr_feature = VectorAssembler(inputCols=corr_columns,outputCol=\"corr_vector\")\n",
        "corr_feature_vector= corr_feature.transform(data_withoutoutliers).select(\"corr_vector\")"
      ],
      "execution_count": 44,
      "outputs": []
    },
    {
      "cell_type": "code",
      "metadata": {
        "colab_type": "code",
        "id": "um-N8uq2Pv7E",
        "colab": {
          "base_uri": "https://localhost:8080/",
          "height": 54
        },
        "outputId": "20f4aaa9-1006-46d4-e0a5-e7089a6dc805"
      },
      "source": [
        "# Getting correlation matrix:\n",
        "corr_vector_col = \"corr_vector\"\n",
        "final_matrix = Correlation.corr(corr_feature_vector, corr_vector_col).collect()[0][0]\n",
        "corr_matrix = final_matrix.toArray().tolist()\n",
        "print(corr_matrix)"
      ],
      "execution_count": 45,
      "outputs": [
        {
          "output_type": "stream",
          "text": [
            "[[1.0, 0.011905055485133462, -0.24834627932084166, 0.3071033383279562, 0.09104841319110304, 0.3833042584844533, 0.11768152569063163, 0.2035916227839356, 0.05397122729823003, 0.26370779950701967, 0.13700337887665234, 0.24024651564759705, 0.07887774002053453, -0.6304169420140442, -0.20764805117337573, -0.1901851232484283, -0.18504235365669744, -0.1857245276805237, -0.152670789447052, -0.2176779396124336, -0.0016787055165534924, -0.002390813224830429, -0.06162887150207247, -0.43562431813547453, -0.13547268635736612, -0.11571388983447153, -0.04323861870767661, -0.08201546672726434, -0.007263288355761269, -0.05581695127790976, -0.11238800367842039, -0.06664115677765539, 0.030702050335544274, -0.05223897950240082, 0.01823004740647592, 0.14196439847006875, 0.12664997037689615, 0.05660026963552477, 0.02954350073194697, -0.01635102781790472, 0.03630180468606551, -0.029438102105234343, 0.07558441401508381, -0.029023836133898036, 0.07383793713904767, 0.17387982931011386, 0.07490382274931895, 0.012432929591921436, 0.08506604267707643, 0.021625989782792662, 0.036291460488392775, 0.21820727121801808, 0.19817613118472346, 0.21726803709933853, -0.2657829691177367], [0.011905055485133462, 1.0, 0.07556075773844308, 0.00639428480810431, 0.06362080862907495, 0.009009684072956993, -0.5803309889830894, 0.33424923157369585, 0.6487276427631219, -0.12401749796638957, -0.15499577166982456, 0.065591639313953, 0.07853389661628575, 0.08571613842245862, -0.00810714576524005, -0.006224955104627675, -0.0031126541251343285, 0.01753139937277244, 0.00916554556222772, 0.010917751154596788, -0.004882562357302279, -0.003417494429581424, -0.02181177659364403, 0.05138662589427863, -0.06756921933516331, -0.05803072270910276, 0.056428641201649955, 0.007825810934503689, -0.002778890197165166, 0.0004345936160294052, -0.00039890845264852333, -0.025789871348970258, -0.004561484624753489, -0.024679940225370286, 0.03428812482434086, 0.018939026128105843, 0.013249745376919803, 0.012258049144889455, -0.0034863007630586453, -0.011309436427912916, 0.011683401570437464, 0.028586202323736327, -0.0759456433091871, -0.037882167160261805, 0.001217125604373232, 0.05798038811691055, 0.01921164221572607, 0.011169614387470675, -0.02309188662813852, 0.002336583630869914, -0.02132847054023433, 0.018075384093590146, 0.008462520713900419, -0.005811871606524053, 0.014889459565204488], [-0.24834627932084166, 0.07556075773844308, 1.0, 0.0023845635846855818, 0.27715969546440916, -0.18251109364336673, -0.32836190980573376, -0.5260090848566206, -0.17418066382926065, -0.15352026925893542, -0.20271841201130986, -0.0497985722555753, 0.09155007366175397, 0.2539962695815701, 0.10871007946064269, -0.024877757179212118, 0.126169701495167, 0.1301358149831097, 0.07268899770359404, -0.0013737354398803525, -0.013059518551035945, -0.020563568891239416, -0.036235402560062406, 0.24274244290771413, -0.060183320912091, -0.14377711561185053, 0.19193621508500622, -0.001322067323719215, 0.0010144918180120574, -0.0344412685594178, -0.04558030449421705, -0.037909574391811536, -0.08070698386044584, -0.06183858148031135, -0.028334914324864128, -0.041982559465970064, -0.227882514540377, 0.07484694605570627, 0.026041128942570158, -0.025567698451303224, 0.04336123486178833, 0.06780214633004258, -0.07384009377079655, 0.06743144433301043, -0.04654742718169118, -0.15494318586359537, 0.2041165021713697, -0.014007727309045986, -0.02590243412659619, 0.0023407053605849536, 0.007065164492736449, -0.07904432811900405, 0.09098049030332038, 0.020504123222593065, 0.1427361690933719], [0.3071033383279562, 0.00639428480810431, 0.0023845635846855818, 1.0, 0.6104906730901688, 0.022486740325042005, -0.021369745390376043, 0.023831709453016006, 0.0339671049185108, 0.06364535671608534, -0.1228060343915476, 0.058902625497247556, 0.14595357610896206, -0.1023554782878293, -0.03591443428071777, -0.010599028292118427, -0.04209064490502974, -0.04961927724062134, -0.009132424015194136, -0.012118317084701626, 0.0031673020299120306, 0.0018422392718035318, -0.022453530532440497, -0.07219628448719713, 0.0035014972672993386, -0.003759799167159045, 0.00027663316917806384, -0.040016392092859995, -0.0027724077163205963, -0.06262714892886352, -0.07407085981926732, -0.00018366183626821633, -0.04326159452635716, -0.0940742278290436, -0.04148710406362673, -0.05381228300610277, -0.1333682241142324, 0.02665500072121471, 0.017318313798248896, 0.015018286290700905, 0.055674378427622344, 0.028112369875906526, -0.034066674035231476, -0.05186645260840232, 0.08057297008387192, 0.13874907239068615, 0.11083097935005143, 0.0746110848477417, -0.0047160748901098485, 0.03533479544937313, -0.006840355869888946, 0.05723132621707667, 0.03622399434861957, 0.15512724910613485, -0.019370653019005257], [0.09104841319110304, 0.06362080862907495, 0.27715969546440916, 0.6104906730901688, 1.0, -0.05595437484031072, -0.1615455148200296, -0.11889203594419555, 0.02688024820865813, -0.06306649405484221, -0.18218927403511456, -0.012557261057209633, 0.14504053528257393, 0.07674596687870203, 0.014754848430825886, 0.007739354854516742, 0.007935782768277992, 0.02386690680094033, 0.026798948516806143, 0.04611901970404195, -0.0068177194184276336, -0.01084713250157798, -0.029773852988199883, 0.053638961267026254, -0.023301438261697255, -0.05588618681702297, 0.0835277960752573, -0.02531326792718776, -0.0018180143586361518, -0.04435974688664629, -0.056574793844611594, -0.024718459461032898, -0.05339241178929789, -0.07051554704938078, -0.02727003785510759, -0.07403732254859331, -0.18713200190179413, 0.03098826767710379, -0.014179191934024808, -0.012349696857807966, 0.06826921917467471, 0.0730087456204691, -0.08518615524738603, -0.018230249489129102, 0.031823673261939814, 0.036973529147249884, 0.1684027642126451, 0.06116387599553224, -0.006972785893761024, 0.013107242646120482, -0.00800012805183536, -0.006085999622657623, 0.04378717149856615, 0.182986449913378, 0.08000849366961384], [0.3833042584844533, 0.009009684072956993, -0.18251109364336673, 0.022486740325042005, -0.05595437484031072, 1.0, 0.03929287404981381, 0.14573866503648428, 0.07456467264562074, 0.2771536386325543, 0.37711791906659686, -0.19446594005967158, -0.13911080620348937, -0.2795603092847815, -0.08749668746985116, -0.0859615877657431, -0.08607906402824407, -0.0812108358910499, -0.0646249211005562, -0.11129874410056906, 0.02118264222478363, 0.03017731142705759, -0.04717312405271471, -0.1781145738854932, -0.09399613413455664, 0.010021352536380233, -0.036762207362778035, -0.035084910862726054, -0.0033631805578070027, 0.013117449327371846, -0.04904481915527952, -0.04036973716313267, 0.06753747184003361, 0.006549115418362069, -0.011508471543756008, 0.022152218895231175, 0.03141897862112942, -0.032914572685335326, -0.03672635780517933, 0.013856964489542272, 0.011616234330491281, -0.032325677157172016, 0.2698662656435303, 0.0554228240184737, -0.03503319311566249, -0.054772004574101904, -0.05136080259291081, 0.016147821452680393, 0.0057158643869137365, 0.011286955913260998, 0.023044439143135295, 0.09913312897353027, 0.06533534925055351, 0.04039175610785337, -0.14133592196191075], [0.11768152569063163, -0.5803309889830894, -0.32836190980573376, -0.021369745390376043, -0.1615455148200296, 0.03929287404981381, 1.0, 0.013606328574472595, -0.7805285884954627, 0.14375117401617715, 0.20960888804901048, -0.009543709852557453, -0.09725712140609437, -0.20352174194336065, -0.0001571242044802566, 0.038540882361140325, 0.041763972266963864, 0.026131187172857614, -0.04720589688276582, -0.0046319816372025835, 0.003564279632554887, 0.00435351605716156, 0.02283078447372542, -0.22783546721834427, 0.051388582286573524, 0.08619742647328653, -0.07354737255965939, -0.010655055036821135, -0.0005106647115675469, 0.001208161767412751, 0.0056863612642886726, 0.027872152124953944, 0.01736768275826508, 0.02019866440166597, -0.014126895077313201, 0.0010139625713379205, 0.0398768447585962, -0.10689885258750494, 0.03399634584615068, 0.028885171456249584, 0.0021640695327597515, -0.09348858056462506, 0.09397780605935041, 0.10705487706521016, -0.03375775871181238, 0.010226585208277766, -0.06316944220839237, 0.007936276612969846, 0.029270905708283466, 0.00823934154569747, 0.01086611944508737, 0.016331087095301546, -0.029145632403474734, 2.176984442838165e-05, -0.033388440377176], [0.2035916227839356, 0.33424923157369585, -0.5260090848566206, 0.023831709453016006, -0.11889203594419555, 0.14573866503648428, 0.013606328574472595, 1.0, 0.5908708738853268, 0.03311379580772103, -0.00933200172013956, 0.05552933933666545, 0.08283417308393469, -0.19360076316543853, -0.0517482415402255, 0.04844863891067146, 0.005859063110763867, 0.09203089786181012, -0.06218508973899082, -0.007228940593834595, 0.0039076144880336675, 0.008275995923200833, 0.007106307028502019, -0.24588624045127203, -0.007406929405229547, 0.05665203003273093, 0.06982377942859937, 0.0020771754318750614, -0.0028833982049061846, 0.014974633802788934, 0.032133884690433864, 0.01170240385101185, 0.035942265713109545, 0.009060934514849994, 0.03191398746747046, 0.025275785332524385, 0.1306368929112295, -0.12750342536620166, 0.008457808403024207, 0.044735814751594896, 0.02200516340451984, -0.0037949754411673907, -0.0453206680632139, -0.04662177066827297, 0.007136848629395916, 0.14049142960217836, -0.07937446364010714, 0.04615345661797998, 0.0079617690603377, 0.017215982227391294, -0.022640198443517855, 0.04803488775127342, -0.06930515342150503, -0.036966398997536946, -0.09481108910284732], [0.05397122729823003, 0.6487276427631219, -0.17418066382926065, 0.0339671049185108, 0.02688024820865813, 0.07456467264562074, -0.7805285884954627, 0.5908708738853268, 1.0, -0.07398171863483352, -0.14739787032806606, 0.04628743818217016, 0.11150353023851592, 0.02357798433382126, -0.05055976853621003, -0.0036506752709980503, -0.060986255409738094, -0.0025095103604101357, -0.006290683302200189, 0.0010972488656502677, 0.0008373148756844349, 0.003173006323944953, -0.010050425423933456, 0.02440491785293728, -0.034450976585011846, -0.020749356067655596, 0.0570738452799809, 0.01062586738126117, -0.0011182637425104973, 0.0124207974679411, 0.018575826622171696, -0.011483265342701563, 0.015061848262032525, -0.001636773734798491, 0.032970958492160835, 0.021815136220493685, 0.06964921021253609, 0.018642111907962337, -0.029531254070933353, 0.003255025340466401, 0.0010705267156291976, 0.06210387511362368, -0.08663952910591757, -0.12687808764043204, 0.04515781128878592, 0.09094338073060164, -0.020686517235886104, 0.019120358040131378, -0.01609204900631093, 0.0015933735670985837, -0.02238006176365236, 0.025122664506471222, -0.02751303712275495, -0.021753420333219472, -0.048085036449250086], [0.26370779950701967, -0.12401749796638957, -0.15352026925893542, 0.06364535671608534, -0.06306649405484221, 0.2771536386325543, 0.14375117401617715, 0.03311379580772103, -0.07398171863483352, 1.0, 0.29629522004814796, 0.05678664164024291, -0.17893463087245667, -0.26862679285013524, -0.08548813149403303, -0.08647919905752025, -0.08461700916367268, -0.07094495667077698, -0.05983664812554481, -0.09620132330373442, 0.03389175577891672, 0.03361249419372379, -0.04045916259278958, -0.1873319425964963, -0.023564067837240136, 0.13151800168672875, -0.08589127931712705, -0.03790475435903736, -0.0030063995572924608, 0.0186054539940298, -0.011410598730370774, 0.11215575160093082, 0.009388401011470263, 0.03345613615531696, -0.02446360300065403, 0.016884457584352128, 0.03974952158407845, 0.027553825821901537, 0.057973800106741864, 0.046894911165865555, 0.005631415418571384, -0.015705167784024702, 0.1629783566985941, 0.03288808737287509, -0.03993097055579176, -0.048568675569902485, -0.011139402949965701, -0.03620706218278192, 0.014037561098364022, -0.011338631224418682, 0.011482028815912917, 0.025027348094370207, 0.03017035780350007, 0.03832678426214434, -0.11097175072666611], [0.13700337887665234, -0.15499577166982456, -0.20271841201130986, -0.1228060343915476, -0.18218927403511456, 0.37711791906659686, 0.20960888804901048, -0.00933200172013956, -0.14739787032806606, 0.29629522004814796, 1.0, -0.19379534438519117, -0.778742830700468, -0.22273734484940555, -0.061688614744350515, -0.09761728099652536, -0.07794908319840212, -0.12587804248824155, -0.04471712675305798, -0.09116465927518645, 0.01393853677287617, 0.018823333606498176, 0.05730432593203571, -0.20835933329660467, -0.12595081040813327, 0.2472357835222541, -0.15000125240910075, -0.027360545167125612, -0.0019352069891493597, 0.028096877539784123, -0.0655712362166072, 0.05468049554692058, 0.03676965379047408, 0.04073183501204928, -0.03236916406355342, 0.07490514652901087, 0.06295197770639238, -0.12357251727580656, -0.02433599995337732, -0.05698963277666651, -0.03685753349199001, -0.03439532399087738, 0.562955098630527, 0.27495904085505907, -0.183498725118697, -0.26977666497038866, -0.24823741305891514, -0.04491329950683004, -0.006245154908100036, -0.01218955497637403, 0.018448587778621517, 0.01900241436052868, 0.03015485530247678, 0.027289585803713396, -0.19484112122202366], [0.24024651564759705, 0.065591639313953, -0.0497985722555753, 0.058902625497247556, -0.012557261057209633, -0.19446594005967158, -0.009543709852557453, 0.05552933933666545, 0.04628743818217016, 0.05678664164024291, -0.19379534438519117, 1.0, -0.22830040257052464, -0.0652988682423815, -0.01808496338577562, -0.028618002851211834, -0.022851969061713804, -0.036903078451464816, -0.013109511429257748, -0.02672631784488963, -0.002701223534125189, -0.0036478744187486557, -0.011105311578760095, -0.06108373367386736, -0.03692441148305184, -0.047913143812037776, -0.03200864345924842, -0.008021163380194759, -0.0005673356045957961, -0.0002368107447636107, -0.01922321340901867, 0.00033262592163133507, 0.04351564554457006, -0.021226133073160645, -0.009489516815112767, 0.11117208509747199, 0.13047110193264017, 0.039244348297825825, 0.12557577185655522, -0.016707384764693557, -0.010805351140644355, -0.010083516668266146, -0.10760831995683094, -0.053285782014328, -0.03718660951653888, 0.026263739052211143, 0.011678011370567004, -0.013167022480267033, 0.05633322687034416, -0.0035735549639135332, -0.005655988900164232, 0.06515970144586247, 0.008095355317117428, 0.10181482397292788, -0.04788523560198155], [0.07887774002053453, 0.07853389661628575, 0.09155007366175397, 0.14595357610896206, 0.14504053528257393, -0.13911080620348937, -0.09725712140609437, 0.08283417308393469, 0.11150353023851592, -0.17893463087245667, -0.778742830700468, -0.22830040257052464, 1.0, -0.2623954959182953, -0.07267220801837496, 0.05687251531646553, 0.00240309249104594, 0.1306893254036798, -0.05267896435751751, -0.10739643141974363, -0.010854535582332153, -0.014658536095943637, -0.04462533298769569, -0.014054762506303772, 0.1468426902522517, -0.1925330939105682, 0.1872168059482374, -0.005240551171702316, -0.002279768567618142, -0.03597296497012293, 0.046788223640122764, -0.046888411849246775, -0.04449925845243667, -0.015336886925369466, 0.041565922391141395, -0.0900964386556507, -0.0723532647966215, 0.131132322635285, -0.028668999267955925, 0.07318158258407997, 0.04732953170026256, 0.04416775684463031, -0.43898423379368556, -0.21412238180215426, 0.22813557613750207, 0.29885848670124715, 0.28063607143045954, 0.05767410977823214, -0.01094903703479722, 0.015652863173596987, -0.012207270861716123, -0.024388803814075558, -0.010427670645745445, -0.054689273686446084, 0.04873580954105539], [-0.6304169420140442, 0.08571613842245862, 0.2539962695815701, -0.1023554782878293, 0.07674596687870203, -0.2795603092847815, -0.20352174194336065, -0.19360076316543853, 0.02357798433382126, -0.26862679285013524, -0.22273734484940555, -0.0652988682423815, -0.2623954959182953, 1.0, 0.2769567662129522, 0.10134778335293282, 0.16524072245235438, 0.01826282768207212, 0.20076169437725672, 0.4092922061939079, -0.00310463267187624, -0.004192659348725987, -0.012763813406486564, 0.48183462296136925, -0.013243622156869745, -0.05506864197350925, -0.05054255585100917, 0.0699268130561725, 0.008688291541132308, 0.016757763931576082, 0.051246201914637184, -0.013411103059674506, -0.0219113747869835, -0.029386966883277695, -0.010906710819124922, -0.06566048357918916, -0.09456334151197385, -0.054430337490003707, -0.00819995578089656, -0.01920251765423535, -0.01241905594207108, -0.011589420460845453, -0.125559014877872, -0.06124364670239506, -0.061829447514253066, -0.09090058874560167, -0.08364299039065247, -0.015133426636905428, -0.01640025004821878, -0.004107240794977204, -0.006500671902707265, -0.04636255204403979, -0.04464574055480309, -0.03532586903806411, 0.32109991811093974], [-0.20764805117337573, -0.00810714576524005, 0.10871007946064269, -0.03591443428071777, 0.014754848430825886, -0.08749668746985116, -0.0001571242044802566, -0.0517482415402255, -0.05055976853621003, -0.08548813149403303, -0.061688614744350515, -0.01808496338577562, -0.07267220801837496, 0.2769567662129522, 1.0, -0.00910963551906686, -0.007274201142809303, -0.011746927134369874, -0.004172998080071206, -0.00850747746442996, -0.0008598490250819208, -0.0011611853750556516, -0.003535024485606044, -0.01944407346682193, -0.011753717829838207, -0.015251633000721968, -0.013998102824633027, -0.0025532835122128866, -0.00018059333496216653, -0.00449734623277478, -0.006119101621865393, -0.003714295734756079, -0.006068503504282963, -0.008138919316799708, -0.003020687358484657, -0.01818511520007088, -0.026189957267447293, -0.015074850255111042, -0.0022710332361663144, -0.005318267192664146, -0.003439541573133754, -0.0032097684131179786, -0.034774418729459376, -0.016961842341783866, -0.017124083840280985, -0.02517553310583531, -0.023165492134976144, -0.0041913049030782796, -0.004542160218438487, -0.0011375281286348014, -0.0018004050683852032, -0.012840422487496957, -0.012364939929240716, -0.009783738452444488, 0.08998220593530028], [-0.1901851232484283, -0.006224955104627675, -0.024877757179212118, -0.010599028292118427, 0.007739354854516742, -0.0859615877657431, 0.038540882361140325, 0.04844863891067146, -0.0036506752709980503, -0.08647919905752025, -0.09761728099652536, -0.028618002851211834, 0.05687251531646553, 0.10134778335293282, -0.00910963551906686, 1.0, -0.011510839397603622, -0.018588569246912913, -0.006603434488980447, -0.013462400179652632, -0.001360642060838255, -0.0018374826459568714, -0.005593892486824002, -0.030768685456689832, -0.018599314977392378, -0.024134484952487982, -0.022150874071549784, -0.004040366202230316, -0.0002857744560833394, -0.0071166894047275725, -0.009682987127258064, -0.00587757484823543, -0.009602919667769659, -0.012879186495735764, -0.00477999526975686, -0.02877648505799972, -0.04144350506910237, -0.023854740448171333, -0.003593727797034025, -0.00841573092721202, -0.00544279844239131, -0.005079200860897981, -0.055027726245309286, -0.026840753953683384, -0.027097488101689868, -0.03983826026268029, -0.0366575317752594, -0.00663240356687336, -0.007187603939755431, -0.00180004695249806, -0.00284899649954001, -0.02031893786674607, -0.019566524885994273, -0.015481980745827155, 0.11660289410837778], [-0.18504235365669744, -0.0031126541251343285, 0.126169701495167, -0.04209064490502974, 0.007935782768277992, -0.08607906402824407, 0.041763972266963864, 0.005859063110763867, -0.060986255409738094, -0.08461700916367268, -0.07794908319840212, -0.022851969061713804, 0.00240309249104594, 0.16524072245235438, -0.007274201142809303, -0.011510839397603622, 1.0, -0.014843293277329127, -0.0052729563774169905, -0.010749958828409479, -0.0010864961625729117, -0.0014672615973642046, -0.0044668196697046, -0.02456932623081717, -0.014851873928527569, -0.019271802659398308, -0.017687855145053884, -0.0032263021263711812, -0.00022819583403486962, -0.005682799283520733, -0.007732032294758973, -0.004693344930046217, -0.007668097046845557, -0.010284252638829164, -0.0038169086986095052, -0.0229785198383413, -0.033093353878396264, -0.019048421845892036, -0.002869653653366831, -0.006720106353340915, -0.004346168468195656, -0.004055829525733511, -0.04394058887449638, -0.021432805151763833, -0.021637811798727705, -0.03181153820301342, -0.029271671624407077, -0.005296088685957074, -0.005739425763324644, -0.0014373685502088078, -0.0022749728624638223, -0.01622502247665071, -0.015624207729123919, -0.012362628757048622, 0.06656904539235114], [-0.1857245276805237, 0.01753139937277244, 0.1301358149831097, -0.04961927724062134, 0.02386690680094033, -0.0812108358910499, 0.026131187172857614, 0.09203089786181012, -0.0025095103604101357, -0.07094495667077698, -0.12587804248824155, -0.036903078451464816, 0.1306893254036798, 0.01826282768207212, -0.011746927134369874, -0.018588569246912913, -0.014843293277329127, 1.0, -0.008515166563610673, -0.017359842074154308, -0.001754555724120024, -0.002369444387489122, -0.007213356374432829, -0.03967639597913411, -0.02398392310332553, -0.03112155646282798, -0.0285636788800692, -0.005210075339944225, -0.0003685077965467318, -0.00917701171471681, -0.012486267314303417, -0.007579166402927512, -0.012383019867083844, -0.01660778469113394, -0.0061638312552617066, -0.03710744216407823, -0.05344163695909348, -0.030760824323592544, -0.004634132560425706, -0.010852133192102641, -0.007018519739457351, -0.006549658577329017, -0.07095856790546054, -0.03461130582727926, -0.03494236598036928, -0.0513716645947329, -0.04727009700756175, -0.008552522355337542, -0.009268456413464243, -0.0023211708465373645, -0.00367379729036618, -0.026201386660188192, -0.025231145815607096, -0.019964102771872293, 0.09722535205721657], [-0.152670789447052, 0.00916554556222772, 0.07268899770359404, -0.009132424015194136, 0.026798948516806143, -0.0646249211005562, -0.04720589688276582, -0.06218508973899082, -0.006290683302200189, -0.05983664812554481, -0.04471712675305798, -0.013109511429257748, -0.05267896435751751, 0.20076169437725672, -0.004172998080071206, -0.006603434488980447, -0.0052729563774169905, -0.008515166563610673, 1.0, -0.0061669393890959245, -0.0006232913156248636, -0.0008417253947968748, -0.002562484806201387, -0.014094709395160731, -0.008520089034171204, -0.011055673869656236, -0.010147009150805731, -0.0018508358945209253, -0.00013090932717046023, -0.0032600570198700286, -0.004435642524536613, -0.0026924357737282655, -0.0043989647283699095, -0.005899777264095161, -0.002189649744130277, -0.013182109936988057, -0.018984696667919045, -0.010927526780019065, -0.0016462370163913744, -0.003855129980573473, -0.0024932707134961273, -0.002326711688569781, -0.02520744057122077, -0.012295378281814921, -0.012412984645371107, -0.018249356216457183, -0.016792308473607992, -0.003038212373359043, -0.0032925419878910883, -0.0008245766212150143, -0.001305085905778136, -0.009307824504015174, -0.008963154520509675, -0.007092081323430822, 0.07737996733069896], [-0.2176779396124336, 0.010917751154596788, -0.0013737354398803525, -0.012118317084701626, 0.04611901970404195, -0.11129874410056906, -0.0046319816372025835, -0.007228940593834595, 0.0010972488656502677, -0.09620132330373442, -0.09116465927518645, -0.02672631784488963, -0.10739643141974363, 0.4092922061939079, -0.00850747746442996, -0.013462400179652632, -0.010749958828409479, -0.017359842074154308, -0.0061669393890959245, 1.0, -0.001270701955693913, -0.0017160227946595725, -0.005224129348588263, -0.028734837698505006, -0.017369877498700278, -0.02253916596544004, -0.02068667419093835, -0.0037732930523481454, -0.0002668844148539304, -0.006646267526877869, -0.009042929829749292, -0.005489059958788046, -0.008968154927306043, -0.012027856509004035, -0.004464031733478604, -0.026874324183885197, -0.03870403867250372, -0.022277912915162592, -0.0033561779922556415, -0.00785944081517945, -0.005083022805375832, -0.0047434594689282515, -0.05139032620689793, -0.02506654727418352, -0.025306310980859073, -0.03720490251201242, -0.03423442406964599, -0.006193993575492674, -0.006712494524367207, -0.0016810616463458399, -0.0026606743448018056, -0.018975831210884916, -0.01827315364883618, -0.014458602874306321, 0.11154354447972331], [-0.0016787055165534924, -0.004882562357302279, -0.013059518551035945, 0.0031673020299120306, -0.0068177194184276336, 0.02118264222478363, 0.003564279632554887, 0.0039076144880336675, 0.0008373148756844349, 0.03389175577891672, 0.01393853677287617, -0.002701223534125189, -0.010854535582332153, -0.00310463267187624, -0.0008598490250819208, -0.001360642060838255, -0.0010864961625729117, -0.001754555724120024, -0.0006232913156248636, -0.001270701955693913, 1.0, -0.00017343807646574274, -0.0005280016956925847, -0.002904224229126686, -0.0017555700024473205, -0.0022780289413134283, -0.002090797972681731, -0.00038136596493791976, -2.6973953781385327e-05, -0.0006717369134756189, -0.0009139670872481291, -0.0005547781788331021, -0.000906409602995571, -0.0012156530224538568, -0.0004511787836071012, -0.0027161825048451667, -0.003911809353410398, -0.0022516241484097786, -0.00033920823025486256, -0.0007943520921302751, -0.0005137400859356178, -0.0004794204882618343, -0.0051940098663081045, -0.00253347085854676, -0.0025577037278428543, -0.003760291965153657, -0.0034600663103253396, -0.0006260256767671516, -0.0006784304627049175, -0.00016990456028318513, -0.0002689138174039939, -0.0019178834190296328, -0.0018468639400829401, -0.0014613280655163, -0.0006556500302902848], [-0.002390813224830429, -0.003417494429581424, -0.020563568891239416, 0.0018422392718035318, -0.01084713250157798, 0.03017731142705759, 0.00435351605716156, 0.008275995923200833, 0.003173006323944953, 0.03361249419372379, 0.018823333606498176, -0.0036478744187486557, -0.014658536095943637, -0.004192659348725987, -0.0011611853750556516, -0.0018374826459568714, -0.0014672615973642046, -0.002369444387489122, -0.0008417253947968748, -0.0017160227946595725, -0.00017343807646574274, 1.0, -0.0007130412771991002, -0.003922017240669532, -0.0023708141223210953, -0.003076370169001057, -0.0028235236154890413, -0.0005150166693364667, -3.6427046754385284e-05, -0.0009071488796985007, -0.0012342692542956924, -0.0007492016492076989, -0.001224063229830586, -0.0016416818181321199, -0.000609295573731738, -0.003668075800060066, -0.0052827132190483034, -0.0030407117470494, -0.0004580846457701453, -0.0010727348698670164, -0.0006937816488324075, -0.0006474346579838751, -0.0070142642704946, -0.003421332377266934, -0.00345405771927634, -0.005078096163986115, -0.004672655639622046, -0.0008454180199856317, -0.000916188200841577, -0.00022944805983503833, -0.0003631553712468927, -0.002590010702200615, -0.002494102260263246, -0.0019734543255128167, -0.004546487700492474], [-0.06162887150207247, -0.02181177659364403, -0.036235402560062406, -0.022453530532440497, -0.029773852988199883, -0.04717312405271471, 0.02283078447372542, 0.007106307028502019, -0.010050425423933456, -0.04045916259278958, 0.05730432593203571, -0.011105311578760095, -0.04462533298769569, -0.012763813406486564, -0.003535024485606044, -0.005593892486824002, -0.0044668196697046, -0.007213356374432829, -0.002562484806201387, -0.005224129348588263, -0.0005280016956925847, -0.0007130412771991002, 1.0, -0.011939891146210288, -0.0072175262910317015, -0.009365467485056409, -0.008595720658264664, -0.0015678775979351496, -0.00011089573205216834, -0.0027616550903171683, -0.003757515491922961, -0.002280812548537923, -0.0037264450468761346, -0.004997811330850732, -0.0018548931276454014, -0.011166811128369456, -0.0160822905463096, -0.009256911695924862, -0.001394558073210339, -0.003265752491381121, -0.002112096112275917, -0.001971000856511204, -0.021353692939442732, -0.010415644208794567, -0.010515270752314834, -0.015459369938320743, -0.014225077626453442, -0.002573726353622526, -0.00278917371246008, -0.0006985142313326049, -0.0011055626061218626, -0.007884831696077874, -0.007592855326147557, -0.006007834331859906, -0.007206944114324753], [-0.43562431813547453, 0.05138662589427863, 0.24274244290771413, -0.07219628448719713, 0.053638961267026254, -0.1781145738854932, -0.22783546721834427, -0.24588624045127203, 0.02440491785293728, -0.1873319425964963, -0.20835933329660467, -0.06108373367386736, -0.014054762506303772, 0.48183462296136925, -0.01944407346682193, -0.030768685456689832, -0.02456932623081717, -0.03967639597913411, -0.014094709395160731, -0.028734837698505006, -0.002904224229126686, -0.003922017240669532, -0.011939891146210288, 1.0, -0.03969933221763234, -0.051513883021760506, -0.047279962178514684, -0.008623964933020499, -0.0006099716621367875, -0.01519022702241448, -0.0206678645579865, -0.012545397334134076, -0.020496964464197253, -0.027489996486888994, -0.010202667165078217, -0.06142200622774922, -0.088459143683586, -0.050916781998071065, -0.0076706370039761485, -0.017962967901758376, -0.01161738826514557, -0.01084130693103318, -0.11745400236776546, -0.05729028243643396, -0.057838268974954796, -0.085032826803731, -0.07824371671716626, -0.014156542481417251, -0.015341590644599053, -0.003842112575727557, -0.006081044310480705, -0.043369783546430056, -0.04176379467404243, -0.03304553408352192, 0.24108266615158597], [-0.13547268635736612, -0.06756921933516331, -0.060183320912091, 0.0035014972672993386, -0.023301438261697255, -0.09399613413455664, 0.051388582286573524, -0.007406929405229547, -0.034450976585011846, -0.023564067837240136, -0.12595081040813327, -0.03692441148305184, 0.1468426902522517, -0.013243622156869745, -0.011753717829838207, -0.018599314977392378, -0.014851873928527569, -0.02398392310332553, -0.008520089034171204, -0.017369877498700278, -0.0017555700024473205, -0.0023708141223210953, -0.0072175262910317015, -0.03969933221763234, 1.0, -0.031139547296517692, -0.028580191048954828, -0.005213087194414416, -0.0003687208245323004, -0.009182316786515685, -0.012493485409546349, -0.007583547787978887, -0.012390178276762719, -0.016617385364310087, -0.006167394459535804, -0.037128893334793994, -0.053472530645396914, -0.03077860662426974, -0.004636811472333287, -0.010858406622664216, -0.0070225770243663305, -0.006553444821706926, -0.07099958782667086, -0.03463131402473771, -0.0349625655579781, -0.05140136166580297, -0.04729742303332705, -0.008557466420635377, -0.009273814347862355, -0.002322512675269978, -0.003675921049058636, -0.026216533228786275, -0.025245731504748698, -0.019975643674499128, 0.032276498739423044], [-0.11571388983447153, -0.05803072270910276, -0.14377711561185053, -0.003759799167159045, -0.05588618681702297, 0.010021352536380233, 0.08619742647328653, 0.05665203003273093, -0.020749356067655596, 0.13151800168672875, 0.2472357835222541, -0.047913143812037776, -0.1925330939105682, -0.05506864197350925, -0.015251633000721968, -0.024134484952487982, -0.019271802659398308, -0.03112155646282798, -0.011055673869656236, -0.02253916596544004, -0.0022780289413134283, -0.003076370169001057, -0.009365467485056409, -0.051513883021760506, -0.031139547296517692, 1.0, -0.037085677168683405, -0.00676450582199032, -0.000478452416240084, -0.01191498109379351, -0.016211555962535675, -0.009840417251813758, -0.0160775045501755, -0.02156273161200388, -0.008002815639213014, -0.04817847961499215, -0.06938599554883804, -0.03993834285482535, -0.006016730016270778, -0.014089876512184669, -0.009112501171589868, -0.008503754876386348, -0.09212911798732679, -0.04493761884407307, -0.04536745108005576, -0.06669844513997464, -0.061373171317158276, -0.011104174794140787, -0.012033708397470803, -0.003013694175371423, -0.004769877888130562, -0.03401859302267977, -0.032758879983295595, -0.025920410093837318, -0.020421949583465923], [-0.04323861870767661, 0.056428641201649955, 0.19193621508500622, 0.00027663316917806384, 0.0835277960752573, -0.036762207362778035, -0.07354737255965939, 0.06982377942859937, 0.0570738452799809, -0.08589127931712705, -0.15000125240910075, -0.03200864345924842, 0.1872168059482374, -0.05054255585100917, -0.013998102824633027, -0.022150874071549784, -0.017687855145053884, -0.0285636788800692, -0.010147009150805731, -0.02068667419093835, -0.002090797972681731, -0.0028235236154890413, -0.008595720658264664, -0.047279962178514684, -0.028580191048954828, -0.037085677168683405, 1.0, -0.006208531771618612, -0.00043912846046753015, -0.010935690000971356, -0.0148791298151565, -0.009031634351656714, -0.014756096074840545, -0.019790492878402413, -0.007345065030018894, -0.04421869524091104, -0.06368316758187055, -0.03665581448890283, -0.005522215583854359, -0.012931830984564496, -0.008363545620555234, -0.007804832121878081, -0.08455703508393501, -0.04124420048946394, -0.041638704857379354, -0.061216506669699806, -0.056328916564589, -0.010191523789204937, -0.011044659119549516, -0.00276599895544627, -0.004377842106208192, -0.03122260829763431, -0.030066430945740522, -0.02379001420588962, 0.020539660282069827], [-0.08201546672726434, 0.007825810934503689, -0.001322067323719215, -0.040016392092859995, -0.02531326792718776, -0.035084910862726054, -0.010655055036821135, 0.0020771754318750614, 0.01062586738126117, -0.03790475435903736, -0.027360545167125612, -0.008021163380194759, -0.005240551171702316, 0.0699268130561725, -0.0025532835122128866, -0.004040366202230316, -0.0032263021263711812, -0.005210075339944225, -0.0018508358945209253, -0.0037732930523481454, -0.00038136596493791976, -0.0005150166693364667, -0.0015678775979351496, -0.008623964933020499, -0.005213087194414416, -0.00676450582199032, -0.006208531771618612, 1.0, -8.009795840920088e-05, -0.0019946929468910722, -0.002713984695573218, -0.0016473891760418018, -0.0026915430815537956, -0.003609827688654384, -0.0013397553705832527, -0.00806558337973521, -0.01161594423396751, -0.00668609796154312, -0.0010072637826554927, -0.0023587932771509624, -0.001525528380819263, -0.0014236178589367705, -0.015423381741523811, -0.007523029256424378, -0.007594987686128282, -0.011166020075232042, -0.010274513319911333, -0.0018589554585576177, -0.0020145691442080673, -0.0005045240498813221, -0.0007985276439877669, -0.005695069680038651, -0.005484180489784275, -0.004339348823778965, 0.06540979343591845], [-0.007263288355761269, -0.002778890197165166, 0.0010144918180120574, -0.0027724077163205963, -0.0018180143586361518, -0.0033631805578070027, -0.0005106647115675469, -0.0028833982049061846, -0.0011182637425104973, -0.0030063995572924608, -0.0019352069891493597, -0.0005673356045957961, -0.002279768567618142, 0.008688291541132308, -0.00018059333496216653, -0.0002857744560833394, -0.00022819583403486962, -0.0003685077965467318, -0.00013090932717046023, -0.0002668844148539304, -2.6973953781385327e-05, -3.6427046754385284e-05, -0.00011089573205216834, -0.0006099716621367875, -0.0003687208245323004, -0.000478452416240084, -0.00043912846046753015, -8.009795840920088e-05, 1.0, -0.00014108431350514885, -0.0001919597039911415, -0.0001165195732706236, -0.00019037241221632844, -0.00025532253579151683, -9.476068335137929e-05, -0.000570477424067726, -0.0008215938801596879, -0.0004729066407953759, -7.124360644882255e-05, -0.00016683707170373675, -0.00010790037869034505, -0.00010069226375658923, -0.0010908933268763206, -0.0005321026575925144, -0.0005371922658309689, -0.0007897708162823575, -0.0007267146858861168, -0.00013148362263777175, -0.00014249015376639393, -3.568490545639397e-05, -5.6479732703968e-05, -0.0004028113687495372, -0.00038789521000988326, -0.0003069214491465601, 0.006430105159171055], [-0.05581695127790976, 0.0004345936160294052, -0.0344412685594178, -0.06262714892886352, -0.04435974688664629, 0.013117449327371846, 0.001208161767412751, 0.014974633802788934, 0.0124207974679411, 0.0186054539940298, 0.028096877539784123, -0.0002368107447636107, -0.03597296497012293, 0.016757763931576082, -0.00449734623277478, -0.0071166894047275725, -0.005682799283520733, -0.00917701171471681, -0.0032600570198700286, -0.006646267526877869, -0.0006717369134756189, -0.0009071488796985007, -0.0027616550903171683, -0.01519022702241448, -0.009182316786515685, -0.01191498109379351, -0.010935690000971356, -0.0019946929468910722, -0.00014108431350514885, 1.0, -0.004780404834818412, -0.0029017065552443874, -0.004740876240447721, -0.006358340105547307, -0.00235984125535292, -0.014206695360886585, -0.020460290755365197, -0.01177687371397632, -0.0017741915289344696, -0.00415477169227295, -0.002687061301125295, -0.002507556401071671, -0.027166700227415245, -0.013251042088981169, -0.013377789460041723, -0.019667795636572217, -0.018097498202559497, -0.0032743587966047806, -0.0035484562948186393, -0.0008886672099768187, -0.0014065242948059556, -0.010031279350060741, -0.009659819737061696, -0.007643316534169055, 0.01653039816189286], [-0.11238800367842039, -0.00039890845264852333, -0.04558030449421705, -0.07407085981926732, -0.056574793844611594, -0.04904481915527952, 0.0056863612642886726, 0.032133884690433864, 0.018575826622171696, -0.011410598730370774, -0.0655712362166072, -0.01922321340901867, 0.046788223640122764, 0.051246201914637184, -0.006119101621865393, -0.009682987127258064, -0.007732032294758973, -0.012486267314303417, -0.004435642524536613, -0.009042929829749292, -0.0009139670872481291, -0.0012342692542956924, -0.003757515491922961, -0.0206678645579865, -0.012493485409546349, -0.016211555962535675, -0.0148791298151565, -0.002713984695573218, -0.0001919597039911415, -0.004780404834818412, 1.0, -0.003948069899305562, -0.006450449218380097, -0.00865117499041678, -0.003210806485776309, -0.019329668681193145, -0.02783832773038411, -0.016023646682686982, -0.002413969861400802, -0.005652993762275229, -0.003656022977715653, -0.003411788118267614, -0.03696308685572183, -0.018029404217798823, -0.01820185703856937, -0.02676005669770567, -0.024623505701197267, -0.004455101561195923, -0.004828039369196276, -0.001209123043771681, -0.0019137208140254849, -0.013648586202461377, -0.013143177233991197, -0.010399517444270256, 0.08963036054399452], [-0.06664115677765539, -0.025789871348970258, -0.037909574391811536, -0.00018366183626821633, -0.024718459461032898, -0.04036973716313267, 0.027872152124953944, 0.01170240385101185, -0.011483265342701563, 0.11215575160093082, 0.05468049554692058, 0.00033262592163133507, -0.046888411849246775, -0.013411103059674506, -0.003714295734756079, -0.00587757484823543, -0.004693344930046217, -0.007579166402927512, -0.0026924357737282655, -0.005489059958788046, -0.0005547781788331021, -0.0007492016492076989, -0.002280812548537923, -0.012545397334134076, -0.007583547787978887, -0.009840417251813758, -0.009031634351656714, -0.0016473891760418018, -0.0001165195732706236, -0.0029017065552443874, -0.003948069899305562, 1.0, -0.003915423782713072, -0.005251264704072335, -0.001948960087969666, -0.01173311220723231, -0.01689786971051911, -0.009726356286692817, -0.0014652801202045408, -0.003431368183982007, -0.002219206574993893, -0.0020709559733884148, -0.022436600065774533, -0.010943851454774313, -0.011048530346581872, -0.01624335900860865, -0.014946472187010028, -0.0027042474123204195, -0.002930620725787751, -0.0007339378951035237, -0.0011616288625848803, -0.008284694167540031, -0.00797791083693014, -0.006312508873647232, -0.003018939760585964], [0.030702050335544274, -0.004561484624753489, -0.08070698386044584, -0.04326159452635716, -0.05339241178929789, 0.06753747184003361, 0.01736768275826508, 0.035942265713109545, 0.015061848262032525, 0.009388401011470263, 0.03676965379047408, 0.04351564554457006, -0.04449925845243667, -0.0219113747869835, -0.006068503504282963, -0.009602919667769659, -0.007668097046845557, -0.012383019867083844, -0.0043989647283699095, -0.008968154927306043, -0.000906409602995571, -0.001224063229830586, -0.0037264450468761346, -0.020496964464197253, -0.012390178276762719, -0.0160775045501755, -0.014756096074840545, -0.0026915430815537956, -0.00019037241221632844, -0.004740876240447721, -0.006450449218380097, -0.003915423782713072, 1.0, -0.008579639461765461, -0.003184256711946567, -0.019169833968648815, -0.027608135936417668, -0.015891149069630066, -0.0023940090340709946, -0.0056062498346937245, -0.00362579176209905, -0.0033835764514180914, -0.0366574435226789, -0.017880321236190284, -0.01805134806526434, -0.0265387809976152, -0.024419896885107536, -0.004418262860588377, -0.0047881168905725725, -0.0011991249503061677, -0.0018978964860845993, -0.01353572767972687, -0.01303449787741443, -0.01031352508150814, -0.03644380780848982], [-0.05223897950240082, -0.024679940225370286, -0.06183858148031135, -0.0940742278290436, -0.07051554704938078, 0.006549115418362069, 0.02019866440166597, 0.009060934514849994, -0.001636773734798491, 0.03345613615531696, 0.04073183501204928, -0.021226133073160645, -0.015336886925369466, -0.029386966883277695, -0.008138919316799708, -0.012879186495735764, -0.010284252638829164, -0.01660778469113394, -0.005899777264095161, -0.012027856509004035, -0.0012156530224538568, -0.0016416818181321199, -0.004997811330850732, -0.027489996486888994, -0.016617385364310087, -0.02156273161200388, -0.019790492878402413, -0.003609827688654384, -0.00025532253579151683, -0.006358340105547307, -0.00865117499041678, -0.005251264704072335, -0.008579639461765461, 1.0, -0.004270642415254442, -0.02571008352836308, -0.037027315006929684, -0.021312796480660166, -0.0032107827503505214, -0.007518956698663931, -0.004862817759009934, -0.004537964874021969, -0.049164011354802375, -0.023980622536858554, -0.024209999278893793, -0.035593123931355296, -0.032751331581531755, -0.00592565941790461, -0.0064216980387787805, -0.0016082352452157845, -0.002545409483734884, -0.018153766476647428, -0.017481530081411394, -0.01383223202408006, -0.024325006652588927], [0.01823004740647592, 0.03428812482434086, -0.028334914324864128, -0.04148710406362673, -0.02727003785510759, -0.011508471543756008, -0.014126895077313201, 0.03191398746747046, 0.032970958492160835, -0.02446360300065403, -0.03236916406355342, -0.009489516815112767, 0.041565922391141395, -0.010906710819124922, -0.003020687358484657, -0.00477999526975686, -0.0038169086986095052, -0.0061638312552617066, -0.002189649744130277, -0.004464031733478604, -0.0004511787836071012, -0.000609295573731738, -0.0018548931276454014, -0.010202667165078217, -0.006167394459535804, -0.008002815639213014, -0.007345065030018894, -0.0013397553705832527, -9.476068335137929e-05, -0.00235984125535292, -0.003210806485776309, -0.001948960087969666, -0.003184256711946567, -0.004270642415254442, 1.0, -0.009542068335707296, -0.013742357923268035, -0.007910054443002015, -0.0011916533986035453, -0.002790593758776611, -0.0018047914667167206, -0.0016842252140171839, -0.018246784592803003, -0.008900194304194689, -0.008985325437460265, -0.013210070689175813, -0.012155364788746056, -0.002199255674817067, -0.0023833559875332706, -0.0005968821763185864, -0.0009447060414782755, -0.006737608614905616, -0.00648811406876712, -0.005133709622667035, -0.026522824324046304], [0.14196439847006875, 0.018939026128105843, -0.041982559465970064, -0.05381228300610277, -0.07403732254859331, 0.022152218895231175, 0.0010139625713379205, 0.025275785332524385, 0.021815136220493685, 0.016884457584352128, 0.07490514652901087, 0.11117208509747199, -0.0900964386556507, -0.06566048357918916, -0.01818511520007088, -0.02877648505799972, -0.0229785198383413, -0.03710744216407823, -0.013182109936988057, -0.026874324183885197, -0.0027161825048451667, -0.003668075800060066, -0.011166811128369456, -0.06142200622774922, -0.037128893334793994, -0.04817847961499215, -0.04421869524091104, -0.00806558337973521, -0.000570477424067726, -0.014206695360886585, -0.019329668681193145, -0.01173311220723231, -0.019169833968648815, -0.02571008352836308, -0.009542068335707296, 1.0, -0.08273162108395182, -0.04762003948564371, -0.007173981203745792, -0.01679990775523658, -0.010865189554344658, -0.010139357670941202, -0.10984913050301909, -0.05358087068169429, -0.054093376373883395, -0.07952715020605536, -0.07317761911418778, -0.01323993947557057, -0.014348258542656247, -0.0035933447752327682, -0.005687310918235379, -0.04056169152722693, -0.03905968667704807, -0.030905913063027323, -0.139702648523331], [0.12664997037689615, 0.013249745376919803, -0.227882514540377, -0.1333682241142324, -0.18713200190179413, 0.03141897862112942, 0.0398768447585962, 0.1306368929112295, 0.06964921021253609, 0.03974952158407845, 0.06295197770639238, 0.13047110193264017, -0.0723532647966215, -0.09456334151197385, -0.026189957267447293, -0.04144350506910237, -0.033093353878396264, -0.05344163695909348, -0.018984696667919045, -0.03870403867250372, -0.003911809353410398, -0.0052827132190483034, -0.0160822905463096, -0.088459143683586, -0.053472530645396914, -0.06938599554883804, -0.06368316758187055, -0.01161594423396751, -0.0008215938801596879, -0.020460290755365197, -0.02783832773038411, -0.01689786971051911, -0.027608135936417668, -0.037027315006929684, -0.013742357923268035, -0.08273162108395182, 1.0, -0.06858173761793383, -0.010331870823828495, -0.024195000216715015, -0.015647899229689358, -0.014602565955715198, -0.15820323391347543, -0.07716644618785387, -0.07790454996284145, -0.11453392747769525, -0.10538941856835983, -0.019067981988226842, -0.020664168137520957, -0.005175086606555255, -0.008190788360509835, -0.05841640023205966, -0.05625323313584409, -0.04451027851772816, -0.14235164093464253], [0.05660026963552477, 0.012258049144889455, 0.07484694605570627, 0.02665500072121471, 0.03098826767710379, -0.032914572685335326, -0.10689885258750494, -0.12750342536620166, 0.018642111907962337, 0.027553825821901537, -0.12357251727580656, 0.039244348297825825, 0.131132322635285, -0.054430337490003707, -0.015074850255111042, -0.023854740448171333, -0.019048421845892036, -0.030760824323592544, -0.010927526780019065, -0.022277912915162592, -0.0022516241484097786, -0.0030407117470494, -0.009256911695924862, -0.050916781998071065, -0.03077860662426974, -0.03993834285482535, -0.03665581448890283, -0.00668609796154312, -0.0004729066407953759, -0.01177687371397632, -0.016023646682686982, -0.009726356286692817, -0.015891149069630066, -0.021312796480660166, -0.007910054443002015, -0.04762003948564371, -0.06858173761793383, 1.0, -0.005946989677526352, -0.013926559767346596, -0.009006877532703449, -0.008405187258415294, -0.09106124293239061, -0.04441674375875621, -0.0448415937792066, -0.06592533879396789, -0.06066179059276088, -0.010975465526893215, -0.011894224841166676, -0.002978762235248776, -0.0047145898996736775, -0.033624281129908326, -0.0323791695125341, -0.02561996480620597, -0.07338669873173757], [0.02954350073194697, -0.0034863007630586453, 0.026041128942570158, 0.017318313798248896, -0.014179191934024808, -0.03672635780517933, 0.03399634584615068, 0.008457808403024207, -0.029531254070933353, 0.057973800106741864, -0.02433599995337732, 0.12557577185655522, -0.028668999267955925, -0.00819995578089656, -0.0022710332361663144, -0.003593727797034025, -0.002869653653366831, -0.004634132560425706, -0.0016462370163913744, -0.0033561779922556415, -0.00033920823025486256, -0.0004580846457701453, -0.001394558073210339, -0.0076706370039761485, -0.004636811472333287, -0.006016730016270778, -0.005522215583854359, -0.0010072637826554927, -7.124360644882255e-05, -0.0017741915289344696, -0.002413969861400802, -0.0014652801202045408, -0.0023940090340709946, -0.0032107827503505214, -0.0011916533986035453, -0.007173981203745792, -0.010331870823828495, -0.005946989677526352, 1.0, -0.0020980427375308446, -0.0013568903096675244, -0.0012662453886459616, -0.013718418805252045, -0.006691403205429387, -0.006755407059563968, -0.009931683099529581, -0.009138727103097596, -0.0016534590110121468, -0.001791870531089766, -0.00044875192286526636, -0.0007102551717502324, -0.005065513666534204, -0.004877937019473651, -0.003859659671549847, -0.007176905949669044], [-0.01635102781790472, -0.011309436427912916, -0.025567698451303224, 0.015018286290700905, -0.012349696857807966, 0.013856964489542272, 0.028885171456249584, 0.044735814751594896, 0.003255025340466401, 0.046894911165865555, -0.05698963277666651, -0.016707384764693557, 0.07318158258407997, -0.01920251765423535, -0.005318267192664146, -0.00841573092721202, -0.006720106353340915, -0.010852133192102641, -0.003855129980573473, -0.00785944081517945, -0.0007943520921302751, -0.0010727348698670164, -0.003265752491381121, -0.017962967901758376, -0.010858406622664216, -0.014089876512184669, -0.012931830984564496, -0.0023587932771509624, -0.00016683707170373675, -0.00415477169227295, -0.005652993762275229, -0.003431368183982007, -0.0056062498346937245, -0.007518956698663931, -0.002790593758776611, -0.01679990775523658, -0.024195000216715015, -0.013926559767346596, -0.0020980427375308446, 1.0, -0.0031775427602857937, -0.00296527201850467, -0.03212556095848167, -0.01566981476695425, -0.015819697909229442, -0.023257847377578852, -0.021400916446805945, -0.003872042325336021, -0.004196172080283239, -0.0010508796573351958, -0.0016632635393375966, -0.011862334164777435, -0.011423070347636616, -0.00903848568975729, -0.0019448204883210551], [0.03630180468606551, 0.011683401570437464, 0.04336123486178833, 0.055674378427622344, 0.06826921917467471, 0.011616234330491281, 0.0021640695327597515, 0.02200516340451984, 0.0010705267156291976, 0.005631415418571384, -0.03685753349199001, -0.010805351140644355, 0.04732953170026256, -0.01241905594207108, -0.003439541573133754, -0.00544279844239131, -0.004346168468195656, -0.007018519739457351, -0.0024932707134961273, -0.005083022805375832, -0.0005137400859356178, -0.0006937816488324075, -0.002112096112275917, -0.01161738826514557, -0.0070225770243663305, -0.009112501171589868, -0.008363545620555234, -0.001525528380819263, -0.00010790037869034505, -0.002687061301125295, -0.003656022977715653, -0.002219206574993893, -0.00362579176209905, -0.004862817759009934, -0.0018047914667167206, -0.010865189554344658, -0.015647899229689358, -0.009006877532703449, -0.0013568903096675244, -0.0031775427602857937, 1.0, -0.001917763063383781, -0.02077691820925372, -0.010134312057240785, -0.010231247634241982, -0.015041804042325439, -0.013840850629597062, -0.002504208620675781, -0.002713836630484768, -0.0006796469862873289, -0.0010757007655652268, -0.007671858151549152, -0.007387768220393885, -0.0058455594955772235, -0.015552040449637582], [-0.029438102105234343, 0.028586202323736327, 0.06780214633004258, 0.028112369875906526, 0.0730087456204691, -0.032325677157172016, -0.09348858056462506, -0.0037949754411673907, 0.06210387511362368, -0.015705167784024702, -0.03439532399087738, -0.010083516668266146, 0.04416775684463031, -0.011589420460845453, -0.0032097684131179786, -0.005079200860897981, -0.004055829525733511, -0.006549658577329017, -0.002326711688569781, -0.0047434594689282515, -0.0004794204882618343, -0.0006474346579838751, -0.001971000856511204, -0.01084130693103318, -0.006553444821706926, -0.008503754876386348, -0.007804832121878081, -0.0014236178589367705, -0.00010069226375658923, -0.002507556401071671, -0.003411788118267614, -0.0020709559733884148, -0.0033835764514180914, -0.004537964874021969, -0.0016842252140171839, -0.010139357670941202, -0.014602565955715198, -0.008405187258415294, -0.0012662453886459616, -0.00296527201850467, -0.001917763063383781, 1.0, -0.019388948896825853, -0.009457305294430644, -0.009547765242813337, -0.014036960003183838, -0.01291623439256425, -0.002336918906079549, -0.0025325430467049623, -0.0006342442393183029, -0.0010038402693683113, -0.007159351745334047, -0.0068942399947944984, -0.005455056095981661, -0.002663448159716986], [0.07558441401508381, -0.0759456433091871, -0.07384009377079655, -0.034066674035231476, -0.08518615524738603, 0.2698662656435303, 0.09397780605935041, -0.0453206680632139, -0.08663952910591757, 0.1629783566985941, 0.562955098630527, -0.10760831995683094, -0.43898423379368556, -0.125559014877872, -0.034774418729459376, -0.055027726245309286, -0.04394058887449638, -0.07095856790546054, -0.02520744057122077, -0.05139032620689793, -0.0051940098663081045, -0.0070142642704946, -0.021353692939442732, -0.11745400236776546, -0.07099958782667086, -0.09212911798732679, -0.08455703508393501, -0.015423381741523811, -0.0010908933268763206, -0.027166700227415245, -0.03696308685572183, -0.022436600065774533, -0.0366574435226789, -0.049164011354802375, -0.018246784592803003, -0.10984913050301909, -0.15820323391347543, -0.09106124293239061, -0.013718418805252045, -0.03212556095848167, -0.02077691820925372, -0.019388948896825853, 1.0, -0.10245982015923596, -0.10343985725800264, -0.15207549642661605, -0.13993362927344766, -0.025318024890730144, -0.02743740389386844, -0.0068713601469388725, -0.010875539095544047, -0.07756394336932526, -0.07469174019551227, -0.05909971700733529, -0.12313972182390506], [-0.029023836133898036, -0.037882167160261805, 0.06743144433301043, -0.05186645260840232, -0.018230249489129102, 0.0554228240184737, 0.10705487706521016, -0.04662177066827297, -0.12687808764043204, 0.03288808737287509, 0.27495904085505907, -0.053285782014328, -0.21412238180215426, -0.06124364670239506, -0.016961842341783866, -0.026840753953683384, -0.021432805151763833, -0.03461130582727926, -0.012295378281814921, -0.02506654727418352, -0.00253347085854676, -0.003421332377266934, -0.010415644208794567, -0.05729028243643396, -0.03463131402473771, -0.04493761884407307, -0.04124420048946394, -0.007523029256424378, -0.0005321026575925144, -0.013251042088981169, -0.018029404217798823, -0.010943851454774313, -0.017880321236190284, -0.023980622536858554, -0.008900194304194689, -0.05358087068169429, -0.07716644618785387, -0.04441674375875621, -0.006691403205429387, -0.01566981476695425, -0.010134312057240785, -0.009457305294430644, -0.10245982015923596, 1.0, -0.050454633456763036, -0.07417753304533464, -0.06825512099902038, -0.01234931775403398, -0.013383082625659706, -0.0033516283447538146, -0.005304737972924061, -0.03783319540357996, -0.03643222712897539, -0.028826940002112528, -0.012487052830983341], [0.07383793713904767, 0.001217125604373232, -0.04654742718169118, 0.08057297008387192, 0.031823673261939814, -0.03503319311566249, -0.03375775871181238, 0.007136848629395916, 0.04515781128878592, -0.03993097055579176, -0.183498725118697, -0.03718660951653888, 0.22813557613750207, -0.061829447514253066, -0.017124083840280985, -0.027097488101689868, -0.021637811798727705, -0.03494236598036928, -0.012412984645371107, -0.025306310980859073, -0.0025577037278428543, -0.00345405771927634, -0.010515270752314834, -0.057838268974954796, -0.0349625655579781, -0.04536745108005576, -0.041638704857379354, -0.007594987686128282, -0.0005371922658309689, -0.013377789460041723, -0.01820185703856937, -0.011048530346581872, -0.01805134806526434, -0.024209999278893793, -0.008985325437460265, -0.054093376373883395, -0.07790454996284145, -0.0448415937792066, -0.006755407059563968, -0.015819697909229442, -0.010231247634241982, -0.009547765242813337, -0.10343985725800264, -0.050454633456763036, 1.0, -0.0748870476059345, -0.0689079871728619, -0.012467440053337279, -0.013511092975947481, -0.0033836869616246214, -0.005355478253403007, -0.038195073210927015, -0.03678070455282407, -0.02910267219256617, -0.07113405797139104], [0.17387982931011386, 0.05798038811691055, -0.15494318586359537, 0.13874907239068615, 0.036973529147249884, -0.054772004574101904, 0.010226585208277766, 0.14049142960217836, 0.09094338073060164, -0.048568675569902485, -0.26977666497038866, 0.026263739052211143, 0.29885848670124715, -0.09090058874560167, -0.02517553310583531, -0.03983826026268029, -0.03181153820301342, -0.0513716645947329, -0.018249356216457183, -0.03720490251201242, -0.003760291965153657, -0.005078096163986115, -0.015459369938320743, -0.085032826803731, -0.05140136166580297, -0.06669844513997464, -0.061216506669699806, -0.011166020075232042, -0.0007897708162823575, -0.019667795636572217, -0.02676005669770567, -0.01624335900860865, -0.0265387809976152, -0.035593123931355296, -0.013210070689175813, -0.07952715020605536, -0.11453392747769525, -0.06592533879396789, -0.009931683099529581, -0.023257847377578852, -0.015041804042325439, -0.014036960003183838, -0.15207549642661605, -0.07417753304533464, -0.0748870476059345, 1.0, -0.10130733582640493, -0.018329415619274352, -0.019863776169552046, -0.004974638288197387, -0.007873531881978693, -0.05615373873839419, -0.05407435829923943, -0.04278624737451647, -0.08403581795046254], [0.07490382274931895, 0.01921164221572607, 0.2041165021713697, 0.11083097935005143, 0.1684027642126451, -0.05136080259291081, -0.06316944220839237, -0.07937446364010714, -0.020686517235886104, -0.011139402949965701, -0.24823741305891514, 0.011678011370567004, 0.28063607143045954, -0.08364299039065247, -0.023165492134976144, -0.0366575317752594, -0.029271671624407077, -0.04727009700756175, -0.016792308473607992, -0.03423442406964599, -0.0034600663103253396, -0.004672655639622046, -0.014225077626453442, -0.07824371671716626, -0.04729742303332705, -0.061373171317158276, -0.056328916564589, -0.010274513319911333, -0.0007267146858861168, -0.018097498202559497, -0.024623505701197267, -0.014946472187010028, -0.024419896885107536, -0.032751331581531755, -0.012155364788746056, -0.07317761911418778, -0.10538941856835983, -0.06066179059276088, -0.009138727103097596, -0.021400916446805945, -0.013840850629597062, -0.01291623439256425, -0.13993362927344766, -0.06825512099902038, -0.0689079871728619, -0.10130733582640493, 1.0, -0.016865975849726524, -0.018277831444213893, -0.004577457949157663, -0.007244900837638472, -0.05167036533547181, -0.049757004811729906, -0.0393701485038173, -0.07015360877590403], [0.012432929591921436, 0.011169614387470675, -0.014007727309045986, 0.0746110848477417, 0.06116387599553224, 0.016147821452680393, 0.007936276612969846, 0.04615345661797998, 0.019120358040131378, -0.03620706218278192, -0.04491329950683004, -0.013167022480267033, 0.05767410977823214, -0.015133426636905428, -0.0041913049030782796, -0.00663240356687336, -0.005296088685957074, -0.008552522355337542, -0.003038212373359043, -0.006193993575492674, -0.0006260256767671516, -0.0008454180199856317, -0.002573726353622526, -0.014156542481417251, -0.008557466420635377, -0.011104174794140787, -0.010191523789204937, -0.0018589554585576177, -0.00013148362263777175, -0.0032743587966047806, -0.004455101561195923, -0.0027042474123204195, -0.004418262860588377, -0.00592565941790461, -0.002199255674817067, -0.01323993947557057, -0.019067981988226842, -0.010975465526893215, -0.0016534590110121468, -0.003872042325336021, -0.002504208620675781, -0.002336918906079549, -0.025318024890730144, -0.01234931775403398, -0.012467440053337279, -0.018329415619274352, -0.016865975849726524, 1.0, -0.003306986275249746, -0.0008281940152254367, -0.001310811280251756, -0.009348657663414325, -0.00900247562256712, -0.007123194080985122, 0.003450953281052762], [0.08506604267707643, -0.02309188662813852, -0.02590243412659619, -0.0047160748901098485, -0.006972785893761024, 0.0057158643869137365, 0.029270905708283466, 0.0079617690603377, -0.01609204900631093, 0.014037561098364022, -0.006245154908100036, 0.05633322687034416, -0.01094903703479722, -0.01640025004821878, -0.004542160218438487, -0.007187603939755431, -0.005739425763324644, -0.009268456413464243, -0.0032925419878910883, -0.006712494524367207, -0.0006784304627049175, -0.000916188200841577, -0.00278917371246008, -0.015341590644599053, -0.009273814347862355, -0.012033708397470803, -0.011044659119549516, -0.0020145691442080673, -0.00014249015376639393, -0.0035484562948186393, -0.004828039369196276, -0.002930620725787751, -0.0047881168905725725, -0.0064216980387787805, -0.0023833559875332706, -0.014348258542656247, -0.020664168137520957, -0.011894224841166676, -0.001791870531089766, -0.004196172080283239, -0.002713836630484768, -0.0025325430467049623, -0.02743740389386844, -0.013383082625659706, -0.013511092975947481, -0.019863776169552046, -0.018277831444213893, -0.003306986275249746, 1.0, -0.0008975223697858371, -0.001420539662162762, -0.010131236432685644, -0.009756075395577804, -0.007719478666203549, 0.07972071710827892], [0.021625989782792662, 0.002336583630869914, 0.0023407053605849536, 0.03533479544937313, 0.013107242646120482, 0.011286955913260998, 0.00823934154569747, 0.017215982227391294, 0.0015933735670985837, -0.011338631224418682, -0.01218955497637403, -0.0035735549639135332, 0.015652863173596987, -0.004107240794977204, -0.0011375281286348014, -0.00180004695249806, -0.0014373685502088078, -0.0023211708465373645, -0.0008245766212150143, -0.0016810616463458399, -0.00016990456028318513, -0.00022944805983503833, -0.0006985142313326049, -0.003842112575727557, -0.002322512675269978, -0.003013694175371423, -0.00276599895544627, -0.0005045240498813221, -3.568490545639397e-05, -0.0008886672099768187, -0.001209123043771681, -0.0007339378951035237, -0.0011991249503061677, -0.0016082352452157845, -0.0005968821763185864, -0.0035933447752327682, -0.005175086606555255, -0.002978762235248776, -0.00044875192286526636, -0.0010508796573351958, -0.0006796469862873289, -0.0006342442393183029, -0.0068713601469388725, -0.0033516283447538146, -0.0033836869616246214, -0.004974638288197387, -0.004577457949157663, -0.0008281940152254367, -0.0008975223697858371, 1.0, -0.00035575667652407004, -0.002537243484553163, -0.0024432890197270234, -0.0019332484322232008, 0.025292787069970103], [0.036291460488392775, -0.02132847054023433, 0.007065164492736449, -0.006840355869888946, -0.00800012805183536, 0.023044439143135295, 0.01086611944508737, -0.022640198443517855, -0.02238006176365236, 0.011482028815912917, 0.018448587778621517, -0.005655988900164232, -0.012207270861716123, -0.006500671902707265, -0.0018004050683852032, -0.00284899649954001, -0.0022749728624638223, -0.00367379729036618, -0.001305085905778136, -0.0026606743448018056, -0.0002689138174039939, -0.0003631553712468927, -0.0011055626061218626, -0.006081044310480705, -0.003675921049058636, -0.004769877888130562, -0.004377842106208192, -0.0007985276439877669, -5.6479732703968e-05, -0.0014065242948059556, -0.0019137208140254849, -0.0011616288625848803, -0.0018978964860845993, -0.002545409483734884, -0.0009447060414782755, -0.005687310918235379, -0.008190788360509835, -0.0047145898996736775, -0.0007102551717502324, -0.0016632635393375966, -0.0010757007655652268, -0.0010038402693683113, -0.010875539095544047, -0.005304737972924061, -0.005355478253403007, -0.007873531881978693, -0.007244900837638472, -0.001310811280251756, -0.001420539662162762, -0.00035575667652407004, 1.0, -0.0040157829194071805, -0.003867077941998478, -0.0030598190833308536, 0.08047347852800799], [0.21820727121801808, 0.018075384093590146, -0.07904432811900405, 0.05723132621707667, -0.006085999622657623, 0.09913312897353027, 0.016331087095301546, 0.04803488775127342, 0.025122664506471222, 0.025027348094370207, 0.01900241436052868, 0.06515970144586247, -0.024388803814075558, -0.04636255204403979, -0.012840422487496957, -0.02031893786674607, -0.01622502247665071, -0.026201386660188192, -0.009307824504015174, -0.018975831210884916, -0.0019178834190296328, -0.002590010702200615, -0.007884831696077874, -0.043369783546430056, -0.026216533228786275, -0.03401859302267977, -0.03122260829763431, -0.005695069680038651, -0.0004028113687495372, -0.010031279350060741, -0.013648586202461377, -0.008284694167540031, -0.01353572767972687, -0.018153766476647428, -0.006737608614905616, -0.04056169152722693, -0.05841640023205966, -0.033624281129908326, -0.005065513666534204, -0.011862334164777435, -0.007671858151549152, -0.007159351745334047, -0.07756394336932526, -0.03783319540357996, -0.038195073210927015, -0.05615373873839419, -0.05167036533547181, -0.009348657663414325, -0.010131236432685644, -0.002537243484553163, -0.0040157829194071805, 1.0, -0.027579857132859868, -0.021822516752028887, 0.16923007027274817], [0.19817613118472346, 0.008462520713900419, 0.09098049030332038, 0.03622399434861957, 0.04378717149856615, 0.06533534925055351, -0.029145632403474734, -0.06930515342150503, -0.02751303712275495, 0.03017035780350007, 0.03015485530247678, 0.008095355317117428, -0.010427670645745445, -0.04464574055480309, -0.012364939929240716, -0.019566524885994273, -0.015624207729123919, -0.025231145815607096, -0.008963154520509675, -0.01827315364883618, -0.0018468639400829401, -0.002494102260263246, -0.007592855326147557, -0.04176379467404243, -0.025245731504748698, -0.032758879983295595, -0.030066430945740522, -0.005484180489784275, -0.00038789521000988326, -0.009659819737061696, -0.013143177233991197, -0.00797791083693014, -0.01303449787741443, -0.017481530081411394, -0.00648811406876712, -0.03905968667704807, -0.05625323313584409, -0.0323791695125341, -0.004877937019473651, -0.011423070347636616, -0.007387768220393885, -0.0068942399947944984, -0.07469174019551227, -0.03643222712897539, -0.03678070455282407, -0.05407435829923943, -0.049757004811729906, -0.00900247562256712, -0.009756075395577804, -0.0024432890197270234, -0.003867077941998478, -0.027579857132859868, 1.0, -0.021014426044503657, 0.1551342046246046], [0.21726803709933853, -0.005811871606524053, 0.020504123222593065, 0.15512724910613485, 0.182986449913378, 0.04039175610785337, 2.176984442838165e-05, -0.036966398997536946, -0.021753420333219472, 0.03832678426214434, 0.027289585803713396, 0.10181482397292788, -0.054689273686446084, -0.03532586903806411, -0.009783738452444488, -0.015481980745827155, -0.012362628757048622, -0.019964102771872293, -0.007092081323430822, -0.014458602874306321, -0.0014613280655163, -0.0019734543255128167, -0.006007834331859906, -0.03304553408352192, -0.019975643674499128, -0.025920410093837318, -0.02379001420588962, -0.004339348823778965, -0.0003069214491465601, -0.007643316534169055, -0.010399517444270256, -0.006312508873647232, -0.01031352508150814, -0.01383223202408006, -0.005133709622667035, -0.030905913063027323, -0.04451027851772816, -0.02561996480620597, -0.003859659671549847, -0.00903848568975729, -0.0058455594955772235, -0.005455056095981661, -0.05909971700733529, -0.028826940002112528, -0.02910267219256617, -0.04278624737451647, -0.0393701485038173, -0.007123194080985122, -0.007719478666203549, -0.0019332484322232008, -0.0030598190833308536, -0.021822516752028887, -0.021014426044503657, 1.0, 0.12834784007897165], [-0.2657829691177367, 0.014889459565204488, 0.1427361690933719, -0.019370653019005257, 0.08000849366961384, -0.14133592196191075, -0.033388440377176, -0.09481108910284732, -0.048085036449250086, -0.11097175072666611, -0.19484112122202366, -0.04788523560198155, 0.04873580954105539, 0.32109991811093974, 0.08998220593530028, 0.11660289410837778, 0.06656904539235114, 0.09722535205721657, 0.07737996733069896, 0.11154354447972331, -0.0006556500302902848, -0.004546487700492474, -0.007206944114324753, 0.24108266615158597, 0.032276498739423044, -0.020421949583465923, 0.020539660282069827, 0.06540979343591845, 0.006430105159171055, 0.01653039816189286, 0.08963036054399452, -0.003018939760585964, -0.03644380780848982, -0.024325006652588927, -0.026522824324046304, -0.139702648523331, -0.14235164093464253, -0.07338669873173757, -0.007176905949669044, -0.0019448204883210551, -0.015552040449637582, -0.002663448159716986, -0.12313972182390506, -0.012487052830983341, -0.07113405797139104, -0.08403581795046254, -0.07015360877590403, 0.003450953281052762, 0.07972071710827892, 0.025292787069970103, 0.08047347852800799, 0.16923007027274817, 0.1551342046246046, 0.12834784007897165, 1.0]]\n"
          ],
          "name": "stdout"
        }
      ]
    },
    {
      "cell_type": "code",
      "metadata": {
        "colab_type": "code",
        "id": "4_0fgdAFRoBx",
        "colab": {
          "base_uri": "https://localhost:8080/",
          "height": 479
        },
        "outputId": "db05ce32-54e2-45aa-8ef7-0ab81eef465a"
      },
      "source": [
        "# Converting correlation matrix to dataframe:\n",
        "corr_df = spark.createDataFrame(corr_matrix,corr_columns)\n",
        "corr_df.show()"
      ],
      "execution_count": 46,
      "outputs": [
        {
          "output_type": "stream",
          "text": [
            "+--------------------+--------------------+--------------------+--------------------------------+------------------------------+-------------------------------+--------------------+--------------------+--------------------+----------------------------------+--------------------+--------------------+--------------------+--------------------+--------------------+--------------------+--------------------+--------------------+--------------------+--------------------+--------------------+--------------------+--------------------+--------------------+--------------------+--------------------+--------------------+--------------------+--------------------+--------------------+--------------------+--------------------+--------------------+--------------------+--------------------+--------------------+--------------------+--------------------+--------------------+--------------------+--------------------+--------------------+--------------------+--------------------+--------------------+--------------------+--------------------+--------------------+--------------------+--------------------+--------------------+--------------------+--------------------+--------------------+--------------------+\n",
            "|           Elevation|              Aspect|               Slope|Horizontal_Distance_To_Hydrology|Vertical_Distance_To_Hydrology|Horizontal_Distance_To_Roadways|       Hillshade_9am|      Hillshade_Noon|       Hillshade_3pm|Horizontal_Distance_To_Fire_Points|    Wilderness_Area1|    Wilderness_Area2|    Wilderness_Area3|    Wilderness_Area4|          Soil_Type1|          Soil_Type2|          Soil_Type3|          Soil_Type4|          Soil_Type5|          Soil_Type6|          Soil_Type7|          Soil_Type8|          Soil_Type9|         Soil_Type10|         Soil_Type11|         Soil_Type12|         Soil_Type13|         Soil_Type14|         Soil_Type15|         Soil_Type16|         Soil_Type17|         Soil_Type18|         Soil_Type19|         Soil_Type20|         Soil_Type21|         Soil_Type22|         Soil_Type23|         Soil_Type24|         Soil_Type25|         Soil_Type26|         Soil_Type27|         Soil_Type28|         Soil_Type29|         Soil_Type30|         Soil_Type31|         Soil_Type32|         Soil_Type33|         Soil_Type34|         Soil_Type35|         Soil_Type36|         Soil_Type37|         Soil_Type38|         Soil_Type39|         Soil_Type40|               label|\n",
            "+--------------------+--------------------+--------------------+--------------------------------+------------------------------+-------------------------------+--------------------+--------------------+--------------------+----------------------------------+--------------------+--------------------+--------------------+--------------------+--------------------+--------------------+--------------------+--------------------+--------------------+--------------------+--------------------+--------------------+--------------------+--------------------+--------------------+--------------------+--------------------+--------------------+--------------------+--------------------+--------------------+--------------------+--------------------+--------------------+--------------------+--------------------+--------------------+--------------------+--------------------+--------------------+--------------------+--------------------+--------------------+--------------------+--------------------+--------------------+--------------------+--------------------+--------------------+--------------------+--------------------+--------------------+--------------------+--------------------+--------------------+\n",
            "|                 1.0|0.011905055485133462|-0.24834627932084166|              0.3071033383279562|           0.09104841319110304|             0.3833042584844533| 0.11768152569063163|  0.2035916227839356| 0.05397122729823003|               0.26370779950701967| 0.13700337887665234| 0.24024651564759705| 0.07887774002053453| -0.6304169420140442|-0.20764805117337573| -0.1901851232484283|-0.18504235365669744| -0.1857245276805237|  -0.152670789447052| -0.2176779396124336|-0.00167870551655...|-0.00239081322483...|-0.06162887150207247|-0.43562431813547453|-0.13547268635736612|-0.11571388983447153|-0.04323861870767661|-0.08201546672726434|-0.00726328835576...|-0.05581695127790976|-0.11238800367842039|-0.06664115677765539|0.030702050335544274|-0.05223897950240082| 0.01823004740647592| 0.14196439847006875| 0.12664997037689615| 0.05660026963552477| 0.02954350073194697|-0.01635102781790472| 0.03630180468606551|-0.02943810210523...| 0.07558441401508381|-0.02902383613389...| 0.07383793713904767| 0.17387982931011386| 0.07490382274931895|0.012432929591921436| 0.08506604267707643|0.021625989782792662|0.036291460488392775| 0.21820727121801808| 0.19817613118472346| 0.21726803709933853| -0.2657829691177367|\n",
            "|0.011905055485133462|                 1.0| 0.07556075773844308|             0.00639428480810431|           0.06362080862907495|           0.009009684072956993| -0.5803309889830894| 0.33424923157369585|  0.6487276427631219|              -0.12401749796638957|-0.15499577166982456|   0.065591639313953| 0.07853389661628575| 0.08571613842245862|-0.00810714576524005|-0.00622495510462...|-0.00311265412513...| 0.01753139937277244| 0.00916554556222772|0.010917751154596788|-0.00488256235730...|-0.00341749442958...|-0.02181177659364403| 0.05138662589427863|-0.06756921933516331|-0.05803072270910276|0.056428641201649955|0.007825810934503689|-0.00277889019716...|4.345936160294052E-4|-3.98908452648523...|-0.02578987134897...|-0.00456148462475...|-0.02467994022537...| 0.03428812482434086|0.018939026128105843|0.013249745376919803|0.012258049144889455|-0.00348630076305...|-0.01130943642791...|0.011683401570437464|0.028586202323736327| -0.0759456433091871|-0.03788216716026...|0.001217125604373232| 0.05798038811691055| 0.01921164221572607|0.011169614387470675|-0.02309188662813852|0.002336583630869914|-0.02132847054023433|0.018075384093590146|0.008462520713900419|-0.00581187160652...|0.014889459565204488|\n",
            "|-0.24834627932084166| 0.07556075773844308|                 1.0|            0.002384563584685...|           0.27715969546440916|           -0.18251109364336673|-0.32836190980573376| -0.5260090848566206|-0.17418066382926065|              -0.15352026925893542|-0.20271841201130986| -0.0497985722555753| 0.09155007366175397|  0.2539962695815701| 0.10871007946064269|-0.02487775717921...|   0.126169701495167|  0.1301358149831097| 0.07268899770359404|-0.00137373543988...|-0.01305951855103...|-0.02056356889123...|-0.03623540256006...| 0.24274244290771413|  -0.060183320912091|-0.14377711561185053| 0.19193621508500622|-0.00132206732371...|0.001014491818012...| -0.0344412685594178|-0.04558030449421705|-0.03790957439181...|-0.08070698386044584|-0.06183858148031135|-0.02833491432486...|-0.04198255946597...|  -0.227882514540377| 0.07484694605570627|0.026041128942570158|-0.02556769845130...| 0.04336123486178833| 0.06780214633004258|-0.07384009377079655| 0.06743144433301043|-0.04654742718169118|-0.15494318586359537|  0.2041165021713697|-0.01400772730904...|-0.02590243412659619|0.002340705360584...|0.007065164492736449|-0.07904432811900405| 0.09098049030332038|0.020504123222593065|  0.1427361690933719|\n",
            "|  0.3071033383279562| 0.00639428480810431|0.002384563584685...|                             1.0|            0.6104906730901688|           0.022486740325042005|-0.02136974539037...|0.023831709453016006|  0.0339671049185108|               0.06364535671608534| -0.1228060343915476|0.058902625497247556| 0.14595357610896206| -0.1023554782878293|-0.03591443428071777|-0.01059902829211...|-0.04209064490502974|-0.04961927724062134|-0.00913242401519...|-0.01211831708470...|0.003167302029912...|0.001842239271803...|-0.02245353053244...|-0.07219628448719713|0.003501497267299...|-0.00375979916715...|2.766331691780638...|-0.04001639209285...|-0.00277240771632...|-0.06262714892886352|-0.07407085981926732|-1.83661836268216...|-0.04326159452635716| -0.0940742278290436|-0.04148710406362673|-0.05381228300610277| -0.1333682241142324| 0.02665500072121471|0.017318313798248896|0.015018286290700905|0.055674378427622344|0.028112369875906526|-0.03406667403523...|-0.05186645260840232| 0.08057297008387192| 0.13874907239068615| 0.11083097935005143|  0.0746110848477417|-0.00471607489010...| 0.03533479544937313|-0.00684035586988...| 0.05723132621707667| 0.03622399434861957| 0.15512724910613485|-0.01937065301900...|\n",
            "| 0.09104841319110304| 0.06362080862907495| 0.27715969546440916|              0.6104906730901688|                           1.0|           -0.05595437484031072| -0.1615455148200296|-0.11889203594419555| 0.02688024820865813|              -0.06306649405484221|-0.18218927403511456|-0.01255726105720...| 0.14504053528257393| 0.07674596687870203|0.014754848430825886|0.007739354854516742|0.007935782768277992| 0.02386690680094033|0.026798948516806143| 0.04611901970404195|-0.00681771941842...|-0.01084713250157798|-0.02977385298819...|0.053638961267026254|-0.02330143826169...|-0.05588618681702297|  0.0835277960752573|-0.02531326792718776|-0.00181801435863...|-0.04435974688664629|-0.05657479384461...|-0.02471845946103...|-0.05339241178929789|-0.07051554704938078|-0.02727003785510759|-0.07403732254859331|-0.18713200190179413| 0.03098826767710379|-0.01417919193402...|-0.01234969685780...| 0.06826921917467471|  0.0730087456204691|-0.08518615524738603|-0.01823024948912...|0.031823673261939814|0.036973529147249884|  0.1684027642126451| 0.06116387599553224|-0.00697278589376...|0.013107242646120482|-0.00800012805183536|-0.00608599962265...| 0.04378717149856615|   0.182986449913378| 0.08000849366961384|\n",
            "|  0.3833042584844533|0.009009684072956993|-0.18251109364336673|            0.022486740325042005|          -0.05595437484031072|                            1.0| 0.03929287404981381| 0.14573866503648428| 0.07456467264562074|                0.2771536386325543| 0.37711791906659686|-0.19446594005967158|-0.13911080620348937| -0.2795603092847815|-0.08749668746985116| -0.0859615877657431|-0.08607906402824407| -0.0812108358910499| -0.0646249211005562|-0.11129874410056906| 0.02118264222478363| 0.03017731142705759|-0.04717312405271471| -0.1781145738854932|-0.09399613413455664|0.010021352536380233|-0.03676220736277...|-0.03508491086272...|-0.00336318055780...|0.013117449327371846|-0.04904481915527952|-0.04036973716313267| 0.06753747184003361|0.006549115418362069|-0.01150847154375...|0.022152218895231175| 0.03141897862112942|-0.03291457268533...|-0.03672635780517933|0.013856964489542272|0.011616234330491281|-0.03232567715717...|  0.2698662656435303|  0.0554228240184737|-0.03503319311566249|-0.05477200457410...|-0.05136080259291081|0.016147821452680393|0.005715864386913...|0.011286955913260998|0.023044439143135295| 0.09913312897353027| 0.06533534925055351| 0.04039175610785337|-0.14133592196191075|\n",
            "| 0.11768152569063163| -0.5803309889830894|-0.32836190980573376|            -0.02136974539037...|           -0.1615455148200296|            0.03929287404981381|                 1.0|0.013606328574472595| -0.7805285884954627|               0.14375117401617715| 0.20960888804901048|-0.00954370985255...|-0.09725712140609437|-0.20352174194336065|-1.57124204480256...|0.038540882361140325|0.041763972266963864|0.026131187172857614|-0.04720589688276582|-0.00463198163720...|0.003564279632554887| 0.00435351605716156| 0.02283078447372542|-0.22783546721834427|0.051388582286573524| 0.08619742647328653|-0.07354737255965939|-0.01065505503682...|-5.10664711567546...|0.001208161767412751|0.005686361264288...|0.027872152124953944| 0.01736768275826508| 0.02019866440166597|-0.01412689507731...|0.001013962571337...|  0.0398768447585962|-0.10689885258750494| 0.03399634584615068|0.028885171456249584|0.002164069532759...|-0.09348858056462506| 0.09397780605935041| 0.10705487706521016|-0.03375775871181238|0.010226585208277766|-0.06316944220839237|0.007936276612969846|0.029270905708283466| 0.00823934154569747| 0.01086611944508737|0.016331087095301546|-0.02914563240347...|2.176984442838165E-5|  -0.033388440377176|\n",
            "|  0.2035916227839356| 0.33424923157369585| -0.5260090848566206|            0.023831709453016006|          -0.11889203594419555|            0.14573866503648428|0.013606328574472595|                 1.0|  0.5908708738853268|               0.03311379580772103|-0.00933200172013956| 0.05552933933666545| 0.08283417308393469|-0.19360076316543853| -0.0517482415402255| 0.04844863891067146|0.005859063110763867| 0.09203089786181012|-0.06218508973899082|-0.00722894059383...|0.003907614488033...|0.008275995923200833|0.007106307028502019|-0.24588624045127203|-0.00740692940522...| 0.05665203003273093| 0.06982377942859937|0.002077175431875...|-0.00288339820490...|0.014974633802788934|0.032133884690433864| 0.01170240385101185|0.035942265713109545|0.009060934514849994| 0.03191398746747046|0.025275785332524385|  0.1306368929112295|-0.12750342536620166|0.008457808403024207|0.044735814751594896| 0.02200516340451984|-0.00379497544116...| -0.0453206680632139|-0.04662177066827297|0.007136848629395916| 0.14049142960217836|-0.07937446364010714| 0.04615345661797998|  0.0079617690603377|0.017215982227391294|-0.02264019844351...| 0.04803488775127342|-0.06930515342150503|-0.03696639899753...|-0.09481108910284732|\n",
            "| 0.05397122729823003|  0.6487276427631219|-0.17418066382926065|              0.0339671049185108|           0.02688024820865813|            0.07456467264562074| -0.7805285884954627|  0.5908708738853268|                 1.0|              -0.07398171863483352|-0.14739787032806606| 0.04628743818217016| 0.11150353023851592| 0.02357798433382126|-0.05055976853621003|-0.00365067527099...|-0.06098625540973...|-0.00250951036041...|-0.00629068330220...|0.001097248865650...|8.373148756844349E-4|0.003173006323944953|-0.01005042542393...| 0.02440491785293728|-0.03445097658501...|-0.02074935606765...|  0.0570738452799809| 0.01062586738126117|-0.00111826374251...|  0.0124207974679411|0.018575826622171696|-0.01148326534270...|0.015061848262032525|-0.00163677373479...|0.032970958492160835|0.021815136220493685| 0.06964921021253609|0.018642111907962337|-0.02953125407093...|0.003255025340466401|0.001070526715629...| 0.06210387511362368|-0.08663952910591757|-0.12687808764043204| 0.04515781128878592| 0.09094338073060164|-0.02068651723588...|0.019120358040131378|-0.01609204900631093|0.001593373567098...|-0.02238006176365236|0.025122664506471222|-0.02751303712275495|-0.02175342033321...|-0.04808503644925...|\n",
            "| 0.26370779950701967|-0.12401749796638957|-0.15352026925893542|             0.06364535671608534|          -0.06306649405484221|             0.2771536386325543| 0.14375117401617715| 0.03311379580772103|-0.07398171863483352|                               1.0| 0.29629522004814796| 0.05678664164024291|-0.17893463087245667|-0.26862679285013524|-0.08548813149403303|-0.08647919905752025|-0.08461700916367268|-0.07094495667077698|-0.05983664812554481|-0.09620132330373442| 0.03389175577891672| 0.03361249419372379|-0.04045916259278958| -0.1873319425964963|-0.02356406783724...| 0.13151800168672875|-0.08589127931712705|-0.03790475435903736|-0.00300639955729...|  0.0186054539940298|-0.01141059873037...| 0.11215575160093082|0.009388401011470263| 0.03345613615531696|-0.02446360300065403|0.016884457584352128| 0.03974952158407845|0.027553825821901537|0.057973800106741864|0.046894911165865555|0.005631415418571384|-0.01570516778402...|  0.1629783566985941| 0.03288808737287509|-0.03993097055579176|-0.04856867556990...|-0.01113940294996...|-0.03620706218278192|0.014037561098364022|-0.01133863122441...|0.011482028815912917|0.025027348094370207| 0.03017035780350007| 0.03832678426214434|-0.11097175072666611|\n",
            "| 0.13700337887665234|-0.15499577166982456|-0.20271841201130986|             -0.1228060343915476|          -0.18218927403511456|            0.37711791906659686| 0.20960888804901048|-0.00933200172013956|-0.14739787032806606|               0.29629522004814796|                 1.0|-0.19379534438519117|  -0.778742830700468|-0.22273734484940555|-0.06168861474435...|-0.09761728099652536|-0.07794908319840212|-0.12587804248824155|-0.04471712675305798|-0.09116465927518645| 0.01393853677287617|0.018823333606498176| 0.05730432593203571|-0.20835933329660467|-0.12595081040813327|  0.2472357835222541|-0.15000125240910075|-0.02736054516712...|-0.00193520698914...|0.028096877539784123| -0.0655712362166072| 0.05468049554692058| 0.03676965379047408| 0.04073183501204928|-0.03236916406355342| 0.07490514652901087| 0.06295197770639238|-0.12357251727580656|-0.02433599995337732|-0.05698963277666651|-0.03685753349199001|-0.03439532399087738|   0.562955098630527| 0.27495904085505907|  -0.183498725118697|-0.26977666497038866|-0.24823741305891514|-0.04491329950683004|-0.00624515490810...|-0.01218955497637403|0.018448587778621517| 0.01900241436052868| 0.03015485530247678|0.027289585803713396|-0.19484112122202366|\n",
            "| 0.24024651564759705|   0.065591639313953| -0.0497985722555753|            0.058902625497247556|          -0.01255726105720...|           -0.19446594005967158|-0.00954370985255...| 0.05552933933666545| 0.04628743818217016|               0.05678664164024291|-0.19379534438519117|                 1.0|-0.22830040257052464| -0.0652988682423815|-0.01808496338577562|-0.02861800285121...|-0.02285196906171...|-0.03690307845146...|-0.01310951142925...|-0.02672631784488963|-0.00270122353412...|-0.00364787441874...|-0.01110531157876...|-0.06108373367386736|-0.03692441148305184|-0.04791314381203...|-0.03200864345924842|-0.00802116338019...|-5.67335604595796...|-2.36810744763610...|-0.01922321340901867|3.326259216313350...| 0.04351564554457006|-0.02122613307316...|-0.00948951681511...| 0.11117208509747199| 0.13047110193264017|0.039244348297825825| 0.12557577185655522|-0.01670738476469...|-0.01080535114064...|-0.01008351666826...|-0.10760831995683094|  -0.053285782014328|-0.03718660951653888|0.026263739052211143|0.011678011370567004|-0.01316702248026...| 0.05633322687034416|-0.00357355496391...|-0.00565598890016...| 0.06515970144586247|0.008095355317117428| 0.10181482397292788|-0.04788523560198155|\n",
            "| 0.07887774002053453| 0.07853389661628575| 0.09155007366175397|             0.14595357610896206|           0.14504053528257393|           -0.13911080620348937|-0.09725712140609437| 0.08283417308393469| 0.11150353023851592|              -0.17893463087245667|  -0.778742830700468|-0.22830040257052464|                 1.0| -0.2623954959182953|-0.07267220801837496| 0.05687251531646553| 0.00240309249104594|  0.1306893254036798|-0.05267896435751751|-0.10739643141974363|-0.01085453558233...|-0.01465853609594...|-0.04462533298769569|-0.01405476250630...|  0.1468426902522517| -0.1925330939105682|  0.1872168059482374|-0.00524055117170...|-0.00227976856761...|-0.03597296497012293|0.046788223640122764|-0.04688841184924...|-0.04449925845243667|-0.01533688692536...|0.041565922391141395| -0.0900964386556507| -0.0723532647966215|   0.131132322635285|-0.02866899926795...| 0.07318158258407997| 0.04732953170026256| 0.04416775684463031|-0.43898423379368556|-0.21412238180215426| 0.22813557613750207| 0.29885848670124715| 0.28063607143045954| 0.05767410977823214|-0.01094903703479722|0.015652863173596987|-0.01220727086171...|-0.02438880381407...|-0.01042767064574...|-0.05468927368644...| 0.04873580954105539|\n",
            "| -0.6304169420140442| 0.08571613842245862|  0.2539962695815701|             -0.1023554782878293|           0.07674596687870203|            -0.2795603092847815|-0.20352174194336065|-0.19360076316543853| 0.02357798433382126|              -0.26862679285013524|-0.22273734484940555| -0.0652988682423815| -0.2623954959182953|                 1.0|  0.2769567662129522| 0.10134778335293282| 0.16524072245235438| 0.01826282768207212| 0.20076169437725672|  0.4092922061939079|-0.00310463267187624|-0.00419265934872...|-0.01276381340648...| 0.48183462296136925|-0.01324362215686...|-0.05506864197350925|-0.05054255585100917|  0.0699268130561725|0.008688291541132308|0.016757763931576082|0.051246201914637184|-0.01341110305967...| -0.0219113747869835|-0.02938696688327...|-0.01090671081912...|-0.06566048357918916|-0.09456334151197385|-0.05443033749000...|-0.00819995578089656|-0.01920251765423535|-0.01241905594207108|-0.01158942046084...|  -0.125559014877872|-0.06124364670239506|-0.06182944751425...|-0.09090058874560167|-0.08364299039065247|-0.01513342663690...|-0.01640025004821878|-0.00410724079497...|-0.00650067190270...|-0.04636255204403979|-0.04464574055480309|-0.03532586903806411| 0.32109991811093974|\n",
            "|-0.20764805117337573|-0.00810714576524005| 0.10871007946064269|            -0.03591443428071777|          0.014754848430825886|           -0.08749668746985116|-1.57124204480256...| -0.0517482415402255|-0.05055976853621003|              -0.08548813149403303|-0.06168861474435...|-0.01808496338577562|-0.07267220801837496|  0.2769567662129522|                 1.0|-0.00910963551906686|-0.00727420114280...|-0.01174692713436...|-0.00417299808007...|-0.00850747746442996|-8.59849025081920...|-0.00116118537505...|-0.00353502448560...|-0.01944407346682193|-0.01175371782983...|-0.01525163300072...|-0.01399810282463...|-0.00255328351221...|-1.80593334962166...|-0.00449734623277478|-0.00611910162186...|-0.00371429573475...|-0.00606850350428...|-0.00813891931679...|-0.00302068735848...|-0.01818511520007088|-0.02618995726744...|-0.01507485025511...|-0.00227103323616...|-0.00531826719266...|-0.00343954157313...|-0.00320976841311...|-0.03477441872945...|-0.01696184234178...|-0.01712408384028...|-0.02517553310583531|-0.02316549213497...|-0.00419130490307...|-0.00454216021843...|-0.00113752812863...|-0.00180040506838...|-0.01284042248749...|-0.01236493992924...|-0.00978373845244...| 0.08998220593530028|\n",
            "| -0.1901851232484283|-0.00622495510462...|-0.02487775717921...|            -0.01059902829211...|          0.007739354854516742|            -0.0859615877657431|0.038540882361140325| 0.04844863891067146|-0.00365067527099...|              -0.08647919905752025|-0.09761728099652536|-0.02861800285121...| 0.05687251531646553| 0.10134778335293282|-0.00910963551906686|                 1.0|-0.01151083939760...|-0.01858856924691...|-0.00660343448898...|-0.01346240017965...|-0.00136064206083...|-0.00183748264595...|-0.00559389248682...|-0.03076868545668...|-0.01859931497739...|-0.02413448495248...|-0.02215087407154...|-0.00404036620223...|-2.85774456083339...|-0.00711668940472...|-0.00968298712725...|-0.00587757484823543|-0.00960291966776...|-0.01287918649573...|-0.00477999526975686|-0.02877648505799972|-0.04144350506910237|-0.02385474044817...|-0.00359372779703...|-0.00841573092721202|-0.00544279844239131|-0.00507920086089...|-0.05502772624530...|-0.02684075395368...|-0.02709748810168...|-0.03983826026268029| -0.0366575317752594|-0.00663240356687336|-0.00718760393975...|-0.00180004695249806|-0.00284899649954001|-0.02031893786674607|-0.01956652488599...|-0.01548198074582...| 0.11660289410837778|\n",
            "|-0.18504235365669744|-0.00311265412513...|   0.126169701495167|            -0.04209064490502974|          0.007935782768277992|           -0.08607906402824407|0.041763972266963864|0.005859063110763867|-0.06098625540973...|              -0.08461700916367268|-0.07794908319840212|-0.02285196906171...| 0.00240309249104594| 0.16524072245235438|-0.00727420114280...|-0.01151083939760...|                 1.0|-0.01484329327732...|-0.00527295637741...|-0.01074995882840...|-0.00108649616257...|-0.00146726159736...| -0.0044668196697046|-0.02456932623081717|-0.01485187392852...|-0.01927180265939...|-0.01768785514505...|-0.00322630212637...|-2.28195834034869...|-0.00568279928352...|-0.00773203229475...|-0.00469334493004...|-0.00766809704684...|-0.01028425263882...|-0.00381690869860...| -0.0229785198383413|-0.03309335387839...|-0.01904842184589...|-0.00286965365336...|-0.00672010635334...|-0.00434616846819...|-0.00405582952573...|-0.04394058887449638|-0.02143280515176...|-0.02163781179872...|-0.03181153820301342|-0.02927167162440...|-0.00529608868595...|-0.00573942576332...|-0.00143736855020...|-0.00227497286246...|-0.01622502247665071|-0.01562420772912...|-0.01236262875704...| 0.06656904539235114|\n",
            "| -0.1857245276805237| 0.01753139937277244|  0.1301358149831097|            -0.04961927724062134|           0.02386690680094033|            -0.0812108358910499|0.026131187172857614| 0.09203089786181012|-0.00250951036041...|              -0.07094495667077698|-0.12587804248824155|-0.03690307845146...|  0.1306893254036798| 0.01826282768207212|-0.01174692713436...|-0.01858856924691...|-0.01484329327732...|                 1.0|-0.00851516656361...|-0.01735984207415...|-0.00175455572412...|-0.00236944438748...|-0.00721335637443...|-0.03967639597913411|-0.02398392310332553|-0.03112155646282798| -0.0285636788800692|-0.00521007533994...|-3.68507796546731...|-0.00917701171471681|-0.01248626731430...|-0.00757916640292...|-0.01238301986708...|-0.01660778469113394|-0.00616383125526...|-0.03710744216407823|-0.05344163695909348|-0.03076082432359...|-0.00463413256042...|-0.01085213319210...|-0.00701851973945...|-0.00654965857732...|-0.07095856790546054|-0.03461130582727926|-0.03494236598036928| -0.0513716645947329|-0.04727009700756175|-0.00855252235533...|-0.00926845641346...|-0.00232117084653...|-0.00367379729036618|-0.02620138666018...|-0.02523114581560...|-0.01996410277187...| 0.09722535205721657|\n",
            "|  -0.152670789447052| 0.00916554556222772| 0.07268899770359404|            -0.00913242401519...|          0.026798948516806143|            -0.0646249211005562|-0.04720589688276582|-0.06218508973899082|-0.00629068330220...|              -0.05983664812554481|-0.04471712675305798|-0.01310951142925...|-0.05267896435751751| 0.20076169437725672|-0.00417299808007...|-0.00660343448898...|-0.00527295637741...|-0.00851516656361...|                 1.0|-0.00616693938909...|-6.23291315624863...|-8.41725394796874...|-0.00256248480620...|-0.01409470939516...|-0.00852008903417...|-0.01105567386965...|-0.01014700915080...|-0.00185083589452...|-1.30909327170460...|-0.00326005701987...|-0.00443564252453...|-0.00269243577372...|-0.00439896472836...|-0.00589977726409...|-0.00218964974413...|-0.01318210993698...|-0.01898469666791...|-0.01092752678001...|-0.00164623701639...|-0.00385512998057...|-0.00249327071349...|-0.00232671168856...|-0.02520744057122077|-0.01229537828181...|-0.01241298464537...|-0.01824935621645...|-0.01679230847360...|-0.00303821237335...|-0.00329254198789...|-8.24576621215014...|-0.00130508590577...|-0.00930782450401...|-0.00896315452050...|-0.00709208132343...| 0.07737996733069896|\n",
            "| -0.2176779396124336|0.010917751154596788|-0.00137373543988...|            -0.01211831708470...|           0.04611901970404195|           -0.11129874410056906|-0.00463198163720...|-0.00722894059383...|0.001097248865650...|              -0.09620132330373442|-0.09116465927518645|-0.02672631784488963|-0.10739643141974363|  0.4092922061939079|-0.00850747746442996|-0.01346240017965...|-0.01074995882840...|-0.01735984207415...|-0.00616693938909...|                 1.0|-0.00127070195569...|-0.00171602279465...|-0.00522412934858...|-0.02873483769850...|-0.01736987749870...|-0.02253916596544004|-0.02068667419093835|-0.00377329305234...|-2.66884414853930...|-0.00664626752687...|-0.00904292982974...|-0.00548905995878...|-0.00896815492730...|-0.01202785650900...|-0.00446403173347...|-0.02687432418388...|-0.03870403867250372|-0.02227791291516...|-0.00335617799225...|-0.00785944081517945|-0.00508302280537...|-0.00474345946892...|-0.05139032620689793|-0.02506654727418352|-0.02530631098085...|-0.03720490251201242|-0.03423442406964599|-0.00619399357549...|-0.00671249452436...|-0.00168106164634...|-0.00266067434480...|-0.01897583121088...|-0.01827315364883618|-0.01445860287430...| 0.11154354447972331|\n",
            "+--------------------+--------------------+--------------------+--------------------------------+------------------------------+-------------------------------+--------------------+--------------------+--------------------+----------------------------------+--------------------+--------------------+--------------------+--------------------+--------------------+--------------------+--------------------+--------------------+--------------------+--------------------+--------------------+--------------------+--------------------+--------------------+--------------------+--------------------+--------------------+--------------------+--------------------+--------------------+--------------------+--------------------+--------------------+--------------------+--------------------+--------------------+--------------------+--------------------+--------------------+--------------------+--------------------+--------------------+--------------------+--------------------+--------------------+--------------------+--------------------+--------------------+--------------------+--------------------+--------------------+--------------------+--------------------+--------------------+--------------------+\n",
            "only showing top 20 rows\n",
            "\n"
          ],
          "name": "stdout"
        }
      ]
    },
    {
      "cell_type": "code",
      "metadata": {
        "colab_type": "code",
        "id": "7-X9I7xUR3Zz",
        "colab": {
          "base_uri": "https://localhost:8080/",
          "height": 969
        },
        "outputId": "4df3c552-45a1-48da-90e1-e7acc0567a2a"
      },
      "source": [
        "# For plotting the correlation heatmap , we are converting the pyspark dataframe to pandas dataframe :\n",
        "corr_df_pd = corr_df.toPandas()\n",
        "corr_val = corr_df_pd.corr()\n",
        "corr_val.sort_values([\"label\"])\n",
        "corr_val.label.sort_values(ascending=False)\n"
      ],
      "execution_count": 47,
      "outputs": [
        {
          "output_type": "execute_result",
          "data": {
            "text/plain": [
              "label                                 1.000000\n",
              "Wilderness_Area4                      0.629873\n",
              "Soil_Type10                           0.567067\n",
              "Slope                                 0.417947\n",
              "Soil_Type6                            0.321052\n",
              "Soil_Type1                            0.275389\n",
              "Soil_Type2                            0.267973\n",
              "Soil_Type4                            0.235740\n",
              "Soil_Type5                            0.222353\n",
              "Soil_Type3                            0.217965\n",
              "Vertical_Distance_To_Hydrology        0.182117\n",
              "Soil_Type39                           0.181589\n",
              "Soil_Type17                           0.178736\n",
              "Soil_Type38                           0.158646\n",
              "Soil_Type14                           0.135858\n",
              "Soil_Type40                           0.119703\n",
              "Soil_Type11                           0.108883\n",
              "Wilderness_Area3                      0.104056\n",
              "Soil_Type37                           0.095961\n",
              "Soil_Type13                           0.085719\n",
              "Soil_Type35                           0.080185\n",
              "Aspect                                0.024816\n",
              "Soil_Type16                           0.014581\n",
              "Soil_Type36                           0.014425\n",
              "Soil_Type28                           0.006620\n",
              "Soil_Type15                          -0.005461\n",
              "Soil_Type34                          -0.011604\n",
              "Soil_Type9                           -0.019911\n",
              "Soil_Type26                          -0.020559\n",
              "Soil_Type18                          -0.031161\n",
              "Soil_Type7                           -0.032941\n",
              "Soil_Type8                           -0.042285\n",
              "Soil_Type25                          -0.042493\n",
              "Soil_Type33                          -0.042805\n",
              "Soil_Type27                          -0.043756\n",
              "Soil_Type20                          -0.058791\n",
              "Soil_Type21                          -0.061226\n",
              "Soil_Type30                          -0.062705\n",
              "Hillshade_3pm                        -0.088029\n",
              "Horizontal_Distance_To_Hydrology     -0.088574\n",
              "Soil_Type24                          -0.090716\n",
              "Soil_Type12                          -0.091654\n",
              "Soil_Type31                          -0.094967\n",
              "Soil_Type19                          -0.114460\n",
              "Soil_Type32                          -0.135977\n",
              "Wilderness_Area2                     -0.139044\n",
              "Hillshade_9am                        -0.158175\n",
              "Soil_Type22                          -0.287227\n",
              "Soil_Type29                          -0.289506\n",
              "Soil_Type23                          -0.303610\n",
              "Hillshade_Noon                       -0.317260\n",
              "Wilderness_Area1                     -0.361914\n",
              "Horizontal_Distance_To_Fire_Points   -0.420490\n",
              "Horizontal_Distance_To_Roadways      -0.451523\n",
              "Elevation                            -0.560835\n",
              "Name: label, dtype: float64"
            ]
          },
          "metadata": {
            "tags": []
          },
          "execution_count": 47
        }
      ]
    },
    {
      "cell_type": "code",
      "metadata": {
        "colab_type": "code",
        "id": "CJPQQUtaVakE",
        "colab": {
          "base_uri": "https://localhost:8080/",
          "height": 689
        },
        "outputId": "ba329c34-8ce3-4569-fc49-4bd546b92899"
      },
      "source": [
        "# Heatmap correlation :\n",
        "f, ax = plt.subplots(figsize=(12, 9))\n",
        "sns.heatmap(corr_val , vmax=.8, square=True);"
      ],
      "execution_count": 48,
      "outputs": [
        {
          "output_type": "display_data",
          "data": {
            "image/png": "[encoded data removed]",
            "text/plain": [
              "<Figure size 864x648 with 2 Axes>"
            ]
          },
          "metadata": {
            "tags": [],
            "needs_background": "light"
          }
        }
      ]
    },
    {
      "cell_type": "markdown",
      "metadata": {
        "colab_type": "text",
        "id": "_JyQ94EBWhfD"
      },
      "source": [
        "# Train test split "
      ]
    },
    {
      "cell_type": "markdown",
      "metadata": {
        "colab_type": "text",
        "id": "K4p84RlFIN0N"
      },
      "source": [
        "Vector assembler is used in pyspark.Its job is to combine the raw features and features generated from various transforms into a single feature vector for model splitting and prediction. It accepts boolean, numerical and vector type inputs."
      ]
    },
    {
      "cell_type": "code",
      "metadata": {
        "colab_type": "code",
        "id": "ukmBvRtJWRzd",
        "colab": {}
      },
      "source": [
        "# Performing vector assembler : all features are considered except target variable \"label\"\n",
        "feature_columns = ('Elevation', 'Aspect', 'Slope', 'Horizontal_Distance_To_Hydrology', 'Vertical_Distance_To_Hydrology',\n",
        "                            'Horizontal_Distance_To_Roadways', 'Hillshade_9am','Hillshade_Noon', 'Hillshade_3pm','Horizontal_Distance_To_Fire_Points',\n",
        "                             'Wilderness_Area1','Wilderness_Area2', 'Wilderness_Area3', 'Wilderness_Area4',\n",
        "                              'Soil_Type1', 'Soil_Type2', 'Soil_Type3', 'Soil_Type4', 'Soil_Type5',\n",
        "                              'Soil_Type6', 'Soil_Type7','Soil_Type8','Soil_Type9', 'Soil_Type10', 'Soil_Type11', 'Soil_Type12',\n",
        "                              'Soil_Type13', 'Soil_Type14','Soil_Type15', 'Soil_Type16', 'Soil_Type17',\n",
        "                              'Soil_Type18', 'Soil_Type19', 'Soil_Type20', 'Soil_Type21',\n",
        "                              'Soil_Type22', 'Soil_Type23', 'Soil_Type24', 'Soil_Type25',\n",
        "                              'Soil_Type26', 'Soil_Type27', 'Soil_Type28', 'Soil_Type29',\n",
        "                              'Soil_Type30', 'Soil_Type31', 'Soil_Type32', 'Soil_Type33',\n",
        "                              'Soil_Type34', 'Soil_Type35', 'Soil_Type36', 'Soil_Type37',\n",
        "                              'Soil_Type38', 'Soil_Type39', 'Soil_Type40')\n",
        "feature = VectorAssembler(inputCols=feature_columns,outputCol=\"features\")\n",
        "feature_vector= feature.transform(data_withoutoutliers)"
      ],
      "execution_count": 11,
      "outputs": []
    },
    {
      "cell_type": "markdown",
      "metadata": {
        "colab_type": "text",
        "id": "i62tCbYwCnEH"
      },
      "source": [
        "splitting 60% train set and 40 % test set for model prediction "
      ]
    },
    {
      "cell_type": "code",
      "metadata": {
        "colab_type": "code",
        "id": "EvkzEajfYOp8",
        "colab": {}
      },
      "source": [
        "(train_data, test_data) = feature_vector.randomSplit([0.6, 0.4],seed = 100)"
      ],
      "execution_count": 12,
      "outputs": []
    },
    {
      "cell_type": "code",
      "metadata": {
        "colab_type": "code",
        "id": "Dy9IHm2nZ65Q",
        "colab": {
          "base_uri": "https://localhost:8080/",
          "height": 51
        },
        "outputId": "befea7fd-e131-41cd-9412-81f5d8378308"
      },
      "source": [
        "print(\"Train data size: {:d} instances\".format(train_data.count()))\n",
        "print(\"Test data size: {:d} instances\".format(test_data.count()))"
      ],
      "execution_count": 51,
      "outputs": [
        {
          "output_type": "stream",
          "text": [
            "Train data size: 317841 instances\n",
            "Test data size: 211700 instances\n"
          ],
          "name": "stdout"
        }
      ]
    },
    {
      "cell_type": "markdown",
      "metadata": {
        "colab_type": "text",
        "id": "6_RBTLUCapuC"
      },
      "source": [
        "# Machine learning models"
      ]
    },
    {
      "cell_type": "markdown",
      "metadata": {
        "colab_type": "text",
        "id": "qmsIul5xbdpv"
      },
      "source": [
        "Forest cover type prediction is a multi-class classification dataset. Here 7 types of cover_type is predicted. Our dataset has both positive and negative values. \n",
        "\n"
      ]
    },
    {
      "cell_type": "markdown",
      "metadata": {
        "colab_type": "text",
        "id": "GP9WcLFdDItS"
      },
      "source": [
        "Logistics regression: Logistic regression is the appropriate regression analysis to conduct when the dependent variable is binary. Logistic regression is used to describe data and to explain the relationship between one dependent binary variable and one or more nominal, ordinal, interval or ratio-level independent variables. It is used in classification analysis."
      ]
    },
    {
      "cell_type": "markdown",
      "metadata": {
        "colab_type": "text",
        "id": "xs_xxNbGDaqB"
      },
      "source": [
        "Decision Tree: The decision criteria are different for classification and regression trees. Decision trees use multiple algorithms to decide to split a node into two or more sub-nodes.The decision tree splits the nodes on all available variables and then selects the split which results in most homogeneous sub-nodes."
      ]
    },
    {
      "cell_type": "markdown",
      "metadata": {
        "colab_type": "text",
        "id": "oSSL8Z2PDm3m"
      },
      "source": [
        "Random Forest: Random forests or random decision forests are an ensemble learning method for classification, regression and other tasks that operate by constructing a multitude of decision trees at training time and outputting the class that is the mode of the classes or mean prediction of the individual trees."
      ]
    },
    {
      "cell_type": "markdown",
      "metadata": {
        "colab_type": "text",
        "id": "TgFktUJTEwTg"
      },
      "source": [
        "Multiclass Classification: It is a type of modeling wherein the output is discrete.These models have a specialized set of charts and metrics for their evaluation such as accuracy, precision, f1-score, recall."
      ]
    },
    {
      "cell_type": "markdown",
      "metadata": {
        "colab_type": "text",
        "id": "p8mgEXOZFDus"
      },
      "source": [
        "Accuracy in Machine Learning\n",
        "is the number of correctly predicted data points out of all the data points. More formally, it is defined as the number of true positives and true negatives divided by the number of true positives, true negatives, false positives, and false negatives."
      ]
    },
    {
      "cell_type": "markdown",
      "metadata": {
        "colab_type": "text",
        "id": "8Y64cc0lFMX2"
      },
      "source": [
        "Precision-Recall is a useful measure of success of prediction when the classes are very imbalanced. In information retrieval, precision is a measure of result relevancy, while recall is a measure of how many truly relevant results are returned.Precision is defined as the number of true positives divided by the number of true positives plus the number of false positives.The precise definition of recall is the number of true positives divided by the number of true positives plus the number of false negatives."
      ]
    },
    {
      "cell_type": "markdown",
      "metadata": {
        "colab_type": "text",
        "id": "E8_IAN1JFkuM"
      },
      "source": [
        "F1 score (also F-score or F-measure) is a measure of a test's accuracy.t considers both the precision p and the recall r of the test to compute the score."
      ]
    },
    {
      "cell_type": "markdown",
      "metadata": {
        "colab_type": "text",
        "id": "D-IXc98xGPLH"
      },
      "source": [
        "A true positive is an outcome where the model correctly predicts the positive class. Similarly, a true negative is an outcome where the model correctly predicts the negative class. A false positive is an outcome where the model incorrectly predicts the positive class. And a false negative is an outcome where the model incorrectly predicts the negative class."
      ]
    },
    {
      "cell_type": "markdown",
      "metadata": {
        "colab_type": "text",
        "id": "sVHSkAGZGkit"
      },
      "source": [
        "A confusion matrix is a table that is often used to describe the performance of a classification model (or “classifier”) on a set of test data for which the true values are known. It allows the visualization of the performance of an algorithm."
      ]
    },
    {
      "cell_type": "markdown",
      "metadata": {
        "colab_type": "text",
        "id": "i8e06uBNbpp3"
      },
      "source": [
        "# Logistics regression "
      ]
    },
    {
      "cell_type": "code",
      "metadata": {
        "colab_type": "code",
        "id": "zB6b7OLRbsqN",
        "colab": {}
      },
      "source": [
        "logreg = LogisticRegression(featuresCol = 'features', labelCol = 'label', maxIter=20)\n",
        "logreg_model = logreg.fit(train_data)\n",
        "logreg_predictions = logreg_model.transform(test_data)"
      ],
      "execution_count": 32,
      "outputs": []
    },
    {
      "cell_type": "markdown",
      "metadata": {
        "colab_type": "text",
        "id": "rK7F9cJodCX7"
      },
      "source": [
        "coefficients and intercepts:"
      ]
    },
    {
      "cell_type": "code",
      "metadata": {
        "colab_type": "code",
        "id": "LVCCJHYPcvaK",
        "colab": {
          "base_uri": "https://localhost:8080/",
          "height": 1000
        },
        "outputId": "28477efd-064b-4af5-95d2-e17be7c4bcbd"
      },
      "source": [
        "print(\"Coefficients: \" + str(logreg_model.coefficientMatrix))\n",
        "print(\"Intercept: \" + str(logreg_model.interceptVector))"
      ],
      "execution_count": 53,
      "outputs": [
        {
          "output_type": "stream",
          "text": [
            "Coefficients: DenseMatrix([[-1.22945454e-06, -4.35601242e-07, -9.43163634e-06,\n",
            "              -2.04313302e-07, -4.91032744e-07, -3.61761838e-08,\n",
            "              -9.92024201e-06, -1.92280281e-05, -3.25527271e-06,\n",
            "              -5.82468238e-08, -4.49958540e-05, -3.07662500e-05,\n",
            "              -7.91647401e-05, -4.45721068e-05, -2.93599958e-05,\n",
            "              -5.80605635e-05, -5.64395197e-05, -5.82011994e-05,\n",
            "              -3.19070676e-05, -4.52771864e-05, -1.71963702e-05,\n",
            "              -2.14492831e-05, -2.24409753e-05, -5.98233358e-05,\n",
            "              -3.91884625e-05, -2.00716578e-05, -3.85596670e-05,\n",
            "              -5.70158011e-05, -2.47254178e-05, -4.32514466e-05,\n",
            "              -7.86200627e-05, -1.87611952e-05, -2.78368084e-05,\n",
            "              -3.54536530e-05, -2.35600619e-05, -2.71585692e-05,\n",
            "              -3.39879674e-05, -3.73218925e-05, -2.96823556e-05,\n",
            "              -2.60730021e-05, -4.07081362e-05, -2.54345780e-05,\n",
            "              -3.34687951e-05, -3.43112055e-05, -3.86300413e-05,\n",
            "              -3.93885649e-05, -4.33827443e-05, -2.49955125e-05,\n",
            "              -3.26070607e-05, -4.56946770e-05, -2.36532386e-05,\n",
            "              -3.33070759e-05, -3.36006598e-05, -3.07075607e-05],\n",
            "             [ 2.95551865e-03,  5.22564004e-05, -5.83573967e-02,\n",
            "              -3.02075088e-05, -1.85245268e-03,  1.54936633e-04,\n",
            "              -1.60051486e-02, -1.62711340e-02, -6.07761015e-04,\n",
            "               1.07741319e-04,  5.77195513e-01,  1.19755385e-01,\n",
            "              -3.16944521e-01, -1.99645299e+00, -1.80572537e+00,\n",
            "              -2.28984491e+00, -2.03492119e+00, -2.02923897e+00,\n",
            "              -1.82117147e+00, -1.88739921e+00, -2.16962581e+00,\n",
            "               3.63542393e-01,  2.36392920e-01, -1.93851172e+00,\n",
            "              -1.33748711e+00, -9.60998370e-01, -3.67604929e-01,\n",
            "              -2.04735442e+00, -1.81151703e+00, -6.69229928e-01,\n",
            "              -1.92089699e+00, -8.45364700e-01,  6.62682267e-01,\n",
            "               6.11768455e-01,  3.07426261e+00,  1.07712969e+00,\n",
            "               8.17088829e-01,  6.33919363e-01,  3.93312298e-01,\n",
            "              -3.92982747e-01,  1.08129279e+00, -1.28342626e+00,\n",
            "               3.23482779e-01, -1.71317273e-01,  6.09806178e-01,\n",
            "               4.66664898e-01,  5.74952638e-01, -1.19891626e+00,\n",
            "              -3.64888536e-01, -1.59538133e+00, -3.16520984e+00,\n",
            "              -6.59025269e-01, -3.83583425e-01, -5.29461247e-01],\n",
            "             [-1.18369446e-03, -5.20008236e-04,  2.50443294e-03,\n",
            "               9.81775671e-04, -1.39473806e-04,  9.81047557e-05,\n",
            "               3.80475603e-03,  1.20485686e-02,  4.31954758e-03,\n",
            "               1.31912635e-04,  5.61890413e-01,  4.94981331e-01,\n",
            "              -8.74616115e-02, -1.69328687e+00, -2.39403782e+00,\n",
            "              -2.87101025e+00, -1.32532219e+00, -1.60208539e+00,\n",
            "              -2.40470092e+00, -5.01426402e-01,  2.99797844e+00,\n",
            "               5.98830992e-01,  7.81706601e-01, -3.99063692e-01,\n",
            "              -4.74945843e-01,  1.90005100e+00,  1.42086163e-01,\n",
            "              -3.62705910e+00, -2.42299873e+00, -9.50106039e-01,\n",
            "              -2.46680616e+00,  1.49047702e+00,  1.53372522e-01,\n",
            "              -7.80632857e-02, -2.08494195e+00,  4.39395885e-02,\n",
            "               1.47200921e-01,  6.48915077e-01,  1.00138619e+00,\n",
            "               6.44682127e-01,  2.57198653e-01,  2.30331062e+00,\n",
            "               6.67757211e-01,  4.19331921e-02,  6.81574040e-01,\n",
            "               6.52827604e-01,  6.34462404e-01,  1.34669974e+00,\n",
            "              -2.71769536e+00, -5.84560877e-01, -2.56828242e+00,\n",
            "              -2.22168898e+00, -2.44628850e+00, -2.18248736e+00],\n",
            "             [-1.59988944e-03,  6.62748385e-04,  4.26629496e-02,\n",
            "              -9.85768034e-05,  1.92419663e-03, -1.87213169e-04,\n",
            "               3.58014631e-03,  7.76457159e-03,  1.13961420e-03,\n",
            "              -2.55013736e-04, -5.49306628e-01, -3.56581423e-01,\n",
            "               2.20978224e-01,  1.82067013e+00,  1.93336591e+00,\n",
            "               3.57146454e+00,  1.61699442e+00,  3.62498486e+00,\n",
            "               2.14336215e+00,  1.56119115e+00, -3.02117484e-01,\n",
            "              -3.06865602e-01, -3.38566500e-01,  1.64676665e+00,\n",
            "               1.41052775e+00, -3.27515943e-01, -4.04576486e-01,\n",
            "               7.36016663e-01, -9.73514533e-01,  3.39235783e-01,\n",
            "               7.28903008e-01, -3.13876386e-01, -3.35903875e-01,\n",
            "              -3.73236085e-01, -3.42087163e-01, -3.53496128e-01,\n",
            "              -3.89033337e-01, -3.98437646e-01, -3.41596875e-01,\n",
            "              -3.41714823e-01, -4.11542858e-01, -4.13063394e-01,\n",
            "              -4.00319645e-01, -3.73374085e-01, -4.04710463e-01,\n",
            "              -3.71332413e-01, -4.51990370e-01, -3.48150264e-01,\n",
            "              -3.41520288e-01, -3.92077936e-01, -3.17224217e-01,\n",
            "              -3.44636606e-01, -3.57908055e-01, -3.37627675e-01],\n",
            "             [-5.20486817e-04, -8.77719645e-05,  5.25551471e-03,\n",
            "              -2.56854605e-04, -1.28223289e-04, -3.64974864e-05,\n",
            "               3.61453464e-03,  1.76964999e-03, -1.26915609e-03,\n",
            "              -5.38574640e-05, -9.11150545e-02, -6.48256442e-02,\n",
            "              -2.06533781e-01,  1.25700349e+00,  9.16023293e-01,\n",
            "               1.61969298e-01,  3.05275924e+00,  1.04595293e-01,\n",
            "               5.20364514e-01,  6.32909134e-01, -2.90372997e-02,\n",
            "              -3.88213290e-02, -4.54595597e-02, -4.87493383e-02,\n",
            "              -5.93303391e-02, -3.63469402e-02, -8.78073487e-02,\n",
            "               3.71558745e+00, -5.34469805e-02,  3.44654570e-01,\n",
            "               1.85838301e+00, -3.38673532e-02, -5.72213105e-02,\n",
            "              -7.87227433e-02, -4.30077743e-02, -5.42114434e-02,\n",
            "              -7.10417881e-02, -7.61597069e-02, -5.99199366e-02,\n",
            "              -5.31122961e-02, -9.03558164e-02, -4.57574716e-02,\n",
            "              -6.70699685e-02, -7.65485258e-02, -8.12397207e-02,\n",
            "              -8.33834047e-02, -9.35957845e-02, -4.87629263e-02,\n",
            "              -6.75664019e-02, -1.00592089e-01, -4.01657454e-02,\n",
            "              -6.82856717e-02, -6.85013751e-02, -6.12317775e-02],\n",
            "             [-1.11604542e-04, -2.00929472e-04,  9.33135884e-03,\n",
            "              -1.96576603e-04,  4.23919626e-04, -8.21848976e-05,\n",
            "               6.55591231e-03,  2.44691612e-03, -2.60183533e-03,\n",
            "              -3.53844810e-05,  1.40844341e-01, -2.27336499e-01,\n",
            "               3.70365032e-02, -3.57782170e-01, -2.28403137e-01,\n",
            "               4.04251742e-02, -5.24829455e-01,  2.09201974e-01,\n",
            "              -2.37330074e-01, -3.53235561e-01, -1.02362214e-01,\n",
            "              -1.38251148e-01, -1.68447561e-01, -3.46577940e-01,\n",
            "               5.71713519e-01, -1.32352050e-01,  9.53529543e-01,\n",
            "              -4.87041737e-01, -1.63053702e-01, -1.60229096e-01,\n",
            "               1.26791163e+00,  1.16552177e-01,  1.71730946e-01,\n",
            "              -1.15717094e-01, -1.64000654e-01, -2.00708138e-01,\n",
            "              -2.75552223e-02, -2.17234895e-01, -2.31284220e-01,\n",
            "               7.30773822e-01, -3.56638493e-01,  7.18051608e-02,\n",
            "               1.42453638e-02,  1.14153940e+00, -9.06351672e-02,\n",
            "              -1.42809543e-01, -1.43808178e-01,  2.02909164e-02,\n",
            "              -2.59744154e-01, -3.83394595e-01, -1.63809737e-01,\n",
            "              -2.53283531e-01, -2.66038092e-01, -2.32854255e-01],\n",
            "             [-7.78103903e-04,  4.52866147e-04,  1.83274333e-02,\n",
            "              -6.60197231e-04, -7.84096054e-04, -1.02279467e-04,\n",
            "               2.40364833e-03,  5.18807603e-03,  2.88233426e-03,\n",
            "              -8.61832594e-05, -3.63629730e-01, -2.49840879e-01,\n",
            "               1.44393945e-01,  1.39210232e+00,  1.88334017e+00,\n",
            "               2.01833655e+00, -2.44227333e-01,  2.38598642e-01,\n",
            "               2.13230431e+00,  9.60386392e-01, -1.58257849e-01,\n",
            "              -1.76437659e-01, -2.07005018e-01,  1.76109824e+00,\n",
            "               3.57576648e-01, -1.83744896e-01,  2.61621892e-01,\n",
            "               2.21424665e+00,  5.71617537e+00,  1.55526826e+00,\n",
            "               1.27369287e+00, -1.73872698e-01, -2.31325046e-01,\n",
            "               4.74712598e-01, -2.30645035e-01, -2.33144851e-01,\n",
            "              -2.76281986e-01, -1.96329748e-01, -2.43622959e-01,\n",
            "              -2.27468173e-01, -3.40081225e-01, -2.77322569e-01,\n",
            "              -2.66968439e-01, -2.68038077e-01, -2.93272151e-01,\n",
            "              -2.58271441e-01, -1.33807164e-01, -1.98325601e-02,\n",
            "              -2.50504692e-01, -3.37074173e-01, -1.91880163e-01,\n",
            "              -2.48535181e-01, -2.60310067e-01, -2.27788863e-01],\n",
            "             [ 1.23948997e-03, -3.58725659e-04, -1.97148610e-02,\n",
            "               2.60841393e-04,  5.56620599e-04,  1.55169807e-04,\n",
            "              -3.94392879e-03, -1.29274203e-02, -3.85948833e-03,\n",
            "               1.90843233e-04, -2.75833857e-01,  2.83878495e-01,\n",
            "               2.08610405e-01, -4.22209346e-01, -3.04533683e-01,\n",
            "              -6.31282334e-01, -5.40397049e-01, -5.45998208e-01,\n",
            "              -3.32796599e-01, -4.12380225e-01, -2.36560587e-01,\n",
            "              -3.01976197e-01, -2.58598440e-01, -6.74902370e-01,\n",
            "              -4.68015434e-01, -2.59072731e-01, -4.97210274e-01,\n",
            "              -5.04338496e-01, -2.91619668e-01, -4.59550298e-01,\n",
            "              -7.41108735e-01, -2.40029295e-01, -3.63307667e-01,\n",
            "              -4.40706390e-01, -2.09556476e-01, -2.79481560e-01,\n",
            "              -2.00343429e-01, -3.94635123e-01, -5.18244816e-01,\n",
            "              -3.60151837e-01, -1.39832343e-01, -3.55520651e-01,\n",
            "              -2.71093832e-01, -2.94160316e-01, -4.21484086e-01,\n",
            "              -2.63656312e-01, -3.86170163e-01,  2.48696341e-01,\n",
            "               4.00195204e+00,  3.39312670e+00,  6.44659577e+00,\n",
            "               3.79548855e+00,  3.78266312e+00,  3.57148189e+00]])\n",
            "Intercept: [-8.534332850537478,3.079495982861582,3.4008369633099274,1.4702627079624322,-1.1013470888866859,0.09182688944564915,0.7390816622990855,0.8541757335454868]\n"
          ],
          "name": "stdout"
        }
      ]
    },
    {
      "cell_type": "code",
      "metadata": {
        "colab_type": "code",
        "id": "kDmmU1fKcyE2",
        "colab": {
          "base_uri": "https://localhost:8080/",
          "height": 459
        },
        "outputId": "6928e586-b0c3-4a78-a843-046a572045d2"
      },
      "source": [
        "logreg_col = logreg_predictions.select(\"label\", \"prediction\", \"probability\")\n",
        "logreg_col.show()"
      ],
      "execution_count": 55,
      "outputs": [
        {
          "output_type": "stream",
          "text": [
            "+-----+----------+--------------------+\n",
            "|label|prediction|         probability|\n",
            "+-----+----------+--------------------+\n",
            "|    6|       3.0|[1.71800551040493...|\n",
            "|    6|       3.0|[4.75610247358040...|\n",
            "|    3|       3.0|[1.81349542990363...|\n",
            "|    3|       3.0|[1.77196928244528...|\n",
            "|    6|       3.0|[5.39285483860088...|\n",
            "|    6|       3.0|[5.16372867334985...|\n",
            "|    6|       3.0|[1.65655350964762...|\n",
            "|    6|       3.0|[6.50821955560934...|\n",
            "|    3|       3.0|[1.74995887815075...|\n",
            "|    6|       3.0|[5.05277957757542...|\n",
            "|    6|       3.0|[6.67213142084960...|\n",
            "|    3|       3.0|[1.80733764916097...|\n",
            "|    6|       3.0|[6.43490840214707...|\n",
            "|    6|       3.0|[5.03872134353839...|\n",
            "|    6|       3.0|[4.78137208222860...|\n",
            "|    6|       3.0|[5.07722022788283...|\n",
            "|    6|       3.0|[1.63363061979509...|\n",
            "|    6|       3.0|[4.04697815489200...|\n",
            "|    6|       3.0|[1.64594594130329...|\n",
            "|    6|       3.0|[4.91903116046195...|\n",
            "+-----+----------+--------------------+\n",
            "only showing top 20 rows\n",
            "\n"
          ],
          "name": "stdout"
        }
      ]
    },
    {
      "cell_type": "code",
      "metadata": {
        "colab_type": "code",
        "id": "R2G6XRnGc-jO",
        "colab": {
          "base_uri": "https://localhost:8080/",
          "height": 102
        },
        "outputId": "c0d23fc9-f1f5-41e6-f4e6-fb720c481ab5"
      },
      "source": [
        "logreg_evaluator = MulticlassClassificationEvaluator()\n",
        "\n",
        "accuracy = logreg_evaluator.evaluate(logreg_predictions, {logreg_evaluator.metricName: 'accuracy'})\n",
        "precision = logreg_evaluator.evaluate(logreg_predictions,{logreg_evaluator.metricName: 'weightedPrecision'})\n",
        "f1_score = logreg_evaluator.evaluate(logreg_predictions, {logreg_evaluator.metricName: 'f1'})\n",
        "recall =  logreg_evaluator.evaluate(logreg_predictions, {logreg_evaluator.metricName: 'weightedRecall'})\n",
        "print('Logistics regression accuracy : ',accuracy)\n",
        "print('Logistics regression precision : ',precision)\n",
        "print('Logistics regression f1-Score : ',f1_score)\n",
        "print('Logistics regression recall : ',recall)\n",
        "print(\"Logistics regression_test Error : %g \" % (1.0 - accuracy))"
      ],
      "execution_count": 56,
      "outputs": [
        {
          "output_type": "stream",
          "text": [
            "Logistics regression accuracy :  0.6792158715162967\n",
            "Logistics regression precision :  0.6620410653869715\n",
            "Logistics regression f1-Score :  0.6657061653210629\n",
            "Logistics regression recall :  0.6792158715162966\n",
            "Logistics regression_test Error : 0.320784 \n"
          ],
          "name": "stdout"
        }
      ]
    },
    {
      "cell_type": "code",
      "metadata": {
        "colab_type": "code",
        "id": "j_IsVmmFEPxu",
        "colab": {
          "base_uri": "https://localhost:8080/",
          "height": 102
        },
        "outputId": "b39cf40b-7399-443d-d2e4-736b891aa7cb"
      },
      "source": [
        "# logistics regression confusion matrix \n",
        "y_prediction = logreg_predictions.select('prediction')\n",
        "y_prediction_lr = y_prediction.toPandas()\n",
        "\n",
        "y_true = logreg_predictions.select('label')\n",
        "y_true_lr = y_true.toPandas()\n",
        "\n",
        "logreg_CM = confusion_matrix(y_true_lr, y_prediction_lr,labels=range(5))\n",
        "\n",
        "print(logreg_CM)"
      ],
      "execution_count": 33,
      "outputs": [
        {
          "output_type": "stream",
          "text": [
            "[[    0     0     0     0     0]\n",
            " [    0 51860 23598    75     0]\n",
            " [    0 21090 74570  2493     0]\n",
            " [    0     0  1543 11952     0]\n",
            " [    0     0     0   771     0]]\n"
          ],
          "name": "stdout"
        }
      ]
    },
    {
      "cell_type": "markdown",
      "metadata": {
        "colab_type": "text",
        "id": "_aBENcSHf-AL"
      },
      "source": [
        "# Decision tree classifier"
      ]
    },
    {
      "cell_type": "code",
      "metadata": {
        "colab_type": "code",
        "id": "6DZlBXnwgBNn",
        "colab": {
          "base_uri": "https://localhost:8080/",
          "height": 289
        },
        "outputId": "32522042-79f4-43d9-fc3a-25f3827a1387"
      },
      "source": [
        "dt = DecisionTreeClassifier(featuresCol = 'features', labelCol = 'label')\n",
        "dt_model = dt.fit(train_data)\n",
        "dt_predictions = dt_model.transform(test_data)\n",
        "dt_col = dt_predictions.select(\"label\", \"prediction\", \"probability\")\n",
        "dt_col.show(10)"
      ],
      "execution_count": 34,
      "outputs": [
        {
          "output_type": "stream",
          "text": [
            "+-----+----------+--------------------+\n",
            "|label|prediction|         probability|\n",
            "+-----+----------+--------------------+\n",
            "|    6|       3.0|[0.0,0.0,0.030067...|\n",
            "|    6|       3.0|[0.0,0.0,0.030067...|\n",
            "|    3|       3.0|[0.0,0.0,0.030067...|\n",
            "|    3|       3.0|[0.0,0.0,0.030067...|\n",
            "|    6|       4.0|[0.0,0.0,0.038280...|\n",
            "|    6|       3.0|[0.0,0.0,0.030067...|\n",
            "|    6|       3.0|[0.0,0.0,0.030067...|\n",
            "|    6|       3.0|[0.0,0.0,0.030067...|\n",
            "|    3|       3.0|[0.0,0.0,0.030067...|\n",
            "|    6|       3.0|[0.0,0.0,0.030067...|\n",
            "+-----+----------+--------------------+\n",
            "only showing top 10 rows\n",
            "\n"
          ],
          "name": "stdout"
        }
      ]
    },
    {
      "cell_type": "code",
      "metadata": {
        "colab_type": "code",
        "id": "uO39vqXuhKew",
        "colab": {
          "base_uri": "https://localhost:8080/",
          "height": 102
        },
        "outputId": "8ee7d76d-754c-4187-9fa2-9b95a6a729d1"
      },
      "source": [
        "dt_evaluator = MulticlassClassificationEvaluator()\n",
        "\n",
        "accuracy = dt_evaluator.evaluate(dt_predictions, {dt_evaluator.metricName: 'accuracy'})\n",
        "precision = dt_evaluator.evaluate(dt_predictions,{dt_evaluator.metricName: 'weightedPrecision'})\n",
        "f1_score = dt_evaluator.evaluate(dt_predictions, {dt_evaluator.metricName: 'f1'})\n",
        "recall =  dt_evaluator.evaluate(dt_predictions, {dt_evaluator.metricName: 'weightedRecall'})\n",
        "print('Decision tree accuracy : ',accuracy)\n",
        "print('Decision tree precision : ',precision)\n",
        "print('Decision tree f1-Score : ',f1_score)\n",
        "print('Decision tree recall : ',recall)\n",
        "print(\"Decision tree_test Error : %g \" % (1.0 - accuracy))"
      ],
      "execution_count": 59,
      "outputs": [
        {
          "output_type": "stream",
          "text": [
            "Decision tree accuracy :  0.7015351913084553\n",
            "Decision tree precision :  0.6947499080912228\n",
            "Decision tree f1-Score :  0.685652211287148\n",
            "Decision tree recall :  0.7015351913084554\n",
            "Decision tree_test Error : 0.298465 \n"
          ],
          "name": "stdout"
        }
      ]
    },
    {
      "cell_type": "code",
      "metadata": {
        "colab_type": "code",
        "id": "iQxGSWmVJiAQ",
        "colab": {
          "base_uri": "https://localhost:8080/",
          "height": 102
        },
        "outputId": "8b3f21d9-c5c3-4064-9219-4110e72355ea"
      },
      "source": [
        "# Decision tree confusion matrix \n",
        "y_prediction = dt_predictions.select('prediction')\n",
        "y_prediction_dt = y_prediction.toPandas()\n",
        "\n",
        "y_true = dt_predictions.select('label')\n",
        "y_true_dt = y_true.toPandas()\n",
        "\n",
        "dt_CM = confusion_matrix(y_true_dt, y_prediction_dt,labels=range(5))\n",
        "\n",
        "print(dt_CM)"
      ],
      "execution_count": 35,
      "outputs": [
        {
          "output_type": "stream",
          "text": [
            "[[    0     0     0     0     0]\n",
            " [    0 59096 16943    99     0]\n",
            " [    0 24881 70698  3249    40]\n",
            " [    0     0  1098 12760   295]\n",
            " [    0     0     0   651   415]]\n"
          ],
          "name": "stdout"
        }
      ]
    },
    {
      "cell_type": "markdown",
      "metadata": {
        "colab_type": "text",
        "id": "3fz-pu0U1cNW"
      },
      "source": [
        "# Random forest classifier "
      ]
    },
    {
      "cell_type": "code",
      "metadata": {
        "colab_type": "code",
        "id": "8MRLZ6hE1oiA",
        "colab": {
          "base_uri": "https://localhost:8080/",
          "height": 289
        },
        "outputId": "5992fead-0f46-458b-cf50-a324dc50e6da"
      },
      "source": [
        "rf = RandomForestClassifier(labelCol=\"label\", featuresCol=\"features\", numTrees=20)\n",
        "rf_model = rf.fit(train_data)\n",
        "rf_predictions = rf_model.transform(test_data)\n",
        "rf_col = rf_predictions.select(\"label\", \"prediction\", \"probability\")\n",
        "rf_col.show(10)"
      ],
      "execution_count": 36,
      "outputs": [
        {
          "output_type": "stream",
          "text": [
            "+-----+----------+--------------------+\n",
            "|label|prediction|         probability|\n",
            "+-----+----------+--------------------+\n",
            "|    6|       3.0|[0.0,0.0586643846...|\n",
            "|    6|       3.0|[0.0,0.0617813213...|\n",
            "|    3|       3.0|[0.0,0.0586643846...|\n",
            "|    3|       3.0|[0.0,0.0586643846...|\n",
            "|    6|       3.0|[0.0,0.0617813213...|\n",
            "|    6|       3.0|[0.0,0.0617813213...|\n",
            "|    6|       3.0|[0.0,0.0586643846...|\n",
            "|    6|       3.0|[0.0,0.0528514320...|\n",
            "|    3|       3.0|[0.0,0.0586643846...|\n",
            "|    6|       3.0|[0.0,0.0617813213...|\n",
            "+-----+----------+--------------------+\n",
            "only showing top 10 rows\n",
            "\n"
          ],
          "name": "stdout"
        }
      ]
    },
    {
      "cell_type": "code",
      "metadata": {
        "colab_type": "code",
        "id": "vCQQ9fFB1-qQ",
        "colab": {
          "base_uri": "https://localhost:8080/",
          "height": 102
        },
        "outputId": "5a00ae82-f49d-492c-eca3-eb4c8902615d"
      },
      "source": [
        "import requests\n",
        "rf_evaluator = MulticlassClassificationEvaluator()\n",
        "\n",
        "accuracy = rf_evaluator.evaluate(rf_predictions, {rf_evaluator.metricName: 'accuracy'})\n",
        "precision = rf_evaluator.evaluate(rf_predictions,{rf_evaluator.metricName: 'weightedPrecision'})\n",
        "f1_score = rf_evaluator.evaluate(rf_predictions, {rf_evaluator.metricName: 'f1'})\n",
        "recall =  rf_evaluator.evaluate(rf_predictions, {rf_evaluator.metricName: 'weightedRecall'})\n",
        "print('Random forest accuracy : ',accuracy)\n",
        "print('Random forest precision : ',precision)\n",
        "print('Random forest f1-Score : ',f1_score)\n",
        "print('Random forest recall : ',recall)\n",
        "print(\"Random forest_test Error : %g \" % (1.0 - accuracy))"
      ],
      "execution_count": 18,
      "outputs": [
        {
          "output_type": "stream",
          "text": [
            "Random forest accuracy :  0.6716674539442608\n",
            "Random forest precision :  0.6085124296798045\n",
            "Random forest f1-Score :  0.6385006163904332\n",
            "Random forest recall :  0.6716674539442608\n",
            "Random forest_test Error : 0.328333 \n"
          ],
          "name": "stdout"
        }
      ]
    },
    {
      "cell_type": "code",
      "metadata": {
        "colab_type": "code",
        "id": "7Z8jYI63CiQr",
        "colab": {
          "base_uri": "https://localhost:8080/",
          "height": 102
        },
        "outputId": "d4d1073f-e9e8-42b1-e7c0-e2d00a0ebee0"
      },
      "source": [
        "# Random forest confusion matrix \n",
        "y_prediction = rf_predictions.select('prediction')\n",
        "y_prediction_rf = y_prediction.toPandas()\n",
        "\n",
        "y_true = rf_predictions.select('label')\n",
        "y_true_rf = y_true.toPandas()\n",
        "\n",
        "dt_CM = confusion_matrix(y_true_rf, y_prediction_rf,labels=range(5))\n",
        "\n",
        "print(dt_CM)"
      ],
      "execution_count": 37,
      "outputs": [
        {
          "output_type": "stream",
          "text": [
            "[[    0     0     0     0     0]\n",
            " [    0 57059 21355     0     0]\n",
            " [    0 23317 74649  1209     0]\n",
            " [    0     0  5658  8495     0]\n",
            " [    0     0     0  1066     0]]\n"
          ],
          "name": "stdout"
        }
      ]
    },
    {
      "cell_type": "markdown",
      "metadata": {
        "colab_type": "text",
        "id": "jmE1Lk2hL4up"
      },
      "source": [
        "# Hypertuning parameters"
      ]
    },
    {
      "cell_type": "markdown",
      "metadata": {
        "colab_type": "text",
        "id": "IhLpFs1BJVHy"
      },
      "source": [
        "In machine learning, hyperparameter optimization or tuning is the problem of choosing a set of optimal hyperparameters for a learning algorithm. A hyperparameter is a parameter whose value is used to control the learning process. A hyperparameter is a parameter whose value is set before the learning process begins. Grid Search tuning strategy - A traditional way to perform hyperparameter optimization. It works by searching exhaustively through a specified subset of hyperparameters. Random Search tuning strategy - Random search differs from grid search mainly in that it searches the specified subset of hyperparameters randomly instead of exhaustively. The major benefit being decreased processing time. There is a tradeoff to decreased processing time, however. We aren’t guaranteed to find the optimal combination of hyperparameters. \n",
        "\n",
        "Cross validation : It is used to assess the predictive performance of the models and and to judge how they perform outside the sample to a new data set also known as test data. The motivation to use cross validation techniques is that when we fit a model, we are fitting it to a training dataset.\n",
        "\n",
        "Steps in cross validation :\n",
        "\n",
        "1.Estimator: algorithm or Pipeline to tune. \\\n",
        "2.Set of ParamMaps: parameters to choose from, sometimes called a “parameter grid” to search over. \\\n",
        "3.Evaluator: metric to measure how well a fitted Model does on held-out test data."
      ]
    },
    {
      "cell_type": "markdown",
      "metadata": {
        "colab_type": "text",
        "id": "_DRI3AiAJvLK"
      },
      "source": [
        ""
      ]
    },
    {
      "cell_type": "markdown",
      "metadata": {
        "colab_type": "text",
        "id": "e1XB5ll6Qkev"
      },
      "source": [
        "Logistics regression :"
      ]
    },
    {
      "cell_type": "code",
      "metadata": {
        "colab_type": "code",
        "id": "f6ZiupczQVpL",
        "colab": {}
      },
      "source": [
        "# Logistics regression :\n",
        "logreg_hp = LogisticRegression(featuresCol = 'features', labelCol = 'label')\n",
        "\n",
        "#tuning parameters:\n",
        "param_grid = ParamGridBuilder()\\\n",
        "    .addGrid(logreg_hp.regParam, [0.0, 0.3, 0.7]) \\\n",
        "    .addGrid(logreg_hp.elasticNetParam, [0.3, 0.4, 0.5]) \\\n",
        "    .build()\n",
        "\n",
        "evaluator_logreg= MulticlassClassificationEvaluator(metricName=\"accuracy\")\n",
        "\n",
        "#applying 3 folds cross validation\n",
        "cross_val = CrossValidator(estimator=logreg_hp, \n",
        "                               estimatorParamMaps=param_grid,\n",
        "                               evaluator = evaluator_logreg,\n",
        "                               numFolds=3\n",
        "                               )\n",
        "\n"
      ],
      "execution_count": 13,
      "outputs": []
    },
    {
      "cell_type": "code",
      "metadata": {
        "colab_type": "code",
        "id": "7iOiwBoiQi9f",
        "colab": {}
      },
      "source": [
        "# Fitting and prediction\n",
        "cvModel = cross_val.fit(train_data)\n",
        "predictions_logreg = cvModel.transform(test_data)"
      ],
      "execution_count": 14,
      "outputs": []
    },
    {
      "cell_type": "code",
      "metadata": {
        "colab_type": "code",
        "id": "m2aNkIfRg6rZ",
        "colab": {}
      },
      "source": [
        "final_evaluator = MulticlassClassificationEvaluator(metricName=\"accuracy\")\n",
        "log_hp = final_evaluator.evaluate(predictions_logreg)"
      ],
      "execution_count": 15,
      "outputs": []
    },
    {
      "cell_type": "code",
      "metadata": {
        "colab_type": "code",
        "id": "E6YCTKHjhUOJ",
        "colab": {
          "base_uri": "https://localhost:8080/",
          "height": 34
        },
        "outputId": "eb910914-c992-4c98-8ed0-7643565a075a"
      },
      "source": [
        "print(\"Logistics regression accuracy after hyperparameter tuning : \" ,log_hp)"
      ],
      "execution_count": 17,
      "outputs": [
        {
          "output_type": "stream",
          "text": [
            "Logistics regression accuracy after hyperparameter tuning :  0.706126594237128\n"
          ],
          "name": "stdout"
        }
      ]
    },
    {
      "cell_type": "markdown",
      "metadata": {
        "colab_type": "text",
        "id": "N9crfQ2RhkIG"
      },
      "source": [
        "Decision tree"
      ]
    },
    {
      "cell_type": "code",
      "metadata": {
        "colab_type": "code",
        "id": "Z9toWGZXhmkb",
        "colab": {}
      },
      "source": [
        "# decision tree\n",
        "decisiontree = DecisionTreeClassifier(featuresCol = 'features', labelCol = 'label')\n",
        "\n",
        "#tuning paramters\n",
        "param_grid = ParamGridBuilder()\\\n",
        "    .addGrid(decisiontree.maxDepth, [2,5,10]) \\\n",
        "    .addGrid(decisiontree.maxBins, [10,20,30]) \\\n",
        "    .addGrid(decisiontree.impurity,[\"gini\"])\\\n",
        "    .build()\n",
        "\n",
        "\n",
        "decisiontree_evaluator= MulticlassClassificationEvaluator(metricName=\"accuracy\")\n",
        "\n",
        "# applying 3 folds cross validation\n",
        "cv_dt = CrossValidator(estimator=decisiontree, \n",
        "                               estimatorParamMaps=param_grid,\n",
        "                               evaluator = decisiontree_evaluator,\n",
        "                               numFolds=3\n",
        "                              )"
      ],
      "execution_count": 24,
      "outputs": []
    },
    {
      "cell_type": "code",
      "metadata": {
        "colab_type": "code",
        "id": "6QhAYR5viODF",
        "colab": {}
      },
      "source": [
        "# Fitting and prediction\n",
        "cvModel_dt = cv_dt.fit(train_data)\n",
        "predictions_dt = cvModel_dt.transform(test_data)"
      ],
      "execution_count": 25,
      "outputs": []
    },
    {
      "cell_type": "code",
      "metadata": {
        "colab_type": "code",
        "id": "W0eVuzD-jX2e",
        "colab": {}
      },
      "source": [
        "final_evaluator_ = MulticlassClassificationEvaluator(metricName=\"accuracy\")\n",
        "dt_hp = final_evaluator_.evaluate(predictions_dt)"
      ],
      "execution_count": 26,
      "outputs": []
    },
    {
      "cell_type": "code",
      "metadata": {
        "colab_type": "code",
        "id": "PYNEt5P7jpQi",
        "colab": {
          "base_uri": "https://localhost:8080/",
          "height": 34
        },
        "outputId": "f8490e53-092e-4ecd-9524-4888c6c8e788"
      },
      "source": [
        "print(\"Decision tree accuracy after hyperparameter tuning : \" ,dt_hp)"
      ],
      "execution_count": 27,
      "outputs": [
        {
          "output_type": "stream",
          "text": [
            "Decision tree accuracy after hyperparameter tuning :  0.7800850259801606\n"
          ],
          "name": "stdout"
        }
      ]
    },
    {
      "cell_type": "markdown",
      "metadata": {
        "colab_type": "text",
        "id": "X4-oIJa-j0el"
      },
      "source": [
        "Random Forest :"
      ]
    },
    {
      "cell_type": "code",
      "metadata": {
        "colab_type": "code",
        "id": "HRgd-tGBjx_K",
        "colab": {}
      },
      "source": [
        "# Random forest:\n",
        "Randomforest = RandomForestClassifier(featuresCol = 'features', labelCol = 'label')\n",
        "\n",
        "# tuning paramteres:\n",
        "param_grid = ParamGridBuilder() \\\n",
        "    .addGrid(Randomforest.maxDepth,[2,5,10]) \\\n",
        "    .addGrid(Randomforest.numTrees,[20,40,80]) \\\n",
        "    .build()\n",
        "\n",
        "randomforest_evaluator= MulticlassClassificationEvaluator(metricName=\"accuracy\")\n",
        "\n",
        "# applying 3 folds cross validation\n",
        "cv_rf = CrossValidator(estimator=Randomforest, \n",
        "                               estimatorParamMaps=param_grid,\n",
        "                               evaluator = randomforest_evaluator,\n",
        "                               numFolds=3\n",
        "                               )"
      ],
      "execution_count": 18,
      "outputs": []
    },
    {
      "cell_type": "code",
      "metadata": {
        "colab_type": "code",
        "id": "NLZIQVU5kLjH",
        "colab": {}
      },
      "source": [
        "# Fitting and prediction\n",
        "cvModel_rf = cv_rf.fit(train_data)\n",
        "predictions_rf = cvModel_rf.transform(test_data)"
      ],
      "execution_count": 19,
      "outputs": []
    },
    {
      "cell_type": "code",
      "metadata": {
        "colab_type": "code",
        "id": "xcLAOqCLsDKw",
        "colab": {}
      },
      "source": [
        "final_evaluator_rf = MulticlassClassificationEvaluator(metricName=\"accuracy\")\n",
        "rf_hp = final_evaluator_rf.evaluate(predictions_rf)"
      ],
      "execution_count": 21,
      "outputs": []
    },
    {
      "cell_type": "code",
      "metadata": {
        "colab_type": "code",
        "id": "OwvCrSHzsQpI",
        "colab": {
          "base_uri": "https://localhost:8080/",
          "height": 34
        },
        "outputId": "b94b5e3f-64e8-46c2-9e41-afa94c6ff7b5"
      },
      "source": [
        "print(\"Random forest accuracy after hyperparameter tuning : \" ,rf_hp)"
      ],
      "execution_count": 22,
      "outputs": [
        {
          "output_type": "stream",
          "text": [
            "Random forest accuracy after hyperparameter tuning :  0.7302456306093529\n"
          ],
          "name": "stdout"
        }
      ]
    },
    {
      "cell_type": "markdown",
      "metadata": {
        "colab_type": "text",
        "id": "c1OrkKAq03Qj"
      },
      "source": [
        "# Prediction analysis"
      ]
    },
    {
      "cell_type": "markdown",
      "metadata": {
        "colab_type": "text",
        "id": "UEbfnpx7sqdk"
      },
      "source": [
        "Getting the true and predicted value after hyper tuning parameters of three models"
      ]
    },
    {
      "cell_type": "code",
      "metadata": {
        "colab_type": "code",
        "id": "VuXMBjUdsyO2",
        "colab": {}
      },
      "source": [
        "# Logistics regression\n",
        "y_prediction = predictions_logreg.select('prediction')\n",
        "y_prediction_log_hp = y_prediction.toPandas()\n",
        "y_true = predictions_logreg.select('label')\n",
        "y_true_log_hp = y_true.toPandas()\n",
        "\n",
        "# Decision tree\n",
        "y_prediction = predictions_dt.select('prediction')\n",
        "y_prediction_dt_hp = y_prediction.toPandas()\n",
        "y_true = predictions_dt.select('label')\n",
        "y_true_dt_hp = y_true.toPandas()\n",
        "\n",
        "# Random forest\n",
        "y_prediction = predictions_rf.select('prediction')\n",
        "y_prediction_rf_hp = y_prediction.toPandas()\n",
        "y_true = predictions_rf.select('label')\n",
        "y_true_rf_hp = y_true.toPandas()"
      ],
      "execution_count": 28,
      "outputs": []
    },
    {
      "cell_type": "markdown",
      "metadata": {
        "colab_type": "text",
        "id": "d-HXxaBSHINU"
      },
      "source": [
        "ROC-AUC score \\\n",
        "An ROC curve (receiver operating characteristic curve) is a graph showing the performance of a classification model at all classification thresholds. This curve plots two parameters:\n",
        "\n",
        "1.True Positive Rate = TP/(TP+FN)\n",
        "2.False Positive Rate = FP/(FP+TN)\n",
        "\n",
        "Computed Area Under the Receiver Operating Characteristic Curve (ROC AUC) from prediction scores.\n",
        "\n",
        "ROC - AUC score ranges from low 0.5 to high 1.0\n",
        "\n",
        "\n",
        " \n"
      ]
    },
    {
      "cell_type": "code",
      "metadata": {
        "colab_type": "code",
        "id": "-RQgC8v3IUmX",
        "colab": {}
      },
      "source": [
        "# Roc curve function: Since it is a multiclass classification dataset, pyspark doesnt have library to calculate roc curve. Hence Sklearn is used here.\n",
        "def multiclass_classification_roc_auc_score(y_test, y_pred, average=\"macro\"):\n",
        "    lb = LabelBinarizer()\n",
        "    lb.fit(y_test)\n",
        "    y_test = lb.transform(y_test)\n",
        "    y_pred = lb.transform(y_pred)\n",
        "    return roc_auc_score(y_test, y_pred, average=average)\n"
      ],
      "execution_count": 29,
      "outputs": []
    },
    {
      "cell_type": "code",
      "metadata": {
        "colab_type": "code",
        "id": "fHjqNtL5LZn6",
        "colab": {
          "base_uri": "https://localhost:8080/",
          "height": 68
        },
        "outputId": "2e4f8c0d-1eb6-49bb-93bb-cc0969ae3e8f"
      },
      "source": [
        "# Printing Roc value of the models before hyper tuning:\n",
        "print('logistics regression ROC AUC score:', multiclass_classification_roc_auc_score(y_true_lr,y_prediction_lr))\n",
        "print('Decision tree ROC AUC score:', multiclass_classification_roc_auc_score(y_true_dt,y_prediction_dt))\n",
        "print('Random forest ROC AUC score:', multiclass_classification_roc_auc_score(y_true_rf,y_prediction_rf))\n"
      ],
      "execution_count": 38,
      "outputs": [
        {
          "output_type": "stream",
          "text": [
            "logistics regression ROC AUC score: 0.6737376403476303\n",
            "Decision tree ROC AUC score: 0.7019721119721758\n",
            "Random forest ROC AUC score: 0.608035307071314\n"
          ],
          "name": "stdout"
        }
      ]
    },
    {
      "cell_type": "code",
      "metadata": {
        "colab_type": "code",
        "id": "6tu4QuTUuSpA",
        "colab": {
          "base_uri": "https://localhost:8080/",
          "height": 68
        },
        "outputId": "bdb99d11-9746-4b28-a0a2-4b960709950d"
      },
      "source": [
        "# Printing Roc value of the model after hypertuning:\n",
        "print('Hyper_tuned logistics regression  ROC AUC score:', multiclass_classification_roc_auc_score(y_true_log_hp,y_prediction_log_hp))\n",
        "print('Hyper_tuned Decision tree ROC AUC score:', multiclass_classification_roc_auc_score(y_true_dt_hp,y_prediction_dt_hp))\n",
        "print('Hyper_tuned Random forest ROC AUC score:', multiclass_classification_roc_auc_score(y_true_rf_hp,y_prediction_rf_hp))\n"
      ],
      "execution_count": 39,
      "outputs": [
        {
          "output_type": "stream",
          "text": [
            "Hyper_tuned logistics regression  ROC AUC score: 0.69765274378896\n",
            "Hyper_tuned Decision tree ROC AUC score: 0.765949719404438\n",
            "Hyper_tuned Random forest ROC AUC score: 0.7032132838182857\n"
          ],
          "name": "stdout"
        }
      ]
    },
    {
      "cell_type": "code",
      "metadata": {
        "colab_type": "code",
        "id": "zwXGhLZvs5OB",
        "colab": {
          "base_uri": "https://localhost:8080/",
          "height": 289
        },
        "outputId": "c183fa1e-b2af-4e93-a9cb-da7b0c078375"
      },
      "source": [
        "# Decision tree has more accuracy , hence looking at its table \n",
        "df_hp_col = predictions_dt.select(\"label\", \"prediction\", \"probability\")\n",
        "df_hp_col.show(10)"
      ],
      "execution_count": 40,
      "outputs": [
        {
          "output_type": "stream",
          "text": [
            "+-----+----------+--------------------+\n",
            "|label|prediction|         probability|\n",
            "+-----+----------+--------------------+\n",
            "|    6|       3.0|[0.0,0.0,0.046246...|\n",
            "|    6|       3.0|[0.0,0.0,0.026742...|\n",
            "|    3|       3.0|[0.0,0.0,0.046246...|\n",
            "|    3|       3.0|[0.0,0.0,0.046246...|\n",
            "|    6|       4.0|[0.0,0.0,0.05,0.2...|\n",
            "|    6|       3.0|[0.0,0.0,0.046246...|\n",
            "|    6|       3.0|[0.0,0.0,0.046246...|\n",
            "|    6|       3.0|[0.0,0.0,0.046246...|\n",
            "|    3|       3.0|[0.0,0.0,0.046246...|\n",
            "|    6|       3.0|[0.0,0.0,0.046246...|\n",
            "+-----+----------+--------------------+\n",
            "only showing top 10 rows\n",
            "\n"
          ],
          "name": "stdout"
        }
      ]
    },
    {
      "cell_type": "code",
      "metadata": {
        "colab_type": "code",
        "id": "iPJ7KjAJt0wu",
        "colab": {
          "base_uri": "https://localhost:8080/",
          "height": 34
        },
        "outputId": "8a940cff-ef37-4fa6-da23-23ea71abefd6"
      },
      "source": [
        "# Converting decision tree df to pandas to get the size of the label.\n",
        "df_hp_pd = df_hp_col.toPandas()\n",
        "df_hp_pd['label'].size"
      ],
      "execution_count": 41,
      "outputs": [
        {
          "output_type": "execute_result",
          "data": {
            "text/plain": [
              "211700"
            ]
          },
          "metadata": {
            "tags": []
          },
          "execution_count": 41
        }
      ]
    },
    {
      "cell_type": "code",
      "metadata": {
        "colab_type": "code",
        "id": "cKPbtq5Ftc2f",
        "colab": {
          "base_uri": "https://localhost:8080/",
          "height": 34
        },
        "outputId": "c4c0a1f7-8a96-4389-dce6-44253cab4494"
      },
      "source": [
        "df_hp_pd.columns"
      ],
      "execution_count": 42,
      "outputs": [
        {
          "output_type": "execute_result",
          "data": {
            "text/plain": [
              "Index(['label', 'prediction', 'probability'], dtype='object')"
            ]
          },
          "metadata": {
            "tags": []
          },
          "execution_count": 42
        }
      ]
    },
    {
      "cell_type": "code",
      "metadata": {
        "colab_type": "code",
        "id": "khP2EKdPuiCL",
        "colab": {}
      },
      "source": [
        "results = df_hp_pd.groupby('label').size()"
      ],
      "execution_count": 43,
      "outputs": []
    },
    {
      "cell_type": "code",
      "metadata": {
        "colab_type": "code",
        "id": "D1INVKreurnk",
        "colab": {
          "base_uri": "https://localhost:8080/",
          "height": 170
        },
        "outputId": "f3081a34-981c-47d2-83cd-50083e4f795e"
      },
      "source": [
        "results #the total number of growth accroding to label."
      ],
      "execution_count": 44,
      "outputs": [
        {
          "output_type": "execute_result",
          "data": {
            "text/plain": [
              "label\n",
              "1    78414\n",
              "2    99175\n",
              "3    14153\n",
              "4     1066\n",
              "5     3660\n",
              "6     7000\n",
              "7     8232\n",
              "dtype: int64"
            ]
          },
          "metadata": {
            "tags": []
          },
          "execution_count": 44
        }
      ]
    },
    {
      "cell_type": "markdown",
      "metadata": {
        "colab_type": "text",
        "id": "5NZDuuQi1fDq"
      },
      "source": [
        "# Conclusion"
      ]
    },
    {
      "cell_type": "markdown",
      "metadata": {
        "colab_type": "text",
        "id": "tlPMm0qF1w7H"
      },
      "source": [
        "Thus Decision tree classifier produces accuracy of 0.78 .\n",
        "\n",
        "Most cover_type : Label 2 (Lodgepole Pine tree) \\\n",
        "Least cover _type : Label 4 (Cottonwood/Willow tree)\n",
        "\n",
        "\n",
        "Hence the growth of Lodgepole pine tree is more , as per decision tree classifier prediction .\n",
        "\n",
        "\n",
        "\n",
        "\n"
      ]
    }
  ]
}